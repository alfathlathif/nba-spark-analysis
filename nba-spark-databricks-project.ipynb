{
 "cells": [
  {
   "cell_type": "markdown",
   "metadata": {
    "application/vnd.databricks.v1+cell": {
     "cellMetadata": {
      "byteLimit": 2048000,
      "rowLimit": 10000
     },
     "inputWidgets": {},
     "nuid": "5385460d-9ec5-40bf-a2b4-8f9a0190225f",
     "showTitle": false,
     "title": ""
    }
   },
   "source": [
    "<h1><b>Preparation</b></h1>"
   ]
  },
  {
   "cell_type": "code",
   "execution_count": 0,
   "metadata": {
    "application/vnd.databricks.v1+cell": {
     "cellMetadata": {
      "byteLimit": 2048000,
      "rowLimit": 10000
     },
     "inputWidgets": {},
     "nuid": "8c2baee8-657b-4864-a025-72d307c7f49c",
     "showTitle": false,
     "title": ""
    }
   },
   "outputs": [
    {
     "output_type": "display_data",
     "data": {
      "text/html": [
       "<style scoped>\n",
       "  .table-result-container {\n",
       "    max-height: 300px;\n",
       "    overflow: auto;\n",
       "  }\n",
       "  table, th, td {\n",
       "    border: 1px solid black;\n",
       "    border-collapse: collapse;\n",
       "  }\n",
       "  th, td {\n",
       "    padding: 5px;\n",
       "  }\n",
       "  th {\n",
       "    text-align: left;\n",
       "  }\n",
       "</style><div class='table-result-container'><table class='table-result'><thead style='background-color: white'><tr><th>path</th><th>name</th><th>size</th><th>modificationTime</th></tr></thead><tbody><tr><td>dbfs:/FileStore/shared_uploads/alfathns1932@gmail.com/nba-spark-databricks-project/Advanced.csv</td><td>Advanced.csv</td><td>4527798</td><td>1722005111000</td></tr><tr><td>dbfs:/FileStore/shared_uploads/alfathns1932@gmail.com/nba-spark-databricks-project/All_Star_Selections.csv</td><td>All_Star_Selections.csv</td><td>67946</td><td>1722005105000</td></tr><tr><td>dbfs:/FileStore/shared_uploads/alfathns1932@gmail.com/nba-spark-databricks-project/End_of_Season_Teams.csv</td><td>End_of_Season_Teams.csv</td><td>130844</td><td>1722005106000</td></tr><tr><td>dbfs:/FileStore/shared_uploads/alfathns1932@gmail.com/nba-spark-databricks-project/End_of_Season_Teams__Voting_.csv</td><td>End_of_Season_Teams__Voting_.csv</td><td>340892</td><td>1722005105000</td></tr><tr><td>dbfs:/FileStore/shared_uploads/alfathns1932@gmail.com/nba-spark-databricks-project/Opponent_Stats_Per_100_Poss.csv</td><td>Opponent_Stats_Per_100_Poss.csv</td><td>206522</td><td>1722005107000</td></tr><tr><td>dbfs:/FileStore/shared_uploads/alfathns1932@gmail.com/nba-spark-databricks-project/Opponent_Stats_Per_Game.csv</td><td>Opponent_Stats_Per_Game.csv</td><td>259732</td><td>1722005107000</td></tr><tr><td>dbfs:/FileStore/shared_uploads/alfathns1932@gmail.com/nba-spark-databricks-project/Opponent_Totals.csv</td><td>Opponent_Totals.csv</td><td>263022</td><td>1722005107000</td></tr><tr><td>dbfs:/FileStore/shared_uploads/alfathns1932@gmail.com/nba-spark-databricks-project/Per_100_Poss.csv</td><td>Per_100_Poss.csv</td><td>4028957</td><td>1722005111000</td></tr><tr><td>dbfs:/FileStore/shared_uploads/alfathns1932@gmail.com/nba-spark-databricks-project/Per_36_Minutes.csv</td><td>Per_36_Minutes.csv</td><td>4561571</td><td>1722005106000</td></tr><tr><td>dbfs:/FileStore/shared_uploads/alfathns1932@gmail.com/nba-spark-databricks-project/Player_Award_Shares.csv</td><td>Player_Award_Shares.csv</td><td>213623</td><td>1722005102000</td></tr><tr><td>dbfs:/FileStore/shared_uploads/alfathns1932@gmail.com/nba-spark-databricks-project/Player_Career_Info.csv</td><td>Player_Career_Info.csv</td><td>206430</td><td>1722005103000</td></tr><tr><td>dbfs:/FileStore/shared_uploads/alfathns1932@gmail.com/nba-spark-databricks-project/Player_Per_Game.csv</td><td>Player_Per_Game.csv</td><td>4712989</td><td>1722005104000</td></tr><tr><td>dbfs:/FileStore/shared_uploads/alfathns1932@gmail.com/nba-spark-databricks-project/Player_Play_By_Play.csv</td><td>Player_Play_By_Play.csv</td><td>1745579</td><td>1722005101000</td></tr><tr><td>dbfs:/FileStore/shared_uploads/alfathns1932@gmail.com/nba-spark-databricks-project/Player_Season_Info.csv</td><td>Player_Season_Info.csv</td><td>1535837</td><td>1722005100000</td></tr><tr><td>dbfs:/FileStore/shared_uploads/alfathns1932@gmail.com/nba-spark-databricks-project/Player_Shooting.csv</td><td>Player_Shooting.csv</td><td>2699746</td><td>1722005098000</td></tr><tr><td>dbfs:/FileStore/shared_uploads/alfathns1932@gmail.com/nba-spark-databricks-project/Player_Totals.csv</td><td>Player_Totals.csv</td><td>4463599</td><td>1722005099000</td></tr><tr><td>dbfs:/FileStore/shared_uploads/alfathns1932@gmail.com/nba-spark-databricks-project/Team_Abbrev.csv</td><td>Team_Abbrev.csv</td><td>65316</td><td>1722005094000</td></tr><tr><td>dbfs:/FileStore/shared_uploads/alfathns1932@gmail.com/nba-spark-databricks-project/Team_Stats_Per_100_Poss.csv</td><td>Team_Stats_Per_100_Poss.csv</td><td>206398</td><td>1722005093000</td></tr><tr><td>dbfs:/FileStore/shared_uploads/alfathns1932@gmail.com/nba-spark-databricks-project/Team_Stats_Per_Game.csv</td><td>Team_Stats_Per_Game.csv</td><td>265904</td><td>1722005094000</td></tr><tr><td>dbfs:/FileStore/shared_uploads/alfathns1932@gmail.com/nba-spark-databricks-project/Team_Summaries.csv</td><td>Team_Summaries.csv</td><td>321567</td><td>1722005093000</td></tr><tr><td>dbfs:/FileStore/shared_uploads/alfathns1932@gmail.com/nba-spark-databricks-project/Team_Totals.csv</td><td>Team_Totals.csv</td><td>269196</td><td>1722005093000</td></tr></tbody></table></div>"
      ]
     },
     "metadata": {
      "application/vnd.databricks.v1+output": {
       "addedWidgets": {},
       "aggData": [],
       "aggError": "",
       "aggOverflow": false,
       "aggSchema": [],
       "aggSeriesLimitReached": false,
       "aggType": "",
       "arguments": {},
       "columnCustomDisplayInfos": {},
       "data": [
        [
         "dbfs:/FileStore/shared_uploads/alfathns1932@gmail.com/nba-spark-databricks-project/Advanced.csv",
         "Advanced.csv",
         4527798,
         1722005111000
        ],
        [
         "dbfs:/FileStore/shared_uploads/alfathns1932@gmail.com/nba-spark-databricks-project/All_Star_Selections.csv",
         "All_Star_Selections.csv",
         67946,
         1722005105000
        ],
        [
         "dbfs:/FileStore/shared_uploads/alfathns1932@gmail.com/nba-spark-databricks-project/End_of_Season_Teams.csv",
         "End_of_Season_Teams.csv",
         130844,
         1722005106000
        ],
        [
         "dbfs:/FileStore/shared_uploads/alfathns1932@gmail.com/nba-spark-databricks-project/End_of_Season_Teams__Voting_.csv",
         "End_of_Season_Teams__Voting_.csv",
         340892,
         1722005105000
        ],
        [
         "dbfs:/FileStore/shared_uploads/alfathns1932@gmail.com/nba-spark-databricks-project/Opponent_Stats_Per_100_Poss.csv",
         "Opponent_Stats_Per_100_Poss.csv",
         206522,
         1722005107000
        ],
        [
         "dbfs:/FileStore/shared_uploads/alfathns1932@gmail.com/nba-spark-databricks-project/Opponent_Stats_Per_Game.csv",
         "Opponent_Stats_Per_Game.csv",
         259732,
         1722005107000
        ],
        [
         "dbfs:/FileStore/shared_uploads/alfathns1932@gmail.com/nba-spark-databricks-project/Opponent_Totals.csv",
         "Opponent_Totals.csv",
         263022,
         1722005107000
        ],
        [
         "dbfs:/FileStore/shared_uploads/alfathns1932@gmail.com/nba-spark-databricks-project/Per_100_Poss.csv",
         "Per_100_Poss.csv",
         4028957,
         1722005111000
        ],
        [
         "dbfs:/FileStore/shared_uploads/alfathns1932@gmail.com/nba-spark-databricks-project/Per_36_Minutes.csv",
         "Per_36_Minutes.csv",
         4561571,
         1722005106000
        ],
        [
         "dbfs:/FileStore/shared_uploads/alfathns1932@gmail.com/nba-spark-databricks-project/Player_Award_Shares.csv",
         "Player_Award_Shares.csv",
         213623,
         1722005102000
        ],
        [
         "dbfs:/FileStore/shared_uploads/alfathns1932@gmail.com/nba-spark-databricks-project/Player_Career_Info.csv",
         "Player_Career_Info.csv",
         206430,
         1722005103000
        ],
        [
         "dbfs:/FileStore/shared_uploads/alfathns1932@gmail.com/nba-spark-databricks-project/Player_Per_Game.csv",
         "Player_Per_Game.csv",
         4712989,
         1722005104000
        ],
        [
         "dbfs:/FileStore/shared_uploads/alfathns1932@gmail.com/nba-spark-databricks-project/Player_Play_By_Play.csv",
         "Player_Play_By_Play.csv",
         1745579,
         1722005101000
        ],
        [
         "dbfs:/FileStore/shared_uploads/alfathns1932@gmail.com/nba-spark-databricks-project/Player_Season_Info.csv",
         "Player_Season_Info.csv",
         1535837,
         1722005100000
        ],
        [
         "dbfs:/FileStore/shared_uploads/alfathns1932@gmail.com/nba-spark-databricks-project/Player_Shooting.csv",
         "Player_Shooting.csv",
         2699746,
         1722005098000
        ],
        [
         "dbfs:/FileStore/shared_uploads/alfathns1932@gmail.com/nba-spark-databricks-project/Player_Totals.csv",
         "Player_Totals.csv",
         4463599,
         1722005099000
        ],
        [
         "dbfs:/FileStore/shared_uploads/alfathns1932@gmail.com/nba-spark-databricks-project/Team_Abbrev.csv",
         "Team_Abbrev.csv",
         65316,
         1722005094000
        ],
        [
         "dbfs:/FileStore/shared_uploads/alfathns1932@gmail.com/nba-spark-databricks-project/Team_Stats_Per_100_Poss.csv",
         "Team_Stats_Per_100_Poss.csv",
         206398,
         1722005093000
        ],
        [
         "dbfs:/FileStore/shared_uploads/alfathns1932@gmail.com/nba-spark-databricks-project/Team_Stats_Per_Game.csv",
         "Team_Stats_Per_Game.csv",
         265904,
         1722005094000
        ],
        [
         "dbfs:/FileStore/shared_uploads/alfathns1932@gmail.com/nba-spark-databricks-project/Team_Summaries.csv",
         "Team_Summaries.csv",
         321567,
         1722005093000
        ],
        [
         "dbfs:/FileStore/shared_uploads/alfathns1932@gmail.com/nba-spark-databricks-project/Team_Totals.csv",
         "Team_Totals.csv",
         269196,
         1722005093000
        ]
       ],
       "datasetInfos": [],
       "dbfsResultPath": null,
       "isJsonSchema": true,
       "metadata": {
        "isDbfsCommandResult": false
       },
       "overflow": false,
       "plotOptions": {
        "customPlotOptions": {},
        "displayType": "table",
        "pivotAggregation": null,
        "pivotColumns": null,
        "xColumns": null,
        "yColumns": null
       },
       "removedWidgets": [],
       "schema": [
        {
         "metadata": "{}",
         "name": "path",
         "type": "\"string\""
        },
        {
         "metadata": "{}",
         "name": "name",
         "type": "\"string\""
        },
        {
         "metadata": "{}",
         "name": "size",
         "type": "\"long\""
        },
        {
         "metadata": "{}",
         "name": "modificationTime",
         "type": "\"long\""
        }
       ],
       "type": "table"
      }
     },
     "output_type": "display_data"
    }
   ],
   "source": [
    "%fs ls /FileStore/shared_uploads/alfathns1932@gmail.com/nba-spark-databricks-project"
   ]
  },
  {
   "cell_type": "code",
   "execution_count": 0,
   "metadata": {
    "application/vnd.databricks.v1+cell": {
     "cellMetadata": {
      "byteLimit": 2048000,
      "rowLimit": 10000
     },
     "inputWidgets": {},
     "nuid": "a45656ea-2ebb-41ad-9325-626838340fbc",
     "showTitle": false,
     "title": ""
    }
   },
   "outputs": [],
   "source": [
    "import pandas as pd\n",
    "import seaborn as sns\n",
    "import matplotlib.pyplot as plt\n",
    "import seaborn as sns\n",
    "import numpy as np"
   ]
  },
  {
   "cell_type": "code",
   "execution_count": 0,
   "metadata": {
    "application/vnd.databricks.v1+cell": {
     "cellMetadata": {
      "byteLimit": 2048000,
      "rowLimit": 10000
     },
     "inputWidgets": {},
     "nuid": "b7ba3f79-cd3c-4248-8c32-7b3b27db2f1b",
     "showTitle": false,
     "title": ""
    }
   },
   "outputs": [],
   "source": [
    "from matplotlib.ticker import FuncFormatter\n",
    "\n",
    "from pyspark.sql import SparkSession\n",
    "\n",
    "# Library used to set up data type format\n",
    "from pyspark.sql.types import StructField, StructType, IntegerType, StringType, BooleanType, DateType, DecimalType\n",
    "\n",
    "# Import sql function\n",
    "from pyspark.sql.functions import col, when, sum, avg, row_number, round, rank, count, lit\n",
    "\n",
    "from pyspark.sql.window import Window"
   ]
  },
  {
   "cell_type": "code",
   "execution_count": 0,
   "metadata": {
    "application/vnd.databricks.v1+cell": {
     "cellMetadata": {
      "byteLimit": 2048000,
      "rowLimit": 10000
     },
     "collapsed": true,
     "inputWidgets": {},
     "nuid": "1bf8cf9b-7507-42ca-b8bf-6345aecef224",
     "showTitle": false,
     "title": ""
    }
   },
   "outputs": [
    {
     "output_type": "display_data",
     "data": {
      "text/html": [
       "\n",
       "            <div>\n",
       "                <p><b>SparkSession - hive</b></p>\n",
       "                \n",
       "        <div>\n",
       "            <p><b>SparkContext</b></p>\n",
       "\n",
       "            <p><a href=\"/?o=804044819874360#setting/sparkui/0727-172755-wszc8dg8/driver-2601931468181950213\">Spark UI</a></p>\n",
       "\n",
       "            <dl>\n",
       "              <dt>Version</dt>\n",
       "                <dd><code>v3.3.2</code></dd>\n",
       "              <dt>Master</dt>\n",
       "                <dd><code>local[8]</code></dd>\n",
       "              <dt>AppName</dt>\n",
       "                <dd><code>Databricks Shell</code></dd>\n",
       "            </dl>\n",
       "        </div>\n",
       "        \n",
       "            </div>\n",
       "        "
      ]
     },
     "metadata": {
      "application/vnd.databricks.v1+output": {
       "addedWidgets": {},
       "arguments": {},
       "data": "\n            <div>\n                <p><b>SparkSession - hive</b></p>\n                \n        <div>\n            <p><b>SparkContext</b></p>\n\n            <p><a href=\"/?o=804044819874360#setting/sparkui/0727-172755-wszc8dg8/driver-2601931468181950213\">Spark UI</a></p>\n\n            <dl>\n              <dt>Version</dt>\n                <dd><code>v3.3.2</code></dd>\n              <dt>Master</dt>\n                <dd><code>local[8]</code></dd>\n              <dt>AppName</dt>\n                <dd><code>Databricks Shell</code></dd>\n            </dl>\n        </div>\n        \n            </div>\n        ",
       "datasetInfos": [],
       "metadata": {},
       "removedWidgets": [],
       "textData": null,
       "type": "htmlSandbox"
      }
     },
     "output_type": "display_data"
    }
   ],
   "source": [
    "# Create session\n",
    "spark = SparkSession.builder.appName(\"NBA Spark Databricks Project\").getOrCreate()\n",
    "\n",
    "spark"
   ]
  },
  {
   "cell_type": "markdown",
   "metadata": {
    "application/vnd.databricks.v1+cell": {
     "cellMetadata": {
      "byteLimit": 2048000,
      "rowLimit": 10000
     },
     "inputWidgets": {},
     "nuid": "ab4b3bde-3b4c-45b7-85ca-ffb0d11eb75e",
     "showTitle": false,
     "title": ""
    }
   },
   "source": [
    "<h1><b>Load Data</b></h1>"
   ]
  },
  {
   "cell_type": "code",
   "execution_count": 0,
   "metadata": {
    "application/vnd.databricks.v1+cell": {
     "cellMetadata": {
      "byteLimit": 2048000,
      "rowLimit": 10000
     },
     "collapsed": true,
     "inputWidgets": {},
     "nuid": "20030a4f-67b9-4648-9ea0-730097fa99f0",
     "showTitle": false,
     "title": ""
    }
   },
   "outputs": [
    {
     "output_type": "stream",
     "name": "stdout",
     "output_type": "stream",
     "text": [
      "+-------+------+---------+-----------+----------+---+---+----------+---+---+---+---+------+----------+------+-----+-----------+-----------+-----------+-----------+-----------+-----------+-----------+-----------+-----+-----+-----+-----+------+------+------+------+\n|seas_id|season|player_id|     player|birth_year|pos|age|experience| lg| tm|  g| mp|   per|ts_percent|x3p_ar| f_tr|orb_percent|drb_percent|trb_percent|ast_percent|stl_percent|blk_percent|tov_percent|usg_percent|  ows|  dws|   ws|ws_48|  obpm|  dbpm|   bpm|  vorp|\n+-------+------+---------+-----------+----------+---+---+----------+---+---+---+---+------+----------+------+-----+-----------+-----------+-----------+-----------+-----------+-----------+-----------+-----------+-----+-----+-----+-----+------+------+------+------+\n|  31136|  2024|     5025| A.J. Green|      null| SG| 24|         2|NBA|MIL| 56|614|10.500|     0.617| 0.862|0.097|      1.600|      9.600|      5.700|      6.400|      0.700|      0.600|      5.500|     15.200|0.700|0.300|1.100|0.084|-0.400|-1.700|-2.100| 0.000|\n|  31137|  2024|     5026|A.J. Lawson|      null| SG| 23|         2|NBA|DAL| 42|311|11.200|     0.519| 0.413|0.190|      4.900|     12.600|      8.800|      8.900|      1.500|      0.800|      9.600|     20.000|0.000|0.300|0.200|0.036|-3.100|-1.500|-4.600|-0.200|\n+-------+------+---------+-----------+----------+---+---+----------+---+---+---+---+------+----------+------+-----+-----------+-----------+-----------+-----------+-----------+-----------+-----------+-----------+-----+-----+-----+-----+------+------+------+------+\nonly showing top 2 rows\n\n"
     ]
    }
   ],
   "source": [
    "# Define data schema (best practices)\n",
    "advanced_schema = StructType([\n",
    "    StructField(\"seas_id\", IntegerType(), True),\n",
    "    StructField(\"season\", IntegerType(), True),\n",
    "    StructField(\"player_id\", IntegerType(), True),\n",
    "    StructField(\"player\", StringType(), True),\n",
    "    StructField(\"birth_year\", IntegerType(), True),\n",
    "    StructField(\"pos\", StringType(), True),\n",
    "    StructField(\"age\", IntegerType(), True),\n",
    "    StructField(\"experience\", IntegerType(), True),\n",
    "    StructField(\"lg\", StringType(), True),\n",
    "    StructField(\"tm\", StringType(), True),\n",
    "    StructField(\"g\", IntegerType(), True),\n",
    "    StructField(\"mp\", IntegerType(), True),\n",
    "    StructField(\"per\", DecimalType(5, 3), True),\n",
    "    StructField(\"ts_percent\", DecimalType(5, 3), True),\n",
    "    StructField(\"x3p_ar\", DecimalType(5, 3), True),\n",
    "    StructField(\"f_tr\", DecimalType(5, 3), True),\n",
    "    StructField(\"orb_percent\", DecimalType(5, 3), True),\n",
    "    StructField(\"drb_percent\", DecimalType(5, 3), True),\n",
    "    StructField(\"trb_percent\", DecimalType(5, 3), True),\n",
    "    StructField(\"ast_percent\", DecimalType(5, 3), True),\n",
    "    StructField(\"stl_percent\", DecimalType(5, 3), True),\n",
    "    StructField(\"blk_percent\", DecimalType(5, 3), True),\n",
    "    StructField(\"tov_percent\", DecimalType(5, 3), True),\n",
    "    StructField(\"usg_percent\", DecimalType(5, 3), True),\n",
    "    StructField(\"ows\", DecimalType(5, 3), True),\n",
    "    StructField(\"dws\", DecimalType(5, 3), True),\n",
    "    StructField(\"ws\", DecimalType(5, 3), True),\n",
    "    StructField(\"ws_48\", DecimalType(5, 3), True),\n",
    "    StructField(\"obpm\", DecimalType(5, 3), True),\n",
    "    StructField(\"dbpm\", DecimalType(5, 3), True),\n",
    "    StructField(\"bpm\", DecimalType(5, 3), True),\n",
    "    StructField(\"vorp\", DecimalType(5, 3), True)\n",
    "])\n",
    "\n",
    "# Read CSV file\n",
    "advanced_df = spark.read.schema(advanced_schema).format(\"csv\").option(\"header\", \"true\").load(\"dbfs:/FileStore/shared_uploads/alfathns1932@gmail.com/nba-spark-databricks-project/Advanced.csv\")\n",
    "\n",
    "# Show data\n",
    "advanced_df.show(2)\n"
   ]
  },
  {
   "cell_type": "code",
   "execution_count": 0,
   "metadata": {
    "application/vnd.databricks.v1+cell": {
     "cellMetadata": {
      "byteLimit": 2048000,
      "rowLimit": 10000
     },
     "collapsed": true,
     "inputWidgets": {},
     "nuid": "36c0fb3f-47b0-46ef-b20c-fd432f39d7bf",
     "showTitle": false,
     "title": ""
    }
   },
   "outputs": [
    {
     "output_type": "stream",
     "name": "stdout",
     "output_type": "stream",
     "text": [
      "+--------------------+----+---+------+--------+\n|              player|team| lg|season|replaced|\n+--------------------+----+---+------+--------+\n|         Bam Adebayo|East|NBA|  2024|   false|\n|Giannis Antetokou...|East|NBA|  2024|   false|\n+--------------------+----+---+------+--------+\nonly showing top 2 rows\n\n"
     ]
    }
   ],
   "source": [
    "all_star_selections_schema = StructType([\n",
    "    StructField(\"player\", StringType(), True),\n",
    "    StructField(\"team\", StringType(), True),\n",
    "    StructField(\"lg\", StringType(), True),\n",
    "    StructField(\"season\", IntegerType(), True),\n",
    "    StructField(\"replaced\", BooleanType(), True)\n",
    "])\n",
    "\n",
    "# Read CSV file\n",
    "all_star_selections_df = spark.read.schema(all_star_selections_schema).format(\"csv\").option(\"header\", \"true\").load(\"dbfs:/FileStore/shared_uploads/alfathns1932@gmail.com/nba-spark-databricks-project/All_Star_Selections.csv\")\n",
    "\n",
    "# Show data\n",
    "all_star_selections_df.show(2)"
   ]
  },
  {
   "cell_type": "code",
   "execution_count": 0,
   "metadata": {
    "application/vnd.databricks.v1+cell": {
     "cellMetadata": {
      "byteLimit": 2048000,
      "rowLimit": 10000
     },
     "collapsed": true,
     "inputWidgets": {},
     "nuid": "2d1a0114-ec9e-4369-ba5f-b11b84301b52",
     "showTitle": false,
     "title": ""
    }
   },
   "outputs": [
    {
     "output_type": "stream",
     "name": "stdout",
     "output_type": "stream",
     "text": [
      "+------+---+-----------+---------+--------+-----------------+---+---+-------+-------+-----+-------+-------+-------+-------+---------+\n|season| lg|       type|number_tm|position|           player|age| tm|pts_won|pts_max|share|x1st_tm|x2nd_tm|x3rd_tm|seas_id|player_id|\n+------+---+-----------+---------+--------+-----------------+---+---+-------+-------+-----+-------+-------+-------+-------+---------+\n|  2024|NBA|All-Defense|      1st|       C|      Rudy Gobert| 31|MIN|    198|    198|1.000|   null|   null|   null|  31747|     4199|\n|  2024|NBA|All-Defense|      1st|       C|Victor Wembanyama| 20|SAS|    184|    198|0.929|   null|   null|   null|  31850|     5209|\n+------+---+-----------+---------+--------+-----------------+---+---+-------+-------+-----+-------+-------+-------+-------+---------+\nonly showing top 2 rows\n\n"
     ]
    }
   ],
   "source": [
    "end_of_season_teams_voting_schema = StructType([\n",
    "    StructField(\"season\", IntegerType(), True),\n",
    "    StructField(\"lg\", StringType(), True),\n",
    "    StructField(\"type\", StringType(), True),\n",
    "    StructField(\"number_tm\", StringType(), True),\n",
    "    StructField(\"position\", StringType(), True),\n",
    "    StructField(\"player\", StringType(), True),\n",
    "    StructField(\"age\", IntegerType(), True),\n",
    "    StructField(\"tm\", StringType(), True),\n",
    "    StructField(\"pts_won\", IntegerType(), True),\n",
    "    StructField(\"pts_max\", IntegerType(), True),\n",
    "    StructField(\"share\", DecimalType(5, 3), True),\n",
    "    StructField(\"x1st_tm\", IntegerType(), True),\n",
    "    StructField(\"x2nd_tm\", IntegerType(), True),\n",
    "    StructField(\"x3rd_tm\", IntegerType(), True),\n",
    "    StructField(\"seas_id\", IntegerType(), True),\n",
    "    StructField(\"player_id\", IntegerType(), True)\n",
    "])\n",
    "\n",
    "# Read CSV file\n",
    "end_of_season_teams_voting_df = spark.read.schema(end_of_season_teams_voting_schema).format(\"csv\").option(\"header\", \"true\").load(\"dbfs:/FileStore/shared_uploads/alfathns1932@gmail.com/nba-spark-databricks-project/End_of_Season_Teams__Voting_.csv\")\n",
    "\n",
    "# Show data\n",
    "end_of_season_teams_voting_df.show(2)"
   ]
  },
  {
   "cell_type": "code",
   "execution_count": 0,
   "metadata": {
    "application/vnd.databricks.v1+cell": {
     "cellMetadata": {
      "byteLimit": 2048000,
      "rowLimit": 10000
     },
     "collapsed": true,
     "inputWidgets": {},
     "nuid": "2ada51cb-d453-4c64-b6ea-94fa70ef3603",
     "showTitle": false,
     "title": ""
    }
   },
   "outputs": [
    {
     "output_type": "stream",
     "name": "stdout",
     "output_type": "stream",
     "text": [
      "+------+---+-----------+---------+-----------------+--------+-------+---------+----------+---+\n|season| lg|       type|number_tm|           player|position|seas_id|player_id|birth_year| tm|\n+------+---+-----------+---------+-----------------+--------+-------+---------+----------+---+\n|  2024|NBA|All-Defense|      1st|      Rudy Gobert|      NA|  31747|     4199|      null|MIN|\n|  2024|NBA|All-Defense|      1st|Victor Wembanyama|      NA|  31850|     5209|      null|SAS|\n+------+---+-----------+---------+-----------------+--------+-------+---------+----------+---+\nonly showing top 2 rows\n\n"
     ]
    }
   ],
   "source": [
    "end_of_season_teams_schema = StructType([\n",
    "    StructField(\"season\", IntegerType(), True),\n",
    "    StructField(\"lg\", StringType(), True),\n",
    "    StructField(\"type\", StringType(), True),\n",
    "    StructField(\"number_tm\", StringType(), True),\n",
    "    StructField(\"player\", StringType(), True),\n",
    "    StructField(\"position\", StringType(), True),\n",
    "    StructField(\"seas_id\", IntegerType(), True),\n",
    "    StructField(\"player_id\", IntegerType(), True),\n",
    "    StructField(\"birth_year\", IntegerType(), True),\n",
    "    StructField(\"tm\", StringType(), True)\n",
    "])\n",
    "\n",
    "# Read CSV file\n",
    "end_of_season_teams_df = spark.read.schema(end_of_season_teams_schema).format(\"csv\").option(\"header\", \"true\").load(\"dbfs:/FileStore/shared_uploads/alfathns1932@gmail.com/nba-spark-databricks-project/End_of_Season_Teams.csv\")\n",
    "\n",
    "# Show data\n",
    "end_of_season_teams_df.show(2)"
   ]
  },
  {
   "cell_type": "code",
   "execution_count": 0,
   "metadata": {
    "application/vnd.databricks.v1+cell": {
     "cellMetadata": {
      "byteLimit": 2048000,
      "rowLimit": 10000
     },
     "collapsed": true,
     "inputWidgets": {},
     "nuid": "d6e53a3a-c2d1-4ffd-af04-44bd80efea26",
     "showTitle": false,
     "title": ""
    }
   },
   "outputs": [
    {
     "output_type": "stream",
     "name": "stdout",
     "output_type": "stream",
     "text": [
      "+------+---+--------------+------------+--------+---+-----+-------------------+--------------------+--------------+--------------------+---------------------+---------------+--------------------+---------------------+---------------+-------------------+--------------------+--------------+--------------------+--------------------+--------------------+--------------------+--------------------+--------------------+--------------------+-------------------+--------------------+\n|season| lg|          team|abbreviation|playoffs|  g|   mp|opp_fg_per_100_poss|opp_fga_per_100_poss|opp_fg_percent|opp_x3p_per_100_poss|opp_x3pa_per_100_poss|opp_x3p_percent|opp_x2p_per_100_poss|opp_x2pa_per_100_poss|opp_x2p_percent|opp_ft_per_100_poss|opp_fta_per_100_poss|opp_ft_percent|opp_orb_per_100_poss|opp_drb_per_100_poss|opp_trb_per_100_poss|opp_ast_per_100_poss|opp_stl_per_100_poss|opp_blk_per_100_poss|opp_tov_per_100_poss|opp_pf_per_100_poss|opp_pts_per_100_poss|\n+------+---+--------------+------------+--------+---+-----+-------------------+--------------------+--------------+--------------------+---------------------+---------------+--------------------+---------------------+---------------+-------------------+--------------------+--------------+--------------------+--------------------+--------------------+--------------------+--------------------+--------------------+--------------------+-------------------+--------------------+\n|  2024|NBA| Atlanta Hawks|         ATL|   false| 82|19855|             44.200|              89.300|         0.495|              13.900|               36.100|          0.384|              30.300|               53.200|          0.570|             17.100|              21.600|         0.792|              10.500|              33.300|              43.800|              27.900|               7.700|               5.600|              14.000|             19.300|                null|\n|  2024|NBA|Boston Celtics|         BOS|    true| 82|19830|             42.400|              93.600|         0.453|              13.200|               37.500|          0.352|              29.200|               56.100|          0.520|             13.600|              17.700|         0.768|              11.300|              33.000|              44.300|              25.400|               6.400|               3.800|              12.300|             17.600|                null|\n+------+---+--------------+------------+--------+---+-----+-------------------+--------------------+--------------+--------------------+---------------------+---------------+--------------------+---------------------+---------------+-------------------+--------------------+--------------+--------------------+--------------------+--------------------+--------------------+--------------------+--------------------+--------------------+-------------------+--------------------+\nonly showing top 2 rows\n\n"
     ]
    }
   ],
   "source": [
    "opponent_stats_per_100_poss_schema = StructType([\n",
    "    StructField(\"season\", IntegerType(), True),\n",
    "    StructField(\"lg\", StringType(), True),\n",
    "    StructField(\"team\", StringType(), True),\n",
    "    StructField(\"abbreviation\", StringType(), True),\n",
    "    StructField(\"playoffs\", BooleanType(), True),\n",
    "    StructField(\"g\", IntegerType(), True),\n",
    "    StructField(\"mp\", IntegerType(), True),\n",
    "    StructField(\"opp_fg_per_100_poss\", DecimalType(5, 3), True),\n",
    "    StructField(\"opp_fga_per_100_poss\", DecimalType(5, 3), True),\n",
    "    StructField(\"opp_fg_percent\", DecimalType(5, 3), True),\n",
    "    StructField(\"opp_x3p_per_100_poss\", DecimalType(5, 3), True),\n",
    "    StructField(\"opp_x3pa_per_100_poss\", DecimalType(5, 3), True),\n",
    "    StructField(\"opp_x3p_percent\", DecimalType(5, 3), True),\n",
    "    StructField(\"opp_x2p_per_100_poss\", DecimalType(5, 3), True),\n",
    "    StructField(\"opp_x2pa_per_100_poss\", DecimalType(5, 3), True),\n",
    "    StructField(\"opp_x2p_percent\", DecimalType(5, 3), True),\n",
    "    StructField(\"opp_ft_per_100_poss\", DecimalType(5, 3), True),\n",
    "    StructField(\"opp_fta_per_100_poss\", DecimalType(5, 3), True),\n",
    "    StructField(\"opp_ft_percent\", DecimalType(5, 3), True),\n",
    "    StructField(\"opp_orb_per_100_poss\", DecimalType(5, 3), True),\n",
    "    StructField(\"opp_drb_per_100_poss\", DecimalType(5, 3), True),\n",
    "    StructField(\"opp_trb_per_100_poss\", DecimalType(5, 3), True),\n",
    "    StructField(\"opp_ast_per_100_poss\", DecimalType(5, 3), True),\n",
    "    StructField(\"opp_stl_per_100_poss\", DecimalType(5, 3), True),\n",
    "    StructField(\"opp_blk_per_100_poss\", DecimalType(5, 3), True),\n",
    "    StructField(\"opp_tov_per_100_poss\", DecimalType(5, 3), True),\n",
    "    StructField(\"opp_pf_per_100_poss\", DecimalType(5, 3), True),\n",
    "    StructField(\"opp_pts_per_100_poss\", DecimalType(5, 3), True)\n",
    "])\n",
    "\n",
    "# Read CSV file\n",
    "opponent_stats_per_100_poss_df = spark.read.schema(opponent_stats_per_100_poss_schema).format(\"csv\").option(\"header\", \"true\").load(\"dbfs:/FileStore/shared_uploads/alfathns1932@gmail.com/nba-spark-databricks-project/Opponent_Stats_Per_100_Poss.csv\")\n",
    "\n",
    "# Show data\n",
    "opponent_stats_per_100_poss_df.show(2)"
   ]
  },
  {
   "cell_type": "code",
   "execution_count": 0,
   "metadata": {
    "application/vnd.databricks.v1+cell": {
     "cellMetadata": {
      "byteLimit": 2048000,
      "rowLimit": 10000
     },
     "collapsed": true,
     "inputWidgets": {},
     "nuid": "770ffdda-4ec7-4af8-898b-5a32637e4bdd",
     "showTitle": false,
     "title": ""
    }
   },
   "outputs": [
    {
     "output_type": "stream",
     "name": "stdout",
     "output_type": "stream",
     "text": [
      "+------+---+--------------+------------+--------+---+-----------+---------------+----------------+--------------+----------------+-----------------+---------------+----------------+-----------------+---------------+---------------+----------------+--------------+----------------+----------------+----------------+----------------+----------------+----------------+----------------+---------------+----------------+\n|season| lg|          team|abbreviation|playoffs|  g|mp_per_game|opp_fg_per_game|opp_fga_per_game|opp_fg_percent|opp_x3p_per_game|opp_x3pa_per_game|opp_x3p_percent|opp_x2p_per_game|opp_x2pa_per_game|opp_x2p_percent|opp_ft_per_game|opp_fta_per_game|opp_ft_percent|opp_orb_per_game|opp_drb_per_game|opp_trb_per_game|opp_ast_per_game|opp_stl_per_game|opp_blk_per_game|opp_tov_per_game|opp_pf_per_game|opp_pts_per_game|\n+------+---+--------------+------------+--------+---+-----------+---------------+----------------+--------------+----------------+-----------------+---------------+----------------+-----------------+---------------+---------------+----------------+--------------+----------------+----------------+----------------+----------------+----------------+----------------+----------------+---------------+----------------+\n|  2024|NBA| Atlanta Hawks|         ATL|   false| 82|       null|         44.600|          90.200|         0.495|          14.000|           36.400|          0.384|          30.600|           53.700|          0.570|         17.300|          21.800|         0.792|          10.600|          33.600|          44.200|          28.200|           7.800|           5.600|          14.100|         19.400|            null|\n|  2024|NBA|Boston Celtics|         BOS|    true| 82|       null|         41.500|          91.600|         0.453|          12.900|           36.700|          0.352|          28.600|           55.000|          0.520|         13.300|          17.300|         0.768|          11.100|          32.300|          43.300|          24.900|           6.200|           3.700|          12.000|         17.300|            null|\n+------+---+--------------+------------+--------+---+-----------+---------------+----------------+--------------+----------------+-----------------+---------------+----------------+-----------------+---------------+---------------+----------------+--------------+----------------+----------------+----------------+----------------+----------------+----------------+----------------+---------------+----------------+\nonly showing top 2 rows\n\n"
     ]
    }
   ],
   "source": [
    "opponent_stats_per_game_schema = StructType([\n",
    "    StructField(\"season\", IntegerType(), True),\n",
    "    StructField(\"lg\", StringType(), True),\n",
    "    StructField(\"team\", StringType(), True),\n",
    "    StructField(\"abbreviation\", StringType(), True),\n",
    "    StructField(\"playoffs\", BooleanType(), True),\n",
    "    StructField(\"g\", IntegerType(), True),\n",
    "    StructField(\"mp_per_game\", DecimalType(5, 3), True),\n",
    "    StructField(\"opp_fg_per_game\", DecimalType(5, 3), True),\n",
    "    StructField(\"opp_fga_per_game\", DecimalType(5, 3), True),\n",
    "    StructField(\"opp_fg_percent\", DecimalType(5, 3), True),\n",
    "    StructField(\"opp_x3p_per_game\", DecimalType(5, 3), True),\n",
    "    StructField(\"opp_x3pa_per_game\", DecimalType(5, 3), True),\n",
    "    StructField(\"opp_x3p_percent\", DecimalType(5, 3), True),\n",
    "    StructField(\"opp_x2p_per_game\", DecimalType(5, 3), True),\n",
    "    StructField(\"opp_x2pa_per_game\", DecimalType(5, 3), True),\n",
    "    StructField(\"opp_x2p_percent\", DecimalType(5, 3), True),\n",
    "    StructField(\"opp_ft_per_game\", DecimalType(5, 3), True),\n",
    "    StructField(\"opp_fta_per_game\", DecimalType(5, 3), True),\n",
    "    StructField(\"opp_ft_percent\", DecimalType(5, 3), True),\n",
    "    StructField(\"opp_orb_per_game\", DecimalType(5, 3), True),\n",
    "    StructField(\"opp_drb_per_game\", DecimalType(5, 3), True),\n",
    "    StructField(\"opp_trb_per_game\", DecimalType(5, 3), True),\n",
    "    StructField(\"opp_ast_per_game\", DecimalType(5, 3), True),\n",
    "    StructField(\"opp_stl_per_game\", DecimalType(5, 3), True),\n",
    "    StructField(\"opp_blk_per_game\", DecimalType(5, 3), True),\n",
    "    StructField(\"opp_tov_per_game\", DecimalType(5, 3), True),\n",
    "    StructField(\"opp_pf_per_game\", DecimalType(5, 3), True),\n",
    "    StructField(\"opp_pts_per_game\", DecimalType(5, 3), True)\n",
    "])\n",
    "\n",
    "# Read CSV file\n",
    "opponent_stats_per_game_df = spark.read.schema(opponent_stats_per_game_schema).format(\"csv\").option(\"header\", \"true\").load(\"dbfs:/FileStore/shared_uploads/alfathns1932@gmail.com/nba-spark-databricks-project/Opponent_Stats_Per_Game.csv\")\n",
    "\n",
    "# Show data\n",
    "opponent_stats_per_game_df.show(2)"
   ]
  },
  {
   "cell_type": "code",
   "execution_count": 0,
   "metadata": {
    "application/vnd.databricks.v1+cell": {
     "cellMetadata": {
      "byteLimit": 2048000,
      "rowLimit": 10000
     },
     "collapsed": true,
     "inputWidgets": {},
     "nuid": "99c3ce66-a32e-401d-9593-7692469eb370",
     "showTitle": false,
     "title": ""
    }
   },
   "outputs": [
    {
     "output_type": "stream",
     "name": "stdout",
     "output_type": "stream",
     "text": [
      "+------+---+--------------+------------+--------+---+-----+------+-------+--------------+-------+--------+---------------+-------+--------+---------------+------+-------+--------------+-------+-------+-------+-------+-------+-------+-------+------+-------+\n|season| lg|          team|abbreviation|playoffs|  g|   mp|opp_fg|opp_fga|opp_fg_percent|opp_x3p|opp_x3pa|opp_x3p_percent|opp_x2p|opp_x2pa|opp_x2p_percent|opp_ft|opp_fta|opp_ft_percent|opp_orb|opp_drb|opp_trb|opp_ast|opp_stl|opp_blk|opp_tov|opp_pf|opp_pts|\n+------+---+--------------+------------+--------+---+-----+------+-------+--------------+-------+--------+---------------+-------+--------+---------------+------+-------+--------------+-------+-------+-------+-------+-------+-------+-------+------+-------+\n|  2024|NBA| Atlanta Hawks|         ATL|   false| 82|19855|  3659|   7394|         0.495|   1147|    2987|          0.384|   2512|    4407|          0.570|  1417|   1790|         0.792|    870|   2758|   3628|   2314|    638|    461|   1158|  1594|   9882|\n|  2024|NBA|Boston Celtics|         BOS|    true| 82|19830|  3403|   7515|         0.453|   1059|    3008|          0.352|   2344|    4507|          0.520|  1092|   1422|         0.768|    907|   2645|   3552|   2042|    510|    304|    986|  1416|   8957|\n+------+---+--------------+------------+--------+---+-----+------+-------+--------------+-------+--------+---------------+-------+--------+---------------+------+-------+--------------+-------+-------+-------+-------+-------+-------+-------+------+-------+\nonly showing top 2 rows\n\n"
     ]
    }
   ],
   "source": [
    "opponent_totals_schema = StructType([\n",
    "    StructField(\"season\", IntegerType(), True),\n",
    "    StructField(\"lg\", StringType(), True),\n",
    "    StructField(\"team\", StringType(), True),\n",
    "    StructField(\"abbreviation\", StringType(), True),\n",
    "    StructField(\"playoffs\", BooleanType(), True),\n",
    "    StructField(\"g\", IntegerType(), True),\n",
    "    StructField(\"mp\", IntegerType(), True),\n",
    "    StructField(\"opp_fg\", IntegerType(), True),\n",
    "    StructField(\"opp_fga\", IntegerType(), True),\n",
    "    StructField(\"opp_fg_percent\", DecimalType(5, 3), True),\n",
    "    StructField(\"opp_x3p\", IntegerType(), True),\n",
    "    StructField(\"opp_x3pa\", IntegerType(), True),\n",
    "    StructField(\"opp_x3p_percent\", DecimalType(5, 3), True),\n",
    "    StructField(\"opp_x2p\", IntegerType(), True),\n",
    "    StructField(\"opp_x2pa\", IntegerType(), True),\n",
    "    StructField(\"opp_x2p_percent\", DecimalType(5, 3), True),\n",
    "    StructField(\"opp_ft\", IntegerType(), True),\n",
    "    StructField(\"opp_fta\", IntegerType(), True),\n",
    "    StructField(\"opp_ft_percent\", DecimalType(5, 3), True),\n",
    "    StructField(\"opp_orb\", IntegerType(), True),\n",
    "    StructField(\"opp_drb\", IntegerType(), True),\n",
    "    StructField(\"opp_trb\", IntegerType(), True),\n",
    "    StructField(\"opp_ast\", IntegerType(), True),\n",
    "    StructField(\"opp_stl\", IntegerType(), True),\n",
    "    StructField(\"opp_blk\", IntegerType(), True),\n",
    "    StructField(\"opp_tov\", IntegerType(), True),\n",
    "    StructField(\"opp_pf\", IntegerType(), True),\n",
    "    StructField(\"opp_pts\", IntegerType(), True)\n",
    "])\n",
    "# Read CSV file\n",
    "opponent_totals_df = spark.read.schema(opponent_totals_schema).format(\"csv\").option(\"header\", \"true\").load(\"dbfs:/FileStore/shared_uploads/alfathns1932@gmail.com/nba-spark-databricks-project/Opponent_Totals.csv\")\n",
    "\n",
    "# Show data\n",
    "opponent_totals_df.show(2)"
   ]
  },
  {
   "cell_type": "code",
   "execution_count": 0,
   "metadata": {
    "application/vnd.databricks.v1+cell": {
     "cellMetadata": {
      "byteLimit": 2048000,
      "rowLimit": 10000
     },
     "collapsed": true,
     "inputWidgets": {},
     "nuid": "3a0304e8-b587-44f4-939c-b96444bc27b4",
     "showTitle": false,
     "title": ""
    }
   },
   "outputs": [
    {
     "output_type": "stream",
     "name": "stdout",
     "output_type": "stream",
     "text": [
      "+-------+------+---------+-----------+----------+---+---+----------+---+---+---+---+---+---------------+----------------+----------+----------------+-----------------+-----------+----------------+-----------------+-----------+---------------+----------------+----------+----------------+----------------+----------------+----------------+----------------+----------------+----------------+---------------+----------------+-----+-----+\n|seas_id|season|player_id|     player|birth_year|pos|age|experience| lg| tm|  g| gs| mp|fg_per_100_poss|fga_per_100_poss|fg_percent|x3p_per_100_poss|x3pa_per_100_poss|x3p_percent|x2p_per_100_poss|x2pa_per_100_poss|x2p_percent|ft_per_100_poss|fta_per_100_poss|ft_percent|orb_per_100_poss|drb_per_100_poss|trb_per_100_poss|ast_per_100_poss|stl_per_100_poss|blk_per_100_poss|tov_per_100_poss|pf_per_100_poss|pts_per_100_poss|o_rtg|d_rtg|\n+-------+------+---------+-----------+----------+---+---+----------+---+---+---+---+---+---------------+----------------+----------+----------------+-----------------+-----------+----------------+-----------------+-----------+---------------+----------------+----------+----------------+----------------+----------------+----------------+----------------+----------------+----------------+---------------+----------------+-----+-----+\n|  31136|  2024|     5025| A.J. Green|      null| SG| 24|         2|NBA|MIL| 56|  0|614|          6.500|          15.300|     0.423|           5.400|           13.200|      0.408|           1.100|            2.100|      0.519|          1.300|           1.500|     0.895|           0.700|           4.300|           5.000|           2.300|           0.700|           0.300|           0.900|          3.800|          19.700|  122|  120|\n|  31137|  2024|     5026|A.J. Lawson|      null| SG| 23|         2|NBA|DAL| 42|  0|311|          8.300|          18.700|     0.446|           2.000|            7.700|      0.260|           6.300|           11.000|      0.577|          2.300|           3.500|     0.652|           2.200|           5.600|           7.700|           3.100|           1.500|           0.500|           2.200|          3.400|          21.000|  105|  117|\n+-------+------+---------+-----------+----------+---+---+----------+---+---+---+---+---+---------------+----------------+----------+----------------+-----------------+-----------+----------------+-----------------+-----------+---------------+----------------+----------+----------------+----------------+----------------+----------------+----------------+----------------+----------------+---------------+----------------+-----+-----+\nonly showing top 2 rows\n\n"
     ]
    }
   ],
   "source": [
    "per_100_poss_schema = StructType([\n",
    "    StructField(\"seas_id\", IntegerType(), True),\n",
    "    StructField(\"season\", IntegerType(), True),\n",
    "    StructField(\"player_id\", IntegerType(), True),\n",
    "    StructField(\"player\", StringType(), True),\n",
    "    StructField(\"birth_year\", IntegerType(), True),\n",
    "    StructField(\"pos\", StringType(), True),\n",
    "    StructField(\"age\", IntegerType(), True),\n",
    "    StructField(\"experience\", IntegerType(), True),\n",
    "    StructField(\"lg\", StringType(), True),\n",
    "    StructField(\"tm\", StringType(), True),\n",
    "    StructField(\"g\", IntegerType(), True),\n",
    "    StructField(\"gs\", IntegerType(), True),\n",
    "    StructField(\"mp\", IntegerType(), True),\n",
    "    StructField(\"fg_per_100_poss\", DecimalType(5, 3), True),\n",
    "    StructField(\"fga_per_100_poss\", DecimalType(5, 3), True),\n",
    "    StructField(\"fg_percent\", DecimalType(5, 3), True),\n",
    "    StructField(\"x3p_per_100_poss\", DecimalType(5, 3), True),\n",
    "    StructField(\"x3pa_per_100_poss\", DecimalType(5, 3), True),\n",
    "    StructField(\"x3p_percent\", DecimalType(5, 3), True),\n",
    "    StructField(\"x2p_per_100_poss\", DecimalType(5, 3), True),\n",
    "    StructField(\"x2pa_per_100_poss\", DecimalType(5, 3), True),\n",
    "    StructField(\"x2p_percent\", DecimalType(5, 3), True),\n",
    "    StructField(\"ft_per_100_poss\", DecimalType(5, 3), True),\n",
    "    StructField(\"fta_per_100_poss\", DecimalType(5, 3), True),\n",
    "    StructField(\"ft_percent\", DecimalType(5, 3), True),\n",
    "    StructField(\"orb_per_100_poss\", DecimalType(5, 3), True),\n",
    "    StructField(\"drb_per_100_poss\", DecimalType(5, 3), True),\n",
    "    StructField(\"trb_per_100_poss\", DecimalType(5, 3), True),\n",
    "    StructField(\"ast_per_100_poss\", DecimalType(5, 3), True),\n",
    "    StructField(\"stl_per_100_poss\", DecimalType(5, 3), True),\n",
    "    StructField(\"blk_per_100_poss\", DecimalType(5, 3), True),\n",
    "    StructField(\"tov_per_100_poss\", DecimalType(5, 3), True),\n",
    "    StructField(\"pf_per_100_poss\", DecimalType(5, 3), True),\n",
    "    StructField(\"pts_per_100_poss\", DecimalType(5, 3), True),\n",
    "    StructField(\"o_rtg\", IntegerType(), True),\n",
    "    StructField(\"d_rtg\", IntegerType(), True)\n",
    "])\n",
    "\n",
    "# Read CSV file\n",
    "per_100_poss_df = spark.read.schema(per_100_poss_schema).format(\"csv\").option(\"header\", \"true\").load(\"dbfs:/FileStore/shared_uploads/alfathns1932@gmail.com/nba-spark-databricks-project/Per_100_Poss.csv\")\n",
    "\n",
    "# Show data\n",
    "per_100_poss_df.show(2)"
   ]
  },
  {
   "cell_type": "code",
   "execution_count": 0,
   "metadata": {
    "application/vnd.databricks.v1+cell": {
     "cellMetadata": {
      "byteLimit": 2048000,
      "rowLimit": 10000
     },
     "collapsed": true,
     "inputWidgets": {},
     "nuid": "ed566e0a-9261-43bb-8d02-8e4668f47968",
     "showTitle": false,
     "title": ""
    }
   },
   "outputs": [
    {
     "output_type": "stream",
     "name": "stdout",
     "output_type": "stream",
     "text": [
      "+-------+------+---------+-----------+----------+---+---+----------+---+---+---+---+---+-------------+--------------+----------+--------------+---------------+-----------+--------------+---------------+-----------+-------------+--------------+----------+--------------+--------------+--------------+--------------+--------------+--------------+--------------+-------------+--------------+\n|seas_id|season|player_id|     player|birth_year|pos|age|experience| lg| tm|  g| gs| mp|fg_per_36_min|fga_per_36_min|fg_percent|x3p_per_36_min|x3pa_per_36_min|x3p_percent|x2p_per_36_min|x2pa_per_36_min|x2p_percent|ft_per_36_min|fta_per_36_min|ft_percent|orb_per_36_min|drb_per_36_min|trb_per_36_min|ast_per_36_min|stl_per_36_min|blk_per_36_min|tov_per_36_min|pf_per_36_min|pts_per_36_min|\n+-------+------+---------+-----------+----------+---+---+----------+---+---+---+---+---+-------------+--------------+----------+--------------+---------------+-----------+--------------+---------------+-----------+-------------+--------------+----------+--------------+--------------+--------------+--------------+--------------+--------------+--------------+-------------+--------------+\n|  31136|  2024|     5025| A.J. Green|      null| SG| 24|         2|NBA|MIL| 56|  0|614|        4.900|        11.500|     0.423|         4.000|          9.900|      0.408|         0.800|          1.600|      0.519|        1.000|         1.100|     0.895|         0.500|         3.200|         3.800|         1.800|         0.500|         0.200|         0.700|        2.900|        14.800|\n|  31137|  2024|     5026|A.J. Lawson|      null| SG| 23|         2|NBA|DAL| 42|  0|311|        6.300|        14.000|     0.446|         1.500|          5.800|      0.260|         4.700|          8.200|      0.577|        1.700|         2.700|     0.652|         1.600|         4.200|         5.800|         2.300|         1.200|         0.300|         1.600|        2.500|        15.700|\n+-------+------+---------+-----------+----------+---+---+----------+---+---+---+---+---+-------------+--------------+----------+--------------+---------------+-----------+--------------+---------------+-----------+-------------+--------------+----------+--------------+--------------+--------------+--------------+--------------+--------------+--------------+-------------+--------------+\nonly showing top 2 rows\n\n"
     ]
    }
   ],
   "source": [
    "per_36_minutes_schema = StructType([\n",
    "    StructField(\"seas_id\", IntegerType(), True),\n",
    "    StructField(\"season\", IntegerType(), True),\n",
    "    StructField(\"player_id\", IntegerType(), True),\n",
    "    StructField(\"player\", StringType(), True),\n",
    "    StructField(\"birth_year\", IntegerType(), True),\n",
    "    StructField(\"pos\", StringType(), True),\n",
    "    StructField(\"age\", IntegerType(), True),\n",
    "    StructField(\"experience\", IntegerType(), True),\n",
    "    StructField(\"lg\", StringType(), True),\n",
    "    StructField(\"tm\", StringType(), True),\n",
    "    StructField(\"g\", IntegerType(), True),\n",
    "    StructField(\"gs\", IntegerType(), True),\n",
    "    StructField(\"mp\", IntegerType(), True),\n",
    "    StructField(\"fg_per_36_min\", DecimalType(5, 3), True),\n",
    "    StructField(\"fga_per_36_min\", DecimalType(5, 3), True),\n",
    "    StructField(\"fg_percent\", DecimalType(5, 3), True),\n",
    "    StructField(\"x3p_per_36_min\", DecimalType(5, 3), True),\n",
    "    StructField(\"x3pa_per_36_min\", DecimalType(5, 3), True),\n",
    "    StructField(\"x3p_percent\", DecimalType(5, 3), True),\n",
    "    StructField(\"x2p_per_36_min\", DecimalType(5, 3), True),\n",
    "    StructField(\"x2pa_per_36_min\", DecimalType(5, 3), True),\n",
    "    StructField(\"x2p_percent\", DecimalType(5, 3), True),\n",
    "    StructField(\"ft_per_36_min\", DecimalType(5, 3), True),\n",
    "    StructField(\"fta_per_36_min\", DecimalType(5, 3), True),\n",
    "    StructField(\"ft_percent\", DecimalType(5, 3), True),\n",
    "    StructField(\"orb_per_36_min\", DecimalType(5, 3), True),\n",
    "    StructField(\"drb_per_36_min\", DecimalType(5, 3), True),\n",
    "    StructField(\"trb_per_36_min\", DecimalType(5, 3), True),\n",
    "    StructField(\"ast_per_36_min\", DecimalType(5, 3), True),\n",
    "    StructField(\"stl_per_36_min\", DecimalType(5, 3), True),\n",
    "    StructField(\"blk_per_36_min\", DecimalType(5, 3), True),\n",
    "    StructField(\"tov_per_36_min\", DecimalType(5, 3), True),\n",
    "    StructField(\"pf_per_36_min\", DecimalType(5, 3), True),\n",
    "    StructField(\"pts_per_36_min\", DecimalType(5, 3), True)\n",
    "])\n",
    "\n",
    "# Read CSV file\n",
    "per_36_minutes_df = spark.read.schema(per_36_minutes_schema).format(\"csv\").option(\"header\", \"true\").load(\"dbfs:/FileStore/shared_uploads/alfathns1932@gmail.com/nba-spark-databricks-project/Per_36_Minutes.csv\")\n",
    "\n",
    "# Show data\n",
    "per_36_minutes_df.show(2)"
   ]
  },
  {
   "cell_type": "code",
   "execution_count": 0,
   "metadata": {
    "application/vnd.databricks.v1+cell": {
     "cellMetadata": {
      "byteLimit": 2048000,
      "rowLimit": 10000
     },
     "collapsed": true,
     "inputWidgets": {},
     "nuid": "161efc10-8b39-4c60-9584-effc1ab2e4e7",
     "showTitle": false,
     "title": ""
    }
   },
   "outputs": [
    {
     "output_type": "stream",
     "name": "stdout",
     "output_type": "stream",
     "text": [
      "+------+----------+-------------+---+---+-----+-------+-------+-----+------+-------+---------+\n|season|     award|       player|age| tm|first|pts_won|pts_max|share|winner|seas_id|player_id|\n+------+----------+-------------+---+---+-----+-------+-------+-----+------+-------+---------+\n|  2024|clutch_poy|Stephen Curry| 35|GSW|   45|    298|    495|0.602|  true|  31786|     3903|\n|  2024|clutch_poy|DeMar DeRozan| 34|CHI|   34|    272|    495|0.549| false|  31296|     3872|\n+------+----------+-------------+---+---+-----+-------+-------+-----+------+-------+---------+\nonly showing top 2 rows\n\n"
     ]
    }
   ],
   "source": [
    "player_award_shares_schema = StructType([\n",
    "    StructField(\"season\", IntegerType(), True),\n",
    "    StructField(\"award\", StringType(), True),\n",
    "    StructField(\"player\", StringType(), True),\n",
    "    StructField(\"age\", IntegerType(), True),\n",
    "    StructField(\"tm\", StringType(), True),\n",
    "    StructField(\"first\", IntegerType(), True),\n",
    "    StructField(\"pts_won\", IntegerType(), True),\n",
    "    StructField(\"pts_max\", IntegerType(), True),\n",
    "    StructField(\"share\", DecimalType(5, 3), True),\n",
    "    StructField(\"winner\", BooleanType(), True),\n",
    "    StructField(\"seas_id\", IntegerType(), True),\n",
    "    StructField(\"player_id\", IntegerType(), True)\n",
    "])\n",
    "\n",
    "# Read CSV file\n",
    "player_award_shares_df = spark.read.schema(player_award_shares_schema).format(\"csv\").option(\"header\", \"true\").load(\"dbfs:/FileStore/shared_uploads/alfathns1932@gmail.com/nba-spark-databricks-project/Player_Award_Shares.csv\")\n",
    "\n",
    "# Show data\n",
    "player_award_shares_df.show(2)"
   ]
  },
  {
   "cell_type": "code",
   "execution_count": 0,
   "metadata": {
    "application/vnd.databricks.v1+cell": {
     "cellMetadata": {
      "byteLimit": 2048000,
      "rowLimit": 10000
     },
     "collapsed": true,
     "inputWidgets": {},
     "nuid": "196bd447-06b4-4b4f-828e-e46fb48efbf6",
     "showTitle": false,
     "title": ""
    }
   },
   "outputs": [
    {
     "output_type": "stream",
     "name": "stdout",
     "output_type": "stream",
     "text": [
      "+---------+------------+----------+-----+-----------+----------+---------+\n|player_id|      player|birth_year|  hof|num_seasons|first_seas|last_seas|\n+---------+------------+----------+-----+-----------+----------+---------+\n|        1|Al Brightman|      null|false|          1|      1947|     1947|\n|        2|   Al Lujack|      null|false|          1|      1947|     1947|\n+---------+------------+----------+-----+-----------+----------+---------+\nonly showing top 2 rows\n\n"
     ]
    }
   ],
   "source": [
    "player_career_info_schema = StructType([\n",
    "    StructField(\"player_id\", IntegerType(), True),\n",
    "    StructField(\"player\", StringType(), True),\n",
    "    StructField(\"birth_year\", IntegerType(), True),\n",
    "    StructField(\"hof\", BooleanType(), True),\n",
    "    StructField(\"num_seasons\", IntegerType(), True),\n",
    "    StructField(\"first_seas\", IntegerType(), True),\n",
    "    StructField(\"last_seas\", IntegerType(), True)\n",
    "])\n",
    "\n",
    "# Read CSV file\n",
    "player_career_info_df = spark.read.schema(player_career_info_schema).format(\"csv\").option(\"header\", \"true\").load(\"dbfs:/FileStore/shared_uploads/alfathns1932@gmail.com/nba-spark-databricks-project/Player_Career_Info.csv\")\n",
    "\n",
    "# Show data\n",
    "player_career_info_df.show(2)"
   ]
  },
  {
   "cell_type": "code",
   "execution_count": 0,
   "metadata": {
    "application/vnd.databricks.v1+cell": {
     "cellMetadata": {
      "byteLimit": 2048000,
      "rowLimit": 10000
     },
     "collapsed": true,
     "inputWidgets": {},
     "nuid": "991a955f-ea5d-4913-8681-4f0c877ef59d",
     "showTitle": false,
     "title": ""
    }
   },
   "outputs": [
    {
     "output_type": "stream",
     "name": "stdout",
     "output_type": "stream",
     "text": [
      "+-------+------+---------+-----------+----------+---+---+----------+---+---+---+---+-----------+-----------+------------+----------+------------+-------------+-----------+------------+-------------+-----------+------------+-----------+------------+----------+------------+------------+------------+------------+------------+------------+------------+-----------+------------+\n|seas_id|season|player_id|     player|birth_year|pos|age|experience| lg| tm|  g| gs|mp_per_game|fg_per_game|fga_per_game|fg_percent|x3p_per_game|x3pa_per_game|x3p_percent|x2p_per_game|x2pa_per_game|x2p_percent|e_fg_percent|ft_per_game|fta_per_game|ft_percent|orb_per_game|drb_per_game|trb_per_game|ast_per_game|stl_per_game|blk_per_game|tov_per_game|pf_per_game|pts_per_game|\n+-------+------+---------+-----------+----------+---+---+----------+---+---+---+---+-----------+-----------+------------+----------+------------+-------------+-----------+------------+-------------+-----------+------------+-----------+------------+----------+------------+------------+------------+------------+------------+------------+------------+-----------+------------+\n|  31136|  2024|     5025| A.J. Green|      null| SG| 24|         2|NBA|MIL| 56|  0|     11.000|      1.500|       3.500|     0.423|       1.200|        3.000|      0.408|       0.300|        0.500|      0.519|       0.599|      0.300|       0.300|     0.895|       0.200|       1.000|       1.100|       0.500|       0.200|       0.100|       0.200|      0.900|       4.500|\n|  31137|  2024|     5026|A.J. Lawson|      null| SG| 23|         2|NBA|DAL| 42|  0|      7.400|      1.300|       2.900|     0.446|       0.300|        1.200|      0.260|       1.000|        1.700|      0.577|       0.500|      0.400|       0.500|     0.652|       0.300|       0.900|       1.200|       0.500|       0.200|       0.100|       0.300|      0.500|       3.200|\n+-------+------+---------+-----------+----------+---+---+----------+---+---+---+---+-----------+-----------+------------+----------+------------+-------------+-----------+------------+-------------+-----------+------------+-----------+------------+----------+------------+------------+------------+------------+------------+------------+------------+-----------+------------+\nonly showing top 2 rows\n\n"
     ]
    }
   ],
   "source": [
    "player_per_game_schema = StructType([\n",
    "    StructField(\"seas_id\", IntegerType(), True),\n",
    "    StructField(\"season\", IntegerType(), True),\n",
    "    StructField(\"player_id\", IntegerType(), True),\n",
    "    StructField(\"player\", StringType(), True),\n",
    "    StructField(\"birth_year\", IntegerType(), True),\n",
    "    StructField(\"pos\", StringType(), True),\n",
    "    StructField(\"age\", IntegerType(), True),\n",
    "    StructField(\"experience\", IntegerType(), True),\n",
    "    StructField(\"lg\", StringType(), True),\n",
    "    StructField(\"tm\", StringType(), True),\n",
    "    StructField(\"g\", IntegerType(), True),\n",
    "    StructField(\"gs\", IntegerType(), True),\n",
    "    StructField(\"mp_per_game\", DecimalType(5, 3), True),\n",
    "    StructField(\"fg_per_game\", DecimalType(5, 3), True),\n",
    "    StructField(\"fga_per_game\", DecimalType(5, 3), True),\n",
    "    StructField(\"fg_percent\", DecimalType(5, 3), True),\n",
    "    StructField(\"x3p_per_game\", DecimalType(5, 3), True),\n",
    "    StructField(\"x3pa_per_game\", DecimalType(5, 3), True),\n",
    "    StructField(\"x3p_percent\", DecimalType(5, 3), True),\n",
    "    StructField(\"x2p_per_game\", DecimalType(5, 3), True),\n",
    "    StructField(\"x2pa_per_game\", DecimalType(5, 3), True),\n",
    "    StructField(\"x2p_percent\", DecimalType(5, 3), True),\n",
    "    StructField(\"e_fg_percent\", DecimalType(5, 3), True),\n",
    "    StructField(\"ft_per_game\", DecimalType(5, 3), True),\n",
    "    StructField(\"fta_per_game\", DecimalType(5, 3), True),\n",
    "    StructField(\"ft_percent\", DecimalType(5, 3), True),\n",
    "    StructField(\"orb_per_game\", DecimalType(5, 3), True),\n",
    "    StructField(\"drb_per_game\", DecimalType(5, 3), True),\n",
    "    StructField(\"trb_per_game\", DecimalType(5, 3), True),\n",
    "    StructField(\"ast_per_game\", DecimalType(5, 3), True),\n",
    "    StructField(\"stl_per_game\", DecimalType(5, 3), True),\n",
    "    StructField(\"blk_per_game\", DecimalType(5, 3), True),\n",
    "    StructField(\"tov_per_game\", DecimalType(5, 3), True),\n",
    "    StructField(\"pf_per_game\", DecimalType(5, 3), True),\n",
    "    StructField(\"pts_per_game\", DecimalType(5, 3), True)\n",
    "])\n",
    "\n",
    "# Read CSV file\n",
    "player_per_game_df = spark.read.schema(player_per_game_schema).format(\"csv\").option(\"header\", \"true\").load(\"dbfs:/FileStore/shared_uploads/alfathns1932@gmail.com/nba-spark-databricks-project/Player_Per_Game.csv\")\n",
    "\n",
    "# Show data\n",
    "player_per_game_df.show(2)"
   ]
  },
  {
   "cell_type": "code",
   "execution_count": 0,
   "metadata": {
    "application/vnd.databricks.v1+cell": {
     "cellMetadata": {
      "byteLimit": 2048000,
      "rowLimit": 10000
     },
     "collapsed": true,
     "inputWidgets": {},
     "nuid": "eab0e1d2-f611-4b22-9d91-a36f4be8890d",
     "showTitle": false,
     "title": ""
    }
   },
   "outputs": [
    {
     "output_type": "stream",
     "name": "stdout",
     "output_type": "stream",
     "text": [
      "+-------+------+---------+-----------+----------+---+---+----------+---+---+---+---+----------+----------+----------+----------+---------+--------------------------------+---------------------------+-----------------+------------------+-----------------------+------------------------+-------------------+--------------------+---------------------------+----+-----------+\n|seas_id|season|player_id|     player|birth_year|pos|age|experience| lg| tm|  g| mp|pg_percent|sg_percent|sf_percent|pf_percent|c_percent|on_court_plus_minus_per_100_poss|net_plus_minus_per_100_poss|bad_pass_turnover|lost_ball_turnover|shooting_foul_committed|offensive_foul_committed|shooting_foul_drawn|offensive_foul_drawn|points_generated_by_assists|and1|fga_blocked|\n+-------+------+---------+-----------+----------+---+---+----------+---+---+---+---+----------+----------+----------+----------+---------+--------------------------------+---------------------------+-----------------+------------------+-----------------------+------------------------+-------------------+--------------------+---------------------------+----+-----------+\n|  31136|  2024|     5025| A.J. Green|      null| SG| 24|         2|NBA|MIL| 56|614|    20.000|    65.000|    15.000|      null|     null|                           4.800|                      2.300|                7|                 3|                     24|                       0|                  4|                   8|                         72|   2|          3|\n|  31137|  2024|     5026|A.J. Lawson|      null| SG| 23|         2|NBA|DAL| 42|311|     6.000|    41.000|    51.000|     3.000|     null|                           2.700|                      0.600|                7|                 2|                     16|                       1|                 12|                   0|                         51|   2|          8|\n+-------+------+---------+-----------+----------+---+---+----------+---+---+---+---+----------+----------+----------+----------+---------+--------------------------------+---------------------------+-----------------+------------------+-----------------------+------------------------+-------------------+--------------------+---------------------------+----+-----------+\nonly showing top 2 rows\n\n"
     ]
    }
   ],
   "source": [
    "player_play_by_play_schema = StructType([\n",
    "    StructField(\"seas_id\", IntegerType(), True),\n",
    "    StructField(\"season\", IntegerType(), True),\n",
    "    StructField(\"player_id\", IntegerType(), True),\n",
    "    StructField(\"player\", StringType(), True),\n",
    "    StructField(\"birth_year\", IntegerType(), True),\n",
    "    StructField(\"pos\", StringType(), True),\n",
    "    StructField(\"age\", IntegerType(), True),\n",
    "    StructField(\"experience\", IntegerType(), True),\n",
    "    StructField(\"lg\", StringType(), True),\n",
    "    StructField(\"tm\", StringType(), True),\n",
    "    StructField(\"g\", IntegerType(), True),\n",
    "    StructField(\"mp\", IntegerType(), True),\n",
    "    StructField(\"pg_percent\", DecimalType(5, 3), True),\n",
    "    StructField(\"sg_percent\", DecimalType(5, 3), True),\n",
    "    StructField(\"sf_percent\", DecimalType(5, 3), True),\n",
    "    StructField(\"pf_percent\", DecimalType(5, 3), True),\n",
    "    StructField(\"c_percent\", DecimalType(5, 3), True),\n",
    "    StructField(\"on_court_plus_minus_per_100_poss\", StringType(), True),\n",
    "    StructField(\"net_plus_minus_per_100_poss\", StringType(), True),\n",
    "    StructField(\"bad_pass_turnover\", IntegerType(), True),\n",
    "    StructField(\"lost_ball_turnover\", IntegerType(), True),\n",
    "    StructField(\"shooting_foul_committed\", IntegerType(), True),\n",
    "    StructField(\"offensive_foul_committed\", IntegerType(), True),\n",
    "    StructField(\"shooting_foul_drawn\", IntegerType(), True),\n",
    "    StructField(\"offensive_foul_drawn\", IntegerType(), True),\n",
    "    StructField(\"points_generated_by_assists\", IntegerType(), True),\n",
    "    StructField(\"and1\", IntegerType(), True),\n",
    "    StructField(\"fga_blocked\", IntegerType(), True)\n",
    "])\n",
    "# Read CSV file\n",
    "player_play_by_play_df = spark.read.schema(player_play_by_play_schema).format(\"csv\").option(\"header\", \"true\").load(\"dbfs:/FileStore/shared_uploads/alfathns1932@gmail.com/nba-spark-databricks-project/Player_Play_By_Play.csv\")\n",
    "\n",
    "# Convert from string to DecimalType\n",
    "player_play_by_play_df = player_play_by_play_df.withColumn(\n",
    "    \"on_court_plus_minus_per_100_poss\",\n",
    "    col(\"on_court_plus_minus_per_100_poss\").cast(DecimalType(5, 3))\n",
    ").withColumn(\n",
    "    \"net_plus_minus_per_100_poss\",\n",
    "    col(\"net_plus_minus_per_100_poss\").cast(DecimalType(5, 3))\n",
    ")\n",
    "\n",
    "# Show data\n",
    "player_play_by_play_df.show(2)"
   ]
  },
  {
   "cell_type": "code",
   "execution_count": 0,
   "metadata": {
    "application/vnd.databricks.v1+cell": {
     "cellMetadata": {
      "byteLimit": 2048000,
      "rowLimit": 10000
     },
     "collapsed": true,
     "inputWidgets": {},
     "nuid": "9e540607-93af-4504-8f6e-d3544a9c1da3",
     "showTitle": false,
     "title": ""
    }
   },
   "outputs": [
    {
     "output_type": "stream",
     "name": "stdout",
     "output_type": "stream",
     "text": [
      "+------+-------+---------+------------+----------+---+---+---+---+----------+\n|season|seas_id|player_id|      player|birth_year|pos|age| lg| tm|experience|\n+------+-------+---------+------------+----------+---+---+---+---+----------+\n|  1947|      1|        1|Al Brightman|      null|  F| 23|BAA|BOS|         1|\n|  1947|      2|        2|   Al Lujack|      null|  F| 26|BAA|WSC|         1|\n+------+-------+---------+------------+----------+---+---+---+---+----------+\nonly showing top 2 rows\n\n"
     ]
    }
   ],
   "source": [
    "player_season_info_schema = StructType([\n",
    "    StructField(\"season\", IntegerType(), True),\n",
    "    StructField(\"seas_id\", IntegerType(), True),\n",
    "    StructField(\"player_id\", IntegerType(), True),\n",
    "    StructField(\"player\", StringType(), True),\n",
    "    StructField(\"birth_year\", IntegerType(), True),\n",
    "    StructField(\"pos\", StringType(), True),\n",
    "    StructField(\"age\", IntegerType(), True),\n",
    "    StructField(\"lg\", StringType(), True),\n",
    "    StructField(\"tm\", StringType(), True),\n",
    "    StructField(\"experience\", IntegerType(), True)\n",
    "])\n",
    "\n",
    "# Read CSV file\n",
    "player_season_info_df = spark.read.schema(player_season_info_schema).format(\"csv\").option(\"header\", \"true\").load(\"dbfs:/FileStore/shared_uploads/alfathns1932@gmail.com/nba-spark-databricks-project/Player_Season_Info.csv\")\n",
    "\n",
    "# Show data\n",
    "player_season_info_df.show(2)"
   ]
  },
  {
   "cell_type": "code",
   "execution_count": 0,
   "metadata": {
    "application/vnd.databricks.v1+cell": {
     "cellMetadata": {
      "byteLimit": 2048000,
      "rowLimit": 10000
     },
     "collapsed": true,
     "inputWidgets": {},
     "nuid": "1d8524e8-40ff-470c-bb9f-e68585a47f69",
     "showTitle": false,
     "title": ""
    }
   },
   "outputs": [
    {
     "output_type": "stream",
     "name": "stdout",
     "output_type": "stream",
     "text": [
      "+-------+------+---------+-----------+----------+---+---+----------+---+---+---+---+----------+------------+--------------------------+---------------------------+----------------------------+-----------------------------+-----------------------------+--------------------------+-------------------------+--------------------------+---------------------------+----------------------------+----------------------------+-------------------------+-----------------------+-----------------------+--------------------+------------+------------------------+----------------------+--------------------+---------------+\n|seas_id|season|player_id|     player|birth_year|pos|age|experience| lg| tm|  g| mp|fg_percent|avg_dist_fga|percent_fga_from_x2p_range|percent_fga_from_x0_3_range|percent_fga_from_x3_10_range|percent_fga_from_x10_16_range|percent_fga_from_x16_3p_range|percent_fga_from_x3p_range|fg_percent_from_x2p_range|fg_percent_from_x0_3_range|fg_percent_from_x3_10_range|fg_percent_from_x10_16_range|fg_percent_from_x16_3p_range|fg_percent_from_x3p_range|percent_assisted_x2p_fg|percent_assisted_x3p_fg|percent_dunks_of_fga|num_of_dunks|percent_corner_3s_of_3pa|corner_3_point_percent|num_heaves_attempted|num_heaves_made|\n+-------+------+---------+-----------+----------+---+---+----------+---+---+---+---+----------+------------+--------------------------+---------------------------+----------------------------+-----------------------------+-----------------------------+--------------------------+-------------------------+--------------------------+---------------------------+----------------------------+----------------------------+-------------------------+-----------------------+-----------------------+--------------------+------------+------------------------+----------------------+--------------------+---------------+\n|  31136|  2024|     5025| A.J. Green|      null| SG| 24|         2|NBA|MIL| 56|614|     0.423|      24.100|                     0.138|                      0.026|                       0.020|                        0.031|                        0.061|                     0.862|                    0.519|                     1.000|                      0.250|                       0.333|                       0.500|                    0.408|                  0.857|                  0.942|               0.000|           0|                   0.225|                 0.447|                   0|              0|\n|  31137|  2024|     5026|A.J. Lawson|      null| SG| 23|         2|NBA|DAL| 42|311|     0.446|      13.700|                     0.587|                      0.355|                       0.190|                        0.008|                        0.033|                     0.413|                    0.577|                     0.791|                      0.217|                       0.000|                       0.500|                    0.260|                  0.610|                  1.000|               0.107|          12|                   0.640|                 0.250|                   0|              0|\n+-------+------+---------+-----------+----------+---+---+----------+---+---+---+---+----------+------------+--------------------------+---------------------------+----------------------------+-----------------------------+-----------------------------+--------------------------+-------------------------+--------------------------+---------------------------+----------------------------+----------------------------+-------------------------+-----------------------+-----------------------+--------------------+------------+------------------------+----------------------+--------------------+---------------+\nonly showing top 2 rows\n\n"
     ]
    }
   ],
   "source": [
    "player_shooting_schema = StructType([\n",
    "    StructField(\"seas_id\", IntegerType(), True),\n",
    "    StructField(\"season\", IntegerType(), True),\n",
    "    StructField(\"player_id\", IntegerType(), True),\n",
    "    StructField(\"player\", StringType(), True),\n",
    "    StructField(\"birth_year\", IntegerType(), True),\n",
    "    StructField(\"pos\", StringType(), True),\n",
    "    StructField(\"age\", IntegerType(), True),\n",
    "    StructField(\"experience\", IntegerType(), True),\n",
    "    StructField(\"lg\", StringType(), True),\n",
    "    StructField(\"tm\", StringType(), True),\n",
    "    StructField(\"g\", IntegerType(), True),\n",
    "    StructField(\"mp\", IntegerType(), True),\n",
    "    StructField(\"fg_percent\", StringType(), True),\n",
    "    StructField(\"avg_dist_fga\", StringType(), True),\n",
    "    StructField(\"percent_fga_from_x2p_range\", StringType(), True),\n",
    "    StructField(\"percent_fga_from_x0_3_range\", StringType(), True),\n",
    "    StructField(\"percent_fga_from_x3_10_range\", StringType(), True),\n",
    "    StructField(\"percent_fga_from_x10_16_range\", StringType(), True),\n",
    "    StructField(\"percent_fga_from_x16_3p_range\", StringType(), True),\n",
    "    StructField(\"percent_fga_from_x3p_range\", StringType(), True),\n",
    "    StructField(\"fg_percent_from_x2p_range\", StringType(), True),\n",
    "    StructField(\"fg_percent_from_x0_3_range\", StringType(), True),\n",
    "    StructField(\"fg_percent_from_x3_10_range\", StringType(), True),\n",
    "    StructField(\"fg_percent_from_x10_16_range\", StringType(), True),\n",
    "    StructField(\"fg_percent_from_x16_3p_range\", StringType(), True),\n",
    "    StructField(\"fg_percent_from_x3p_range\", StringType(), True),\n",
    "    StructField(\"percent_assisted_x2p_fg\", StringType(), True),\n",
    "    StructField(\"percent_assisted_x3p_fg\", StringType(), True),\n",
    "    StructField(\"percent_dunks_of_fga\", StringType(), True),\n",
    "    StructField(\"num_of_dunks\", IntegerType(), True),\n",
    "    StructField(\"percent_corner_3s_of_3pa\", StringType(), True),\n",
    "    StructField(\"corner_3_point_percent\", StringType(), True),\n",
    "    StructField(\"num_heaves_attempted\", IntegerType(), True),\n",
    "    StructField(\"num_heaves_made\", IntegerType(), True)\n",
    "])\n",
    "\n",
    "# Read CSV file\n",
    "player_shooting_df = spark.read.schema(player_shooting_schema).format(\"csv\").option(\"header\", \"true\").load(\"dbfs:/FileStore/shared_uploads/alfathns1932@gmail.com/nba-spark-databricks-project/Player_Shooting.csv\")\n",
    "\n",
    "# Convert string columns to DecimalType\n",
    "player_shooting_df = player_shooting_df.withColumn(\n",
    "    \"fg_percent\", col(\"fg_percent\").cast(DecimalType(5, 3))\n",
    ").withColumn(\n",
    "    \"avg_dist_fga\", col(\"avg_dist_fga\").cast(DecimalType(5, 3))\n",
    ").withColumn(\n",
    "    \"percent_fga_from_x2p_range\", col(\"percent_fga_from_x2p_range\").cast(DecimalType(5, 3))\n",
    ").withColumn(\n",
    "    \"percent_fga_from_x0_3_range\", col(\"percent_fga_from_x0_3_range\").cast(DecimalType(5, 3))\n",
    ").withColumn(\n",
    "    \"percent_fga_from_x3_10_range\", col(\"percent_fga_from_x3_10_range\").cast(DecimalType(5, 3))\n",
    ").withColumn(\n",
    "    \"percent_fga_from_x10_16_range\", col(\"percent_fga_from_x10_16_range\").cast(DecimalType(5, 3))\n",
    ").withColumn(\n",
    "    \"percent_fga_from_x16_3p_range\", col(\"percent_fga_from_x16_3p_range\").cast(DecimalType(5, 3))\n",
    ").withColumn(\n",
    "    \"percent_fga_from_x3p_range\", col(\"percent_fga_from_x3p_range\").cast(DecimalType(5, 3))\n",
    ").withColumn(\n",
    "    \"fg_percent_from_x2p_range\", col(\"fg_percent_from_x2p_range\").cast(DecimalType(5, 3))\n",
    ").withColumn(\n",
    "    \"fg_percent_from_x0_3_range\", col(\"fg_percent_from_x0_3_range\").cast(DecimalType(5, 3))\n",
    ").withColumn(\n",
    "    \"fg_percent_from_x3_10_range\", col(\"fg_percent_from_x3_10_range\").cast(DecimalType(5, 3))\n",
    ").withColumn(\n",
    "    \"fg_percent_from_x10_16_range\", col(\"fg_percent_from_x10_16_range\").cast(DecimalType(5, 3))\n",
    ").withColumn(\n",
    "    \"fg_percent_from_x16_3p_range\", col(\"fg_percent_from_x16_3p_range\").cast(DecimalType(5, 3))\n",
    ").withColumn(\n",
    "    \"fg_percent_from_x3p_range\", col(\"fg_percent_from_x3p_range\").cast(DecimalType(5, 3))\n",
    ").withColumn(\n",
    "    \"percent_assisted_x2p_fg\", col(\"percent_assisted_x2p_fg\").cast(DecimalType(5, 3))\n",
    ").withColumn(\n",
    "    \"percent_assisted_x3p_fg\", col(\"percent_assisted_x3p_fg\").cast(DecimalType(5, 3))\n",
    ").withColumn(\n",
    "    \"percent_dunks_of_fga\", col(\"percent_dunks_of_fga\").cast(DecimalType(5, 3))\n",
    ").withColumn(\n",
    "    \"percent_corner_3s_of_3pa\", col(\"percent_corner_3s_of_3pa\").cast(DecimalType(5, 3))\n",
    ").withColumn(\n",
    "    \"corner_3_point_percent\", col(\"corner_3_point_percent\").cast(DecimalType(5, 3))\n",
    ")\n",
    "\n",
    "# Show data\n",
    "player_shooting_df.show(2)"
   ]
  },
  {
   "cell_type": "code",
   "execution_count": 0,
   "metadata": {
    "application/vnd.databricks.v1+cell": {
     "cellMetadata": {
      "byteLimit": 2048000,
      "rowLimit": 10000
     },
     "collapsed": true,
     "inputWidgets": {},
     "nuid": "98c3e253-2f74-4b72-b314-107ae0ec3ec4",
     "showTitle": false,
     "title": ""
    }
   },
   "outputs": [
    {
     "output_type": "stream",
     "name": "stdout",
     "output_type": "stream",
     "text": [
      "+-------+------+---------+-----------+----------+---+---+----------+---+---+---+---+---+---+---+----------+---+----+-----------+---+----+-----------+------------+---+---+----------+---+---+---+---+---+---+---+---+---+\n|seas_id|season|player_id|     player|birth_year|pos|age|experience| lg| tm|  g| gs| mp| fg|fga|fg_percent|x3p|x3pa|x3p_percent|x2p|x2pa|x2p_percent|e_fg_percent| ft|fta|ft_percent|orb|drb|trb|ast|stl|blk|tov| pf|pts|\n+-------+------+---------+-----------+----------+---+---+----------+---+---+---+---+---+---+---+----------+---+----+-----------+---+----+-----------+------------+---+---+----------+---+---+---+---+---+---+---+---+---+\n|  31136|  2024|     5025| A.J. Green|      null| SG| 24|         2|NBA|MIL| 56|  0|614| 83|196|     0.423| 69| 169|      0.408| 14|  27|      0.519|       0.599| 17| 19|     0.895|  9| 55| 64| 30|  9|  4| 12| 49|252|\n|  31137|  2024|     5026|A.J. Lawson|      null| SG| 23|         2|NBA|DAL| 42|  0|311| 54|121|     0.446| 13|  50|      0.260| 41|  71|      0.577|       0.500| 15| 23|     0.652| 14| 36| 50| 20| 10|  3| 14| 22|136|\n+-------+------+---------+-----------+----------+---+---+----------+---+---+---+---+---+---+---+----------+---+----+-----------+---+----+-----------+------------+---+---+----------+---+---+---+---+---+---+---+---+---+\nonly showing top 2 rows\n\n"
     ]
    }
   ],
   "source": [
    "player_totals_schema = StructType([\n",
    "    StructField(\"seas_id\", IntegerType(), True),\n",
    "    StructField(\"season\", IntegerType(), True),\n",
    "    StructField(\"player_id\", IntegerType(), True),\n",
    "    StructField(\"player\", StringType(), True),\n",
    "    StructField(\"birth_year\", IntegerType(), True),\n",
    "    StructField(\"pos\", StringType(), True),\n",
    "    StructField(\"age\", IntegerType(), True),\n",
    "    StructField(\"experience\", IntegerType(), True),\n",
    "    StructField(\"lg\", StringType(), True),\n",
    "    StructField(\"tm\", StringType(), True),\n",
    "    StructField(\"g\", IntegerType(), True),\n",
    "    StructField(\"gs\", IntegerType(), True),\n",
    "    StructField(\"mp\", IntegerType(), True),\n",
    "    StructField(\"fg\", IntegerType(), True),\n",
    "    StructField(\"fga\", IntegerType(), True),\n",
    "    StructField(\"fg_percent\", StringType(), True),\n",
    "    StructField(\"x3p\", IntegerType(), True),\n",
    "    StructField(\"x3pa\", IntegerType(), True),\n",
    "    StructField(\"x3p_percent\", StringType(), True),\n",
    "    StructField(\"x2p\", IntegerType(), True),\n",
    "    StructField(\"x2pa\", IntegerType(), True),\n",
    "    StructField(\"x2p_percent\", StringType(), True),\n",
    "    StructField(\"e_fg_percent\", StringType(), True),\n",
    "    StructField(\"ft\", IntegerType(), True),\n",
    "    StructField(\"fta\", IntegerType(), True),\n",
    "    StructField(\"ft_percent\", StringType(), True),\n",
    "    StructField(\"orb\", IntegerType(), True),\n",
    "    StructField(\"drb\", IntegerType(), True),\n",
    "    StructField(\"trb\", IntegerType(), True),\n",
    "    StructField(\"ast\", IntegerType(), True),\n",
    "    StructField(\"stl\", IntegerType(), True),\n",
    "    StructField(\"blk\", IntegerType(), True),\n",
    "    StructField(\"tov\", IntegerType(), True),\n",
    "    StructField(\"pf\", IntegerType(), True),\n",
    "    StructField(\"pts\", IntegerType(), True)\n",
    "])\n",
    "\n",
    "# Read CSV file\n",
    "player_totals_df = spark.read.schema(player_totals_schema).format(\"csv\").option(\"header\", \"true\").load(\"dbfs:/FileStore/shared_uploads/alfathns1932@gmail.com/nba-spark-databricks-project/Player_Totals.csv\")\n",
    "\n",
    "# Convert string columns to DecimalType\n",
    "player_totals_df = player_totals_df.withColumn(\n",
    "    \"fg_percent\", col(\"fg_percent\").cast(DecimalType(5, 3))\n",
    ").withColumn(\n",
    "    \"x3p_percent\", col(\"x3p_percent\").cast(DecimalType(5, 3))\n",
    ").withColumn(\n",
    "    \"x2p_percent\", col(\"x2p_percent\").cast(DecimalType(5, 3))\n",
    ").withColumn(\n",
    "    \"e_fg_percent\", col(\"e_fg_percent\").cast(DecimalType(5, 3))\n",
    ").withColumn(\n",
    "    \"ft_percent\", col(\"ft_percent\").cast(DecimalType(5, 3))\n",
    ")\n",
    "\n",
    "# Show data\n",
    "player_totals_df.show(2)"
   ]
  },
  {
   "cell_type": "code",
   "execution_count": 0,
   "metadata": {
    "application/vnd.databricks.v1+cell": {
     "cellMetadata": {
      "byteLimit": 2048000,
      "rowLimit": 10000
     },
     "collapsed": true,
     "inputWidgets": {},
     "nuid": "3b68bd5e-eeff-4714-97fc-d838cae45740",
     "showTitle": false,
     "title": ""
    }
   },
   "outputs": [
    {
     "output_type": "stream",
     "name": "stdout",
     "output_type": "stream",
     "text": [
      "+------+---+--------------+--------+----------+\n|season| lg|          team|playoffs|abbreviati|\n+------+---+--------------+--------+----------+\n|  2024|NBA| Atlanta Hawks|   false|       ATL|\n|  2024|NBA|Boston Celtics|    true|       BOS|\n+------+---+--------------+--------+----------+\nonly showing top 2 rows\n\n"
     ]
    }
   ],
   "source": [
    "team_abbrev_schema = StructType([\n",
    "    StructField(\"season\", IntegerType(), True),\n",
    "    StructField(\"lg\", StringType(), True),\n",
    "    StructField(\"team\", StringType(), True),\n",
    "    StructField(\"playoffs\", BooleanType(), True),\n",
    "    StructField(\"abbreviati\", StringType(), True)\n",
    "])\n",
    "# Read CSV file\n",
    "team_abbrev_df = spark.read.schema(team_abbrev_schema).format(\"csv\").option(\"header\", \"true\").load(\"dbfs:/FileStore/shared_uploads/alfathns1932@gmail.com/nba-spark-databricks-project/Team_Abbrev.csv\")\n",
    "\n",
    "# Show data\n",
    "team_abbrev_df.show(2)"
   ]
  },
  {
   "cell_type": "code",
   "execution_count": 0,
   "metadata": {
    "application/vnd.databricks.v1+cell": {
     "cellMetadata": {
      "byteLimit": 2048000,
      "rowLimit": 10000
     },
     "collapsed": true,
     "inputWidgets": {},
     "nuid": "a01352b4-4e28-432d-8c29-694c60aaffa0",
     "showTitle": false,
     "title": ""
    }
   },
   "outputs": [
    {
     "output_type": "stream",
     "name": "stdout",
     "output_type": "stream",
     "text": [
      "+------+---+--------------+----------+--------+---+-----+---------------+----------------+----------+----------------+-----------------+-----------+----------------+-----------------+-----------+---------------+----------------+----------+----------------+----------------+----------------+----------------+----------------+----------------+----------------+---------------+----------------+\n|season| lg|          team|abbreviati|playoffs|  g|   mp|fg_per_100_poss|fga_per_100_poss|fg_percent|x3p_per_100_poss|x3pa_per_100_poss|x3p_percent|x2p_per_100_poss|x2pa_per_100_poss|x2p_percent|ft_per_100_poss|fta_per_100_poss|ft_percent|orb_per_100_poss|drb_per_100_poss|trb_per_100_poss|ast_per_100_poss|stl_per_100_poss|blk_per_100_poss|tov_per_100_poss|pf_per_100_poss|pts_per_100_poss|\n+------+---+--------------+----------+--------+---+-----+---------------+----------------+----------+----------------+-----------------+-----------+----------------+-----------------+-----------+---------------+----------------+----------+----------------+----------------+----------------+----------------+----------------+----------------+----------------+---------------+----------------+\n|  2024|NBA| Atlanta Hawks|       ATL|   false| 82|19855|         42.600|          91.600|     0.465|          13.600|           37.300|      0.364|          29.000|           54.300|      0.535|         18.400|          23.000|     0.797|          12.400|          31.900|          44.200|          26.300|           7.400|           4.500|          13.400|         18.400|           117.2|\n|  2024|NBA|Boston Celtics|       BOS|    true| 82|19830|         44.900|          92.100|     0.487|          16.800|           43.400|      0.388|          28.000|           48.800|      0.575|         16.600|          20.600|     0.807|          10.900|          36.400|          47.300|          27.500|           6.900|           6.700|          12.200|         16.500|           123.2|\n+------+---+--------------+----------+--------+---+-----+---------------+----------------+----------+----------------+-----------------+-----------+----------------+-----------------+-----------+---------------+----------------+----------+----------------+----------------+----------------+----------------+----------------+----------------+----------------+---------------+----------------+\nonly showing top 2 rows\n\n"
     ]
    }
   ],
   "source": [
    "team_stats_per_100_poss_schema = StructType([\n",
    "    StructField(\"season\", IntegerType(), True),\n",
    "    StructField(\"lg\", StringType(), True),\n",
    "    StructField(\"team\", StringType(), True),\n",
    "    StructField(\"abbreviati\", StringType(), True),\n",
    "    StructField(\"playoffs\", BooleanType(), True),\n",
    "    StructField(\"g\", IntegerType(), True),\n",
    "    StructField(\"mp\", IntegerType(), True),\n",
    "    StructField(\"fg_per_100_poss\", DecimalType(5, 3), True),\n",
    "    StructField(\"fga_per_100_poss\", DecimalType(5, 3), True),\n",
    "    StructField(\"fg_percent\", DecimalType(5, 3), True),\n",
    "    StructField(\"x3p_per_100_poss\", DecimalType(5, 3), True),\n",
    "    StructField(\"x3pa_per_100_poss\", DecimalType(5, 3), True),\n",
    "    StructField(\"x3p_percent\", DecimalType(5, 3), True),\n",
    "    StructField(\"x2p_per_100_poss\", DecimalType(5, 3), True),\n",
    "    StructField(\"x2pa_per_100_poss\", DecimalType(5, 3), True),\n",
    "    StructField(\"x2p_percent\", DecimalType(5, 3), True),\n",
    "    StructField(\"ft_per_100_poss\", DecimalType(5, 3), True),\n",
    "    StructField(\"fta_per_100_poss\", DecimalType(5, 3), True),\n",
    "    StructField(\"ft_percent\", DecimalType(5, 3), True),\n",
    "    StructField(\"orb_per_100_poss\", DecimalType(5, 3), True),\n",
    "    StructField(\"drb_per_100_poss\", DecimalType(5, 3), True),\n",
    "    StructField(\"trb_per_100_poss\", DecimalType(5, 3), True),\n",
    "    StructField(\"ast_per_100_poss\", DecimalType(5, 3), True),\n",
    "    StructField(\"stl_per_100_poss\", DecimalType(5, 3), True),\n",
    "    StructField(\"blk_per_100_poss\", DecimalType(5, 3), True),\n",
    "    StructField(\"tov_per_100_poss\", DecimalType(5, 3), True),\n",
    "    StructField(\"pf_per_100_poss\", DecimalType(5, 3), True),\n",
    "    StructField(\"pts_per_100_poss\", DecimalType(5, 1), True)\n",
    "])\n",
    "\n",
    "# Read CSV file\n",
    "team_stats_per_100_poss_df = spark.read.schema(team_stats_per_100_poss_schema).format(\"csv\").option(\"header\", \"true\").load(\"dbfs:/FileStore/shared_uploads/alfathns1932@gmail.com/nba-spark-databricks-project/Team_Stats_Per_100_Poss.csv\")\n",
    "\n",
    "# Show data\n",
    "team_stats_per_100_poss_df.show(2)"
   ]
  },
  {
   "cell_type": "code",
   "execution_count": 0,
   "metadata": {
    "application/vnd.databricks.v1+cell": {
     "cellMetadata": {
      "byteLimit": 2048000,
      "rowLimit": 10000
     },
     "collapsed": true,
     "inputWidgets": {},
     "nuid": "60357ae9-edfa-4398-aea2-b62fd3e4c9f5",
     "showTitle": false,
     "title": ""
    }
   },
   "outputs": [
    {
     "output_type": "stream",
     "name": "stdout",
     "output_type": "stream",
     "text": [
      "+------+---+--------------+----------+--------+---+-----------+-----------+------------+----------+------------+-------------+-----------+------------+-------------+-----------+-----------+------------+----------+------------+------------+------------+------------+------------+------------+------------+-----------+------------+\n|season| lg|          team|abbreviati|playoffs|  g|mp_per_game|fg_per_game|fga_per_game|fg_percent|x3p_per_game|x3pa_per_game|x3p_percent|x2p_per_game|x2pa_per_game|x2p_percent|ft_per_game|fta_per_game|ft_percent|orb_per_game|drb_per_game|trb_per_game|ast_per_game|stl_per_game|blk_per_game|tov_per_game|pf_per_game|pts_per_game|\n+------+---+--------------+----------+--------+---+-----------+-----------+------------+----------+------------+-------------+-----------+------------+-------------+-----------+-----------+------------+----------+------------+------------+------------+------------+------------+------------+------------+-----------+------------+\n|  2024|NBA| Atlanta Hawks|       ATL|   false| 82|      242.1|     43.000|      92.500|     0.465|      13.700|       37.700|      0.364|      29.300|       54.800|      0.535|     18.500|      23.200|     0.797|      12.500|      32.200|      44.700|      26.600|       7.500|       4.500|      13.500|     18.600|       118.3|\n|  2024|NBA|Boston Celtics|       BOS|    true| 82|      241.8|     43.900|      90.200|     0.487|      16.500|       42.500|      0.388|      27.400|       47.700|      0.575|     16.300|      20.200|     0.807|      10.700|      35.600|      46.300|      26.900|       6.800|       6.600|      11.900|     16.200|       120.6|\n+------+---+--------------+----------+--------+---+-----------+-----------+------------+----------+------------+-------------+-----------+------------+-------------+-----------+-----------+------------+----------+------------+------------+------------+------------+------------+------------+------------+-----------+------------+\nonly showing top 2 rows\n\n"
     ]
    }
   ],
   "source": [
    "team_stats_per_game_schema = StructType([\n",
    "    StructField(\"season\", IntegerType(), True),\n",
    "    StructField(\"lg\", StringType(), True),\n",
    "    StructField(\"team\", StringType(), True),\n",
    "    StructField(\"abbreviati\", StringType(), True),\n",
    "    StructField(\"playoffs\", BooleanType(), True),\n",
    "    StructField(\"g\", IntegerType(), True),\n",
    "    StructField(\"mp_per_game\", DecimalType(5, 1), True),\n",
    "    StructField(\"fg_per_game\", DecimalType(5, 3), True),\n",
    "    StructField(\"fga_per_game\", DecimalType(5, 3), True),\n",
    "    StructField(\"fg_percent\", DecimalType(5, 3), True),\n",
    "    StructField(\"x3p_per_game\", DecimalType(5, 3), True),\n",
    "    StructField(\"x3pa_per_game\", DecimalType(5, 3), True),\n",
    "    StructField(\"x3p_percent\", DecimalType(5, 3), True),\n",
    "    StructField(\"x2p_per_game\", DecimalType(5, 3), True),\n",
    "    StructField(\"x2pa_per_game\", DecimalType(5, 3), True),\n",
    "    StructField(\"x2p_percent\", DecimalType(5, 3), True),\n",
    "    StructField(\"ft_per_game\", DecimalType(5, 3), True),\n",
    "    StructField(\"fta_per_game\", DecimalType(5, 3), True),\n",
    "    StructField(\"ft_percent\", DecimalType(5, 3), True),\n",
    "    StructField(\"orb_per_game\", DecimalType(5, 3), True),\n",
    "    StructField(\"drb_per_game\", DecimalType(5, 3), True),\n",
    "    StructField(\"trb_per_game\", DecimalType(5, 3), True),\n",
    "    StructField(\"ast_per_game\", DecimalType(5, 3), True),\n",
    "    StructField(\"stl_per_game\", DecimalType(5, 3), True),\n",
    "    StructField(\"blk_per_game\", DecimalType(5, 3), True),\n",
    "    StructField(\"tov_per_game\", DecimalType(5, 3), True),\n",
    "    StructField(\"pf_per_game\", DecimalType(5, 3), True),\n",
    "    StructField(\"pts_per_game\", DecimalType(5, 1), True)\n",
    "])\n",
    "\n",
    "# Read CSV file\n",
    "team_stats_per_game_df = spark.read.schema(team_stats_per_game_schema).format(\"csv\").option(\"header\", \"true\").load(\"dbfs:/FileStore/shared_uploads/alfathns1932@gmail.com/nba-spark-databricks-project/Team_Stats_Per_Game.csv\")\n",
    "\n",
    "# Show data\n",
    "team_stats_per_game_df.show(2)"
   ]
  },
  {
   "cell_type": "code",
   "execution_count": 0,
   "metadata": {
    "application/vnd.databricks.v1+cell": {
     "cellMetadata": {
      "byteLimit": 2048000,
      "rowLimit": 10000
     },
     "collapsed": true,
     "inputWidgets": {},
     "nuid": "ee7173ad-e268-4794-a4ba-fe3e7981bdb1",
     "showTitle": false,
     "title": ""
    }
   },
   "outputs": [
    {
     "output_type": "stream",
     "name": "stdout",
     "output_type": "stream",
     "text": [
      "+------+---+--------------+------------+--------+------+---+---+---+---+------+------+------+-----+-----+------+------+-----+------+----------+------------+-----------+-----------+------+----------------+---------------+---------------+----------+----------------+------+--------+\n|season| lg|          team|abbreviation|playoffs|   age|  w|  l| pw| pl|   mov|   sos|   srs|o_rtg|d_rtg| n_rtg|  pace| f_tr|x3p_ar|ts_percent|e_fg_percent|tov_percent|orb_percent|ft_fga|opp_e_fg_percent|opp_tov_percent|opp_drb_percent|opp_ft_fga|           arena|attend|attend_g|\n+------+---+--------------+------------+--------+------+---+---+---+---+------+------+------+-----+-----+------+------+-----+------+----------+------------+-----------+-----------+------+----------------+---------------+---------------+----------+----------------+------+--------+\n|  2024|NBA| Atlanta Hawks|         ATL|   false|26.200| 36| 46| 36| 46|-2.180|-0.190|-2.380|117.2|119.4|-2.200|  null|0.251| 0.408|     0.576|       0.539|     11.600|     27.100| 0.200|           0.572|         12.400|         75.200|     0.192|State Farm Arena|696418|   16986|\n|  2024|NBA|Boston Celtics|         BOS|    true|28.200| 64| 18| 66| 16|11.340|-0.600|10.750|123.2|111.6|11.600|97.200|0.224| 0.471|     0.609|       0.578|     10.800|     24.900| 0.180|           0.523|         10.800|         76.300|     0.145|       TD Garden|766240|   18689|\n+------+---+--------------+------------+--------+------+---+---+---+---+------+------+------+-----+-----+------+------+-----+------+----------+------------+-----------+-----------+------+----------------+---------------+---------------+----------+----------------+------+--------+\nonly showing top 2 rows\n\n"
     ]
    }
   ],
   "source": [
    "team_summaries_schema = StructType([\n",
    "    StructField(\"season\", IntegerType(), True),\n",
    "    StructField(\"lg\", StringType(), True),\n",
    "    StructField(\"team\", StringType(), True),\n",
    "    StructField(\"abbreviation\", StringType(), True),\n",
    "    StructField(\"playoffs\", BooleanType(), True),\n",
    "    StructField(\"age\", DecimalType(5, 3), True),\n",
    "    StructField(\"w\", IntegerType(), True),\n",
    "    StructField(\"l\", IntegerType(), True),\n",
    "    StructField(\"pw\", IntegerType(), True),\n",
    "    StructField(\"pl\", IntegerType(), True),\n",
    "    StructField(\"mov\", DecimalType(5, 3), True),\n",
    "    StructField(\"sos\", DecimalType(5, 3), True),\n",
    "    StructField(\"srs\", DecimalType(5, 3), True),\n",
    "    StructField(\"o_rtg\", DecimalType(5, 1), True),\n",
    "    StructField(\"d_rtg\", DecimalType(5, 1), True),\n",
    "    StructField(\"n_rtg\", DecimalType(5, 3), True),\n",
    "    StructField(\"pace\", DecimalType(5, 3), True),\n",
    "    StructField(\"f_tr\", DecimalType(5, 3), True),\n",
    "    StructField(\"x3p_ar\", DecimalType(5, 3), True),\n",
    "    StructField(\"ts_percent\", DecimalType(5, 3), True),\n",
    "    StructField(\"e_fg_percent\", DecimalType(5, 3), True),\n",
    "    StructField(\"tov_percent\", DecimalType(5, 3), True),\n",
    "    StructField(\"orb_percent\", DecimalType(5, 3), True),\n",
    "    StructField(\"ft_fga\", DecimalType(5, 3), True),\n",
    "    StructField(\"opp_e_fg_percent\", DecimalType(5, 3), True),\n",
    "    StructField(\"opp_tov_percent\", DecimalType(5, 3), True),\n",
    "    StructField(\"opp_drb_percent\", DecimalType(5, 3), True),\n",
    "    StructField(\"opp_ft_fga\", DecimalType(5, 3), True),\n",
    "    StructField(\"arena\", StringType(), True),\n",
    "    StructField(\"attend\", IntegerType(), True),\n",
    "    StructField(\"attend_g\", IntegerType(), True)\n",
    "])\n",
    "\n",
    "# Read CSV file\n",
    "team_summaries_df = spark.read.schema(team_summaries_schema).format(\"csv\").option(\"header\", \"true\").load(\"dbfs:/FileStore/shared_uploads/alfathns1932@gmail.com/nba-spark-databricks-project/Team_Summaries.csv\")\n",
    "\n",
    "# Show data\n",
    "team_summaries_df.show(2)"
   ]
  },
  {
   "cell_type": "code",
   "execution_count": 0,
   "metadata": {
    "application/vnd.databricks.v1+cell": {
     "cellMetadata": {
      "byteLimit": 2048000,
      "rowLimit": 10000
     },
     "collapsed": true,
     "inputWidgets": {},
     "nuid": "196ca40e-4a8d-4094-a7ad-81327dd84d58",
     "showTitle": false,
     "title": ""
    }
   },
   "outputs": [
    {
     "output_type": "stream",
     "name": "stdout",
     "output_type": "stream",
     "text": [
      "+------+---+--------------+------------+--------+---+-----+----+----+----------+----+----+-----------+----+----+-----------+----+----+----------+----+----+----+----+---+---+----+----+----+\n|season| lg|          team|abbreviation|playoffs|  g|   mp|  fg| fga|fg_percent| x3p|x3pa|x3p_percent| x2p|x2pa|x2p_percent|  ft| fta|ft_percent| orb| drb| trb| ast|stl|blk| tov|  pf| pts|\n+------+---+--------------+------------+--------+---+-----+----+----+----------+----+----+-----------+----+----+-----------+----+----+----------+----+----+----+----+---+---+----+----+----+\n|  2024|NBA| Atlanta Hawks|         ATL|   false| 82|19855|3529|7584|     0.465|1125|3092|      0.364|2404|4492|      0.535|1520|1906|     0.797|1024|2639|3663|2180|615|369|1110|1522|9703|\n|  2024|NBA|Boston Celtics|         BOS|    true| 82|19830|3601|7396|     0.487|1351|3482|      0.388|2250|3914|      0.575|1334|1654|     0.807| 876|2923|3799|2207|557|538| 979|1326|9887|\n+------+---+--------------+------------+--------+---+-----+----+----+----------+----+----+-----------+----+----+-----------+----+----+----------+----+----+----+----+---+---+----+----+----+\nonly showing top 2 rows\n\n"
     ]
    }
   ],
   "source": [
    "team_totals_schema = StructType([\n",
    "    StructField(\"season\", IntegerType(), True),\n",
    "    StructField(\"lg\", StringType(), True),\n",
    "    StructField(\"team\", StringType(), True),\n",
    "    StructField(\"abbreviation\", StringType(), True),\n",
    "    StructField(\"playoffs\", BooleanType(), True),\n",
    "    StructField(\"g\", IntegerType(), True),\n",
    "    StructField(\"mp\", IntegerType(), True),\n",
    "    StructField(\"fg\", IntegerType(), True),\n",
    "    StructField(\"fga\", IntegerType(), True),\n",
    "    StructField(\"fg_percent\", DecimalType(5, 3), True),\n",
    "    StructField(\"x3p\", IntegerType(), True),\n",
    "    StructField(\"x3pa\", IntegerType(), True),\n",
    "    StructField(\"x3p_percent\", DecimalType(5, 3), True),\n",
    "    StructField(\"x2p\", IntegerType(), True),\n",
    "    StructField(\"x2pa\", IntegerType(), True),\n",
    "    StructField(\"x2p_percent\", DecimalType(5, 3), True),\n",
    "    StructField(\"ft\", IntegerType(), True),\n",
    "    StructField(\"fta\", IntegerType(), True),\n",
    "    StructField(\"ft_percent\", DecimalType(5, 3), True),\n",
    "    StructField(\"orb\", IntegerType(), True),\n",
    "    StructField(\"drb\", IntegerType(), True),\n",
    "    StructField(\"trb\", IntegerType(), True),\n",
    "    StructField(\"ast\", IntegerType(), True),\n",
    "    StructField(\"stl\", IntegerType(), True),\n",
    "    StructField(\"blk\", IntegerType(), True),\n",
    "    StructField(\"tov\", IntegerType(), True),\n",
    "    StructField(\"pf\", IntegerType(), True),\n",
    "    StructField(\"pts\", IntegerType(), True)\n",
    "])\n",
    "\n",
    "# Read CSV file\n",
    "team_totals_df = spark.read.schema(team_totals_schema).format(\"csv\").option(\"header\", \"true\").load(\"dbfs:/FileStore/shared_uploads/alfathns1932@gmail.com/nba-spark-databricks-project/Team_Totals.csv\")\n",
    "\n",
    "# Show data\n",
    "team_totals_df.show(2)"
   ]
  },
  {
   "cell_type": "markdown",
   "metadata": {
    "application/vnd.databricks.v1+cell": {
     "cellMetadata": {
      "byteLimit": 2048000,
      "rowLimit": 10000
     },
     "inputWidgets": {},
     "nuid": "82f17650-c7ff-4fbb-a540-cb3d936a0368",
     "showTitle": false,
     "title": ""
    }
   },
   "source": [
    "<h1><b>Team Analysis</b></h1>"
   ]
  },
  {
   "cell_type": "markdown",
   "metadata": {
    "application/vnd.databricks.v1+cell": {
     "cellMetadata": {
      "byteLimit": 2048000,
      "rowLimit": 10000
     },
     "inputWidgets": {},
     "nuid": "e32b6fb4-b590-47f4-a971-f17a3cce81df",
     "showTitle": false,
     "title": ""
    }
   },
   "source": [
    "<h3>Team Standing Regular Season</h3>"
   ]
  },
  {
   "cell_type": "code",
   "execution_count": 0,
   "metadata": {
    "application/vnd.databricks.v1+cell": {
     "cellMetadata": {
      "byteLimit": 2048000,
      "rowLimit": 10000
     },
     "collapsed": true,
     "inputWidgets": {},
     "nuid": "8354ddf4-2210-46bc-956b-e2771433e283",
     "showTitle": false,
     "title": ""
    }
   },
   "outputs": [
    {
     "output_type": "stream",
     "name": "stdout",
     "output_type": "stream",
     "text": [
      "+------+--------+--------------------+------------+---+---+--------+--------+\n|season|standing|                team|abbreviation|  w|  l|playoffs|standing|\n+------+--------+--------------------+------------+---+---+--------+--------+\n|  2024|       1|      Boston Celtics|         BOS| 64| 18|    true|       1|\n|  2024|       2|      Denver Nuggets|         DEN| 57| 25|    true|       2|\n|  2024|       3|Oklahoma City Thu...|         OKC| 57| 25|    true|       3|\n|  2024|       4|Minnesota Timberw...|         MIN| 56| 26|    true|       4|\n|  2024|       5|Los Angeles Clippers|         LAC| 51| 31|    true|       5|\n|  2024|       6|    Dallas Mavericks|         DAL| 50| 32|    true|       6|\n|  2024|       7|     New York Knicks|         NYK| 50| 32|   false|       7|\n|  2024|       8|     Milwaukee Bucks|         MIL| 49| 33|    true|       8|\n|  2024|       9|New Orleans Pelicans|         NOP| 49| 33|   false|       9|\n|  2024|      10|        Phoenix Suns|         PHO| 49| 33|   false|      10|\n|  2024|      11| Cleveland Cavaliers|         CLE| 48| 34|   false|      11|\n|  2024|      12|      Indiana Pacers|         IND| 47| 35|   false|      12|\n|  2024|      13|  Los Angeles Lakers|         LAL| 47| 35|   false|      13|\n|  2024|      14|       Orlando Magic|         ORL| 47| 35|   false|      14|\n|  2024|      15|  Philadelphia 76ers|         PHI| 47| 35|   false|      15|\n|  2024|      16|Golden State Warr...|         GSW| 46| 36|   false|      16|\n|  2024|      17|          Miami Heat|         MIA| 46| 36|   false|      17|\n|  2024|      18|    Sacramento Kings|         SAC| 46| 36|   false|      18|\n|  2024|      19|     Houston Rockets|         HOU| 41| 41|   false|      19|\n|  2024|      20|       Chicago Bulls|         CHI| 39| 43|   false|      20|\n+------+--------+--------------------+------------+---+---+--------+--------+\nonly showing top 20 rows\n\n"
     ]
    }
   ],
   "source": [
    "# Define a window specification to partition by season and order by number of wins\n",
    "window_spec = Window.partitionBy(\"season\").orderBy(col(\"w\").desc())\n",
    "\n",
    "# Add a rank column based on the number of wins within each season\n",
    "team_standing_regular_season = team_summaries_df.withColumn(\n",
    "    \"standing\", row_number().over(window_spec)\n",
    ").orderBy(\n",
    "    col(\"season\").desc(),      # Sort by season\n",
    "    col(\"standing\")           # Sort by standing within each season\n",
    ").select(\"season\", \"standing\", \"team\", \"abbreviation\", \"w\", \"l\", \"playoffs\", \"standing\")\n",
    "\n",
    "# Show the results\n",
    "team_standing_regular_season.show()"
   ]
  },
  {
   "cell_type": "markdown",
   "metadata": {
    "application/vnd.databricks.v1+cell": {
     "cellMetadata": {
      "byteLimit": 2048000,
      "rowLimit": 10000
     },
     "inputWidgets": {},
     "nuid": "8e78d950-3caf-45fb-8b03-c3b8cc3453c4",
     "showTitle": false,
     "title": ""
    }
   },
   "source": [
    "<h1><b>Lebron James Analysis</b></h1>"
   ]
  },
  {
   "cell_type": "markdown",
   "metadata": {
    "application/vnd.databricks.v1+cell": {
     "cellMetadata": {
      "byteLimit": 2048000,
      "rowLimit": 10000
     },
     "inputWidgets": {},
     "nuid": "e6fd360c-34f9-4ce4-b16a-7a4bf72b42b1",
     "showTitle": false,
     "title": ""
    }
   },
   "source": [
    "<h3>Lebron James Awards</h3>\n",
    "- Awards <br>\n",
    "- Awards nomination <br>\n",
    "- All star selection <br>\n",
    "- End of season team selection <br>"
   ]
  },
  {
   "cell_type": "code",
   "execution_count": 0,
   "metadata": {
    "application/vnd.databricks.v1+cell": {
     "cellMetadata": {
      "byteLimit": 2048000,
      "rowLimit": 10000
     },
     "collapsed": true,
     "inputWidgets": {},
     "nuid": "60ec55d8-cd14-44f3-a906-6b5a17f44b34",
     "showTitle": false,
     "title": ""
    }
   },
   "outputs": [
    {
     "output_type": "stream",
     "name": "stdout",
     "output_type": "stream",
     "text": [
      "+------+-------+------------+---+---+\n|season|  award|      player|age| tm|\n+------+-------+------------+---+---+\n|  2013|nba mvp|LeBron James| 28|MIA|\n|  2012|nba mvp|LeBron James| 27|MIA|\n|  2010|nba mvp|LeBron James| 25|CLE|\n|  2009|nba mvp|LeBron James| 24|CLE|\n|  2004|nba roy|LeBron James| 19|CLE|\n+------+-------+------------+---+---+\n\n"
     ]
    }
   ],
   "source": [
    "# Lebron awards\n",
    "lebron_awards = player_award_shares_df.filter(\n",
    "    (col(\"player_id\") == 3463) & (col(\"winner\") == True)\n",
    ").select(\n",
    "    \"season\", \"award\", \"player\", \"age\", \"tm\"\n",
    ")\n",
    "\n",
    "lebron_awards.show()"
   ]
  },
  {
   "cell_type": "code",
   "execution_count": 0,
   "metadata": {
    "application/vnd.databricks.v1+cell": {
     "cellMetadata": {
      "byteLimit": 2048000,
      "rowLimit": 10000
     },
     "collapsed": true,
     "inputWidgets": {},
     "nuid": "12bbad45-52fc-4ab7-97a2-60a87c50fafc",
     "showTitle": false,
     "title": ""
    }
   },
   "outputs": [
    {
     "output_type": "stream",
     "name": "stdout",
     "output_type": "stream",
     "text": [
      "+-------+-----+\n|  award|count|\n+-------+-----+\n|nba mvp|    4|\n|nba roy|    1|\n+-------+-----+\n\n"
     ]
    }
   ],
   "source": [
    "lebron_awards_count = lebron_awards.groupBy(\"award\").count()\n",
    "\n",
    "lebron_awards_count = lebron_awards_count.select(\n",
    "    col(\"award\"),\n",
    "    col(\"count\")\n",
    ")\n",
    "\n",
    "lebron_awards_count.show()"
   ]
  },
  {
   "cell_type": "code",
   "execution_count": 0,
   "metadata": {
    "application/vnd.databricks.v1+cell": {
     "cellMetadata": {
      "byteLimit": 2048000,
      "rowLimit": 10000
     },
     "collapsed": true,
     "inputWidgets": {},
     "nuid": "b54c5d70-76dc-4344-aee6-bef89dca481e",
     "showTitle": false,
     "title": ""
    }
   },
   "outputs": [
    {
     "output_type": "stream",
     "name": "stdout",
     "output_type": "stream",
     "text": [
      "+------+----------+------------+---+---+\n|season|     award|      player|age| tm|\n+------+----------+------------+---+---+\n|  2024|clutch_poy|LeBron James| 39|LAL|\n|  2022|   nba mvp|LeBron James| 37|LAL|\n|  2021|   nba mvp|LeBron James| 36|LAL|\n|  2020|   nba mvp|LeBron James| 35|LAL|\n|  2019|   nba mvp|LeBron James| 34|LAL|\n|  2018|   nba mvp|LeBron James| 33|CLE|\n|  2017|      dpoy|LeBron James| 32|CLE|\n|  2017|   nba mvp|LeBron James| 32|CLE|\n|  2016|      dpoy|LeBron James| 31|CLE|\n|  2016|   nba mvp|LeBron James| 31|CLE|\n|  2015|      dpoy|LeBron James| 30|CLE|\n|  2015|   nba mvp|LeBron James| 30|CLE|\n|  2014|      dpoy|LeBron James| 29|MIA|\n|  2014|       mip|LeBron James| 29|MIA|\n|  2014|   nba mvp|LeBron James| 29|MIA|\n|  2013|      dpoy|LeBron James| 28|MIA|\n|  2012|      dpoy|LeBron James| 27|MIA|\n|  2011|      dpoy|LeBron James| 26|MIA|\n|  2011|   nba mvp|LeBron James| 26|MIA|\n|  2010|      dpoy|LeBron James| 25|CLE|\n+------+----------+------------+---+---+\nonly showing top 20 rows\n\n"
     ]
    }
   ],
   "source": [
    "# Nomination but not win\n",
    "lebron_awards_nomination = player_award_shares_df.filter(\n",
    "    (col(\"player_id\") == 3463) & (col(\"winner\") == False)\n",
    ").select(\n",
    "    \"season\", \"award\", \"player\", \"age\", \"tm\"\n",
    ")\n",
    "\n",
    "lebron_awards_nomination.show()"
   ]
  },
  {
   "cell_type": "code",
   "execution_count": 0,
   "metadata": {
    "application/vnd.databricks.v1+cell": {
     "cellMetadata": {
      "byteLimit": 2048000,
      "rowLimit": 10000
     },
     "collapsed": true,
     "inputWidgets": {},
     "nuid": "25455671-19f6-48d4-b2f5-cc89ecb8c5af",
     "showTitle": false,
     "title": ""
    }
   },
   "outputs": [
    {
     "output_type": "stream",
     "name": "stdout",
     "output_type": "stream",
     "text": [
      "+----------+-----+\n|     award|count|\n+----------+-----+\n|       mip|    4|\n|   nba mvp|   15|\n|      dpoy|    9|\n|clutch_poy|    1|\n+----------+-----+\n\n"
     ]
    }
   ],
   "source": [
    "lebron_awards_nomination_count = lebron_awards_nomination.groupBy(\"award\").count()\n",
    "\n",
    "lebron_awards_nomination_count = lebron_awards_nomination_count.select(\n",
    "    col(\"award\"),\n",
    "    col(\"count\")\n",
    ")\n",
    "\n",
    "lebron_awards_nomination_count.show()"
   ]
  },
  {
   "cell_type": "code",
   "execution_count": 0,
   "metadata": {
    "application/vnd.databricks.v1+cell": {
     "cellMetadata": {
      "byteLimit": 2048000,
      "rowLimit": 10000
     },
     "collapsed": true,
     "inputWidgets": {},
     "nuid": "6227b7ce-086e-43ae-af03-f94e3ceab895",
     "showTitle": false,
     "title": ""
    }
   },
   "outputs": [
    {
     "output_type": "stream",
     "name": "stdout",
     "output_type": "stream",
     "text": [
      "20\n"
     ]
    }
   ],
   "source": [
    "# Filter DataFrame to find occurrences of \"LeBron James\"\n",
    "lebron_all_star_selection = all_star_selections_df.filter(\n",
    "    col(\"player\") == \"LeBron James\"\n",
    ").count()\n",
    "\n",
    "print(lebron_all_star_selection)"
   ]
  },
  {
   "cell_type": "code",
   "execution_count": 0,
   "metadata": {
    "application/vnd.databricks.v1+cell": {
     "cellMetadata": {
      "byteLimit": 2048000,
      "rowLimit": 10000
     },
     "inputWidgets": {},
     "nuid": "d55867be-d27f-445c-93a7-f06d077e6dc1",
     "showTitle": false,
     "title": ""
    }
   },
   "outputs": [
    {
     "output_type": "stream",
     "name": "stdout",
     "output_type": "stream",
     "text": [
      "+-----------+---------+-----+\n|       type|number_tm|count|\n+-----------+---------+-----+\n|All-Defense|      2nd|    1|\n|    All-NBA|      3rd|    4|\n|All-Defense|      1st|    5|\n| All-Rookie|      1st|    1|\n|    All-NBA|      1st|   13|\n|    All-NBA|      2nd|    3|\n+-----------+---------+-----+\n\n"
     ]
    }
   ],
   "source": [
    "# Filter DataFrame to include only rows where player is \"LeBron James\"\n",
    "lebron_end_season_team = end_of_season_teams_df.filter(\n",
    "    col(\"player\") == \"LeBron James\"\n",
    ")\n",
    "\n",
    "# Group by 'type' and 'number_tm', and count the occurrences\n",
    "lebron_end_season_team = lebron_end_season_team.groupBy(\n",
    "    \"type\",\n",
    "    \"number_tm\"\n",
    ").agg(\n",
    "    count(\"*\").alias(\"count\")\n",
    ")\n",
    "\n",
    "# Show the result\n",
    "lebron_end_season_team.show()"
   ]
  },
  {
   "cell_type": "markdown",
   "metadata": {
    "application/vnd.databricks.v1+cell": {
     "cellMetadata": {
      "byteLimit": 2048000,
      "rowLimit": 10000
     },
     "inputWidgets": {},
     "nuid": "a8b88e21-0ef9-4ce8-a9ba-2f033dc573ab",
     "showTitle": false,
     "title": ""
    }
   },
   "source": [
    "<h3>Lebron James Performance in Each Team</h3>\n",
    "- Team where he plays <br>\n",
    "- Standing team when he plays <br>\n",
    "- Statistic each season <br>\n",
    "- Total statistic <br>\n",
    "- Standing performance among teammates each season <br>"
   ]
  },
  {
   "cell_type": "code",
   "execution_count": 0,
   "metadata": {
    "application/vnd.databricks.v1+cell": {
     "cellMetadata": {
      "byteLimit": 2048000,
      "rowLimit": 10000
     },
     "inputWidgets": {},
     "nuid": "776c0d3e-28f5-4ea6-903e-3900172c0a16",
     "showTitle": false,
     "title": ""
    }
   },
   "outputs": [
    {
     "output_type": "stream",
     "name": "stdout",
     "output_type": "stream",
     "text": [
      "+------+---+----------+\n|season| tm|experience|\n+------+---+----------+\n|  2004|CLE|         1|\n|  2005|CLE|         2|\n|  2006|CLE|         3|\n|  2007|CLE|         4|\n|  2008|CLE|         5|\n|  2009|CLE|         6|\n|  2010|CLE|         7|\n|  2011|MIA|         8|\n|  2012|MIA|         9|\n|  2013|MIA|        10|\n|  2014|MIA|        11|\n|  2015|CLE|        12|\n|  2016|CLE|        13|\n|  2017|CLE|        14|\n|  2018|CLE|        15|\n|  2019|LAL|        16|\n|  2020|LAL|        17|\n|  2021|LAL|        18|\n|  2022|LAL|        19|\n|  2023|LAL|        20|\n+------+---+----------+\nonly showing top 20 rows\n\n"
     ]
    }
   ],
   "source": [
    "# Filter Lebron James Team\n",
    "lebron_teams = player_season_info_df.filter(\n",
    "    col(\"player_id\") == 3463\n",
    ").select(\n",
    "    \"season\", \"tm\", \"experience\"\n",
    ")\n",
    "\n",
    "lebron_teams.show()"
   ]
  },
  {
   "cell_type": "code",
   "execution_count": 0,
   "metadata": {
    "application/vnd.databricks.v1+cell": {
     "cellMetadata": {
      "byteLimit": 2048000,
      "rowLimit": 10000
     },
     "collapsed": true,
     "inputWidgets": {},
     "nuid": "8253a1f5-9991-4c73-b08a-59112c097792",
     "showTitle": false,
     "title": ""
    }
   },
   "outputs": [
    {
     "output_type": "stream",
     "name": "stdout",
     "output_type": "stream",
     "text": [
      "+------+---+-------------------+--------+--------+\n|season| tm|               team|standing|playoffs|\n+------+---+-------------------+--------+--------+\n|  2004|CLE|Cleveland Cavaliers|      21|   false|\n|  2005|CLE|Cleveland Cavaliers|      17|   false|\n|  2006|CLE|Cleveland Cavaliers|       6|    true|\n|  2007|CLE|Cleveland Cavaliers|       7|    true|\n|  2008|CLE|Cleveland Cavaliers|      13|    true|\n|  2009|CLE|Cleveland Cavaliers|       1|    true|\n|  2010|CLE|Cleveland Cavaliers|       1|    true|\n|  2011|MIA|         Miami Heat|       3|    true|\n|  2012|MIA|         Miami Heat|       4|    true|\n|  2013|MIA|         Miami Heat|       1|    true|\n|  2014|MIA|         Miami Heat|       6|    true|\n|  2015|CLE|Cleveland Cavaliers|       7|    true|\n|  2016|CLE|Cleveland Cavaliers|       3|    true|\n|  2017|CLE|Cleveland Cavaliers|       5|    true|\n|  2018|CLE|Cleveland Cavaliers|       6|    true|\n|  2019|LAL| Los Angeles Lakers|      20|   false|\n|  2020|LAL| Los Angeles Lakers|       3|    true|\n|  2021|LAL| Los Angeles Lakers|       9|    true|\n|  2022|LAL| Los Angeles Lakers|      23|   false|\n|  2023|LAL| Los Angeles Lakers|      14|   false|\n+------+---+-------------------+--------+--------+\nonly showing top 20 rows\n\n"
     ]
    }
   ],
   "source": [
    "# Team standing when lebron play\n",
    "lebron_team_standing = lebron_teams.join(\n",
    "    team_standing_regular_season,\n",
    "    (lebron_teams.season == team_standing_regular_season.season) & \n",
    "    (lebron_teams.tm == team_standing_regular_season.abbreviation),\n",
    "    \"left\"\n",
    ").select(\n",
    "    lebron_teams.season,\n",
    "    lebron_teams.tm,\n",
    "    team_standing_regular_season.team,\n",
    "    team_standing_regular_season.standing,\n",
    "    team_standing_regular_season.playoffs\n",
    ")\n",
    "\n",
    "# Show the joined DataFrame\n",
    "lebron_team_standing.show()"
   ]
  },
  {
   "cell_type": "code",
   "execution_count": 0,
   "metadata": {
    "application/vnd.databricks.v1+cell": {
     "cellMetadata": {
      "byteLimit": 2048000,
      "rowLimit": 10000
     },
     "collapsed": true,
     "inputWidgets": {},
     "nuid": "5ea14ef7-d2bd-4671-9050-b79c5019bcb7",
     "showTitle": false,
     "title": ""
    }
   },
   "outputs": [
    {
     "output_type": "stream",
     "name": "stdout",
     "output_type": "stream",
     "text": [
      "+------+------------+------+-------------+-------+-------+-------+-------+-------+-------+------+------+\n|season|      player|avg_mp|gs_percentage|avg_pts|avg_trb|avg_ast|avg_stl|avg_blk|avg_tov|avg_mp|  GmSc|\n+------+------------+------+-------------+-------+-------+-------+-------+-------+-------+------+------+\n|  2024|LeBron James|35.268|        100.0| 25.662|  7.296|  8.296|  1.254|  0.535|  3.451|35.268|22.519|\n|  2023|LeBron James|35.527|       98.182| 28.909|  8.309|  6.818|  0.909|  0.582|  3.236|35.527|22.449|\n|  2022|LeBron James|37.214|        100.0| 30.268|  8.196|  6.232|  1.304|  1.054|    3.5|37.214| 23.94|\n|  2021|LeBron James|33.422|        100.0| 25.022|  7.689|  7.778|  1.067|  0.556|  3.733|33.422|20.396|\n|  2020|LeBron James|34.567|        100.0| 25.343|  7.836| 10.209|  1.164|  0.537|  3.896|34.567|  21.7|\n|  2019|LeBron James|35.218|        100.0| 27.364|  8.455|  8.255|  1.309|    0.6|  3.582|35.218| 22.66|\n|  2018|LeBron James|36.902|        100.0| 27.451|  8.646|   9.11|  1.415|  0.866|  4.232|36.902|24.016|\n|  2017|LeBron James|37.757|        100.0| 26.405|  8.635|   8.73|  1.243|  0.595|  4.095|37.757|22.801|\n|  2016|LeBron James|35.645|        100.0| 25.263|  7.434|  6.763|  1.368|  0.645|  3.276|35.645|20.744|\n|  2015|LeBron James| 36.13|        100.0| 25.261|  6.029|  7.406|   1.58|   0.71|  3.942| 36.13|19.657|\n|  2014|LeBron James|37.688|        100.0|  27.13|  6.922|  6.338|  1.571|  0.338|  3.506|37.688|22.638|\n|  2013|LeBron James|37.855|        100.0| 26.789|  8.026|   7.25|  1.697|  0.882|  2.974|37.855|24.405|\n|  2012|LeBron James|37.516|        100.0| 27.145|  7.935|  6.242|  1.855|  0.806|  3.435|37.516|22.932|\n|  2011|LeBron James|38.772|        100.0| 26.722|  7.468|  7.013|   1.57|  0.633|  3.595|38.772| 21.74|\n|  2010|LeBron James|39.026|        100.0| 29.711|  7.289|  8.566|  1.645|  1.013|  3.434|39.026|25.583|\n|  2009|LeBron James|37.704|        100.0| 28.444|  7.568|  7.247|  1.691|  1.148|  2.975|37.704|24.271|\n|  2008|LeBron James| 40.36|       98.667|   30.0|  7.893|  7.187|   1.84|   1.08|    3.4| 40.36| 24.15|\n|  2007|LeBron James|40.897|        100.0| 27.333|  6.744|  6.026|  1.603|  0.705|  3.205|40.897|20.339|\n|  2006|LeBron James|42.544|        100.0| 31.367|  7.038|  6.595|  1.557|  0.835|  3.291|42.544|23.607|\n|  2005|LeBron James| 42.35|        100.0| 27.188|   7.35|  7.213|  2.213|   0.65|  3.275| 42.35|22.106|\n+------+------------+------+-------------+-------+-------+-------+-------+-------+-------+------+------+\nonly showing top 20 rows\n\n"
     ]
    }
   ],
   "source": [
    "# Filter the DataFrame for LeBron James (player_id == 3463)\n",
    "lebron_stat_each_season = player_totals_df.filter(\n",
    "    col(\"player_id\") == 3463\n",
    ")\n",
    "\n",
    "# Add average columns for each statistic involved in the GmSc calculation\n",
    "lebron_stat_each_season = lebron_stat_each_season.withColumn(\n",
    "    \"gs_percentage\",\n",
    "    round(when(col(\"g\") > 0, col(\"gs\") / col(\"g\") * 100).otherwise(0), 3)\n",
    ").withColumn(\n",
    "    \"avg_mp\",\n",
    "    round(col(\"mp\") / col(\"g\"), 3)\n",
    ").withColumn(\n",
    "    \"avg_pts\",\n",
    "    round(col(\"pts\") / col(\"g\"), 3)\n",
    ").withColumn(\n",
    "    \"avg_fg\",\n",
    "    round(col(\"fg\") / col(\"g\"), 3)\n",
    ").withColumn(\n",
    "    \"avg_fga\",\n",
    "    round(col(\"fga\") / col(\"g\"), 3)\n",
    ").withColumn(\n",
    "    \"avg_fta\",\n",
    "    round(col(\"fta\") / col(\"g\"), 3)\n",
    ").withColumn(\n",
    "    \"avg_ft\",\n",
    "    round(col(\"ft\") / col(\"g\"), 3)\n",
    ").withColumn(\n",
    "    \"avg_orb\",\n",
    "    round(col(\"orb\") / col(\"g\"), 3)\n",
    ").withColumn(\n",
    "    \"avg_drb\",\n",
    "    round(col(\"drb\") / col(\"g\"), 3)\n",
    ").withColumn(\n",
    "    \"avg_trb\",\n",
    "    round(col(\"trb\") / col(\"g\"), 3)\n",
    ").withColumn(\n",
    "    \"avg_ast\",\n",
    "    round(col(\"ast\") / col(\"g\"), 3)\n",
    ").withColumn(\n",
    "    \"avg_stl\",\n",
    "    round(col(\"stl\") / col(\"g\"), 3)\n",
    ").withColumn(\n",
    "    \"avg_blk\",\n",
    "    round(col(\"blk\") / col(\"g\"), 3)\n",
    ").withColumn(\n",
    "    \"avg_pf\",\n",
    "    round(col(\"pf\") / col(\"g\"), 3)\n",
    ").withColumn(\n",
    "    \"avg_tov\",\n",
    "    round(col(\"tov\") / col(\"g\"), 3)\n",
    ")\n",
    "\n",
    "# Calculate GmSc using the average columns\n",
    "lebron_stat_each_season = lebron_stat_each_season.withColumn(\n",
    "    \"GmSc\",\n",
    "    round(\n",
    "        col(\"avg_pts\") +\n",
    "        (0.4 * col(\"avg_fg\")) -\n",
    "        (0.7 * col(\"avg_fga\")) -\n",
    "        (0.4 * (col(\"avg_fta\") - col(\"avg_ft\"))) +\n",
    "        (0.7 * col(\"avg_orb\")) +\n",
    "        (0.3 * col(\"avg_drb\")) +\n",
    "        col(\"avg_stl\") +\n",
    "        (0.7 * col(\"avg_ast\")) +\n",
    "        (0.7 * col(\"avg_blk\")) -\n",
    "        (0.4 * col(\"avg_pf\")) -\n",
    "        col(\"avg_tov\"),\n",
    "        3\n",
    "    )\n",
    ")\n",
    "\n",
    "# Select the relevant columns for display without '_per_game'\n",
    "lebron_stat_each_season = lebron_stat_each_season.select(\n",
    "    \"season\",\n",
    "    \"player\",\n",
    "    \"avg_mp\",\n",
    "    \"gs_percentage\",\n",
    "    \"avg_pts\",\n",
    "    \"avg_trb\",\n",
    "    \"avg_ast\",\n",
    "    \"avg_stl\",\n",
    "    \"avg_blk\",\n",
    "    \"avg_tov\",\n",
    "    \"avg_mp\",\n",
    "    \"GmSc\"\n",
    ")\n",
    "\n",
    "# Show the updated DataFrame\n",
    "lebron_stat_each_season.show()"
   ]
  },
  {
   "cell_type": "code",
   "execution_count": 0,
   "metadata": {
    "application/vnd.databricks.v1+cell": {
     "cellMetadata": {
      "byteLimit": 2048000,
      "rowLimit": 10000
     },
     "inputWidgets": {},
     "nuid": "f2ba7dc5-51ca-4faa-bea6-54fffb934dff",
     "showTitle": false,
     "title": ""
    }
   },
   "outputs": [
    {
     "output_type": "stream",
     "name": "stdout",
     "output_type": "stream",
     "text": [
      "+---------+-------------+---------+-----------+-----------+--------------+\n|total_pts|total_rebound|total_ast|total_steal|total_block|total_turnover|\n+---------+-------------+---------+-----------+-----------+--------------+\n|    40474|        11185|    11009|       2275|       1111|          5211|\n+---------+-------------+---------+-----------+-----------+--------------+\n\n"
     ]
    }
   ],
   "source": [
    "# Filter the DataFrame for LeBron James (player_id == 3463)\n",
    "lebron_total_stat = player_totals_df.filter(\n",
    "    col(\"player_id\") == 3463\n",
    ")\n",
    "\n",
    "# Calculate total stat\n",
    "lebron_total_stat = lebron_total_stat.agg(\n",
    "    sum(\"pts\").alias(\"total_pts\"),\n",
    "    sum(\"trb\").alias(\"total_rebound\"),\n",
    "    sum(\"ast\").alias(\"total_ast\"),\n",
    "    sum(\"stl\").alias(\"total_steal\"),\n",
    "    sum(\"blk\").alias(\"total_block\"),\n",
    "    sum(\"tov\").alias(\"total_turnover\")\n",
    ")\n",
    "\n",
    "# Show the total points\n",
    "lebron_total_stat.show()"
   ]
  },
  {
   "cell_type": "code",
   "execution_count": 0,
   "metadata": {
    "application/vnd.databricks.v1+cell": {
     "cellMetadata": {
      "byteLimit": 2048000,
      "rowLimit": 10000
     },
     "inputWidgets": {},
     "nuid": "89fb7727-c52d-4ee0-b043-6780b7cb5436",
     "showTitle": false,
     "title": ""
    }
   },
   "outputs": [
    {
     "output_type": "stream",
     "name": "stdout",
     "output_type": "stream",
     "text": [
      "+------+------------+---+------------+------------+----------------+--------------+--------------+-----------------+\n|season|      player| tm|standing_pts|standing_ast|standing_rebound|standing_block|standing_steal|standing_turnover|\n+------+------------+---+------------+------------+----------------+--------------+--------------+-----------------+\n|  2004|LeBron James|CLE|           1|           1|               3|             2|             1|                1|\n|  2005|LeBron James|CLE|           1|           1|               3|             3|             1|                1|\n|  2006|LeBron James|CLE|           1|           1|               3|             2|             1|                1|\n|  2007|LeBron James|CLE|           1|           1|               4|             2|             1|                1|\n|  2008|LeBron James|CLE|           1|           1|               2|             2|             1|                1|\n|  2009|LeBron James|CLE|           1|           1|               1|             1|             1|                1|\n|  2010|LeBron James|CLE|           1|           1|               2|             1|             1|                1|\n|  2011|LeBron James|MIA|           1|           1|               2|             4|             1|                1|\n|  2012|LeBron James|MIA|           1|           1|               1|             3|             1|                1|\n|  2013|LeBron James|MIA|           1|           1|               1|             2|             1|                1|\n|  2014|LeBron James|MIA|           1|           1|               1|             5|             1|                1|\n|  2015|LeBron James|CLE|           1|           1|               3|             3|             2|                1|\n|  2016|LeBron James|CLE|           1|           1|               3|             3|             1|                1|\n|  2017|LeBron James|CLE|           1|           1|               3|             2|             1|                1|\n|  2018|LeBron James|CLE|           1|           1|               1|             1|             1|                1|\n|  2019|LeBron James|LAL|           1|           1|               2|             3|             2|                1|\n|  2020|LeBron James|LAL|           1|           1|               2|             4|             3|                1|\n|  2021|LeBron James|LAL|           1|           2|               3|             6|             5|                1|\n|  2022|LeBron James|LAL|           1|           2|               2|             2|             2|                2|\n|  2023|LeBron James|LAL|           1|           2|               2|             3|             4|                2|\n+------+------------+---+------------+------------+----------------+--------------+--------------+-----------------+\nonly showing top 20 rows\n\n"
     ]
    }
   ],
   "source": [
    "# Alias Lebron Team\n",
    "lebron_teams_alias = lebron_teams.select(\n",
    "    col(\"season\").alias(\"lebron_season\"),\n",
    "    col(\"tm\").alias(\"lebron_team\"),\n",
    ")\n",
    "\n",
    "# Join lebron_teams with player_totals_df to get teammates each season\n",
    "lebron_teammates_each_season = lebron_teams_alias.join(\n",
    "    player_totals_df,\n",
    "    (lebron_teams_alias.lebron_season == player_totals_df.season) & \n",
    "    (lebron_teams_alias.lebron_team == player_totals_df.tm),\n",
    "    \"inner\"\n",
    ")\n",
    "\n",
    "# Define a window specification to rank players based on their points\n",
    "window_spec_pts = Window.partitionBy(\"season\", \"tm\").orderBy(col(\"pts\").desc())\n",
    "\n",
    "# Define a window specification to rank players based on their assists\n",
    "window_spec_ast = Window.partitionBy(\"season\", \"tm\").orderBy(col(\"ast\").desc())\n",
    "\n",
    "# Define a window specification to rank players based on their rebound\n",
    "window_spec_trb = Window.partitionBy(\"season\", \"tm\").orderBy(col(\"trb\").desc())\n",
    "\n",
    "# Define a window specification to rank players based on their block\n",
    "window_spec_blk = Window.partitionBy(\"season\", \"tm\").orderBy(col(\"blk\").desc())\n",
    "\n",
    "# Define a window specification to rank players based on their steal\n",
    "window_spec_stl = Window.partitionBy(\"season\", \"tm\").orderBy(col(\"stl\").desc())\n",
    "\n",
    "# Define a window specification to rank players based on their turnover\n",
    "window_spec_tov = Window.partitionBy(\"season\", \"tm\").orderBy(col(\"tov\").desc())\n",
    "\n",
    "# Add the standing_pts column using the rank function\n",
    "lebron_teammates_each_season = lebron_teammates_each_season.withColumn(\n",
    "    \"standing_pts\",\n",
    "    rank().over(window_spec_pts)\n",
    ")\n",
    "\n",
    "# Add the standing_ast column using the rank function\n",
    "lebron_teammates_each_season = lebron_teammates_each_season.withColumn(\n",
    "    \"standing_ast\",\n",
    "    rank().over(window_spec_ast)\n",
    ")\n",
    "\n",
    "# Add the standing_rebound column using the rank function\n",
    "lebron_teammates_each_season = lebron_teammates_each_season.withColumn(\n",
    "    \"standing_rebound\",\n",
    "    rank().over(window_spec_trb)\n",
    ")\n",
    "\n",
    "# Add the standing_block column using the rank function\n",
    "lebron_teammates_each_season = lebron_teammates_each_season.withColumn(\n",
    "    \"standing_block\",\n",
    "    rank().over(window_spec_blk)\n",
    ")\n",
    "\n",
    "# Add the standing_block column using the rank function\n",
    "lebron_teammates_each_season = lebron_teammates_each_season.withColumn(\n",
    "    \"standing_steal\",\n",
    "    rank().over(window_spec_stl)\n",
    ")\n",
    "\n",
    "# Add the standing_block column using the rank function\n",
    "lebron_teammates_each_season = lebron_teammates_each_season.withColumn(\n",
    "    \"standing_turnover\",\n",
    "    rank().over(window_spec_tov)\n",
    ")\n",
    "\n",
    "# Select the columns to display\n",
    "lebron_teammates_each_season = lebron_teammates_each_season.select(\n",
    "    \"season\",\n",
    "    \"player\",\n",
    "    \"tm\",\n",
    "    \"standing_pts\",\n",
    "    \"standing_ast\",\n",
    "    \"standing_rebound\",\n",
    "    \"standing_block\",\n",
    "    \"standing_steal\",\n",
    "    \"standing_turnover\"\n",
    ")\n",
    "\n",
    "# Filter to only include LeBron James\n",
    "lebron_rank_each_season = lebron_teammates_each_season.filter(\n",
    "    col(\"player_id\") == 3463\n",
    ")\n",
    "\n",
    "# Show the result\n",
    "lebron_rank_each_season.show()"
   ]
  },
  {
   "cell_type": "markdown",
   "metadata": {
    "application/vnd.databricks.v1+cell": {
     "cellMetadata": {
      "byteLimit": 2048000,
      "rowLimit": 10000
     },
     "inputWidgets": {},
     "nuid": "ea3de802-f893-41e8-baf6-beeb23a70441",
     "showTitle": false,
     "title": ""
    }
   },
   "source": [
    "<h1><b>Kobe Bryant Analysis</b></h1>"
   ]
  },
  {
   "cell_type": "markdown",
   "metadata": {
    "application/vnd.databricks.v1+cell": {
     "cellMetadata": {
      "byteLimit": 2048000,
      "rowLimit": 10000
     },
     "inputWidgets": {},
     "nuid": "ad0e22e8-97cb-41b2-8840-5ce671c72062",
     "showTitle": false,
     "title": ""
    }
   },
   "source": [
    "<h3>Kobe Bryant Awards</h3>\n",
    "- Awards <br>\n",
    "- Awards nomination <br>\n",
    "- All star selection <br>\n",
    "- End of season team selection <br>"
   ]
  },
  {
   "cell_type": "code",
   "execution_count": 0,
   "metadata": {
    "application/vnd.databricks.v1+cell": {
     "cellMetadata": {
      "byteLimit": 2048000,
      "rowLimit": 10000
     },
     "collapsed": true,
     "inputWidgets": {},
     "nuid": "581ee87f-c80c-4e19-8574-ee6ae1adb0a8",
     "showTitle": false,
     "title": ""
    }
   },
   "outputs": [
    {
     "output_type": "stream",
     "name": "stdout",
     "output_type": "stream",
     "text": [
      "+------+-------+-----------+---+---+\n|season|  award|     player|age| tm|\n+------+-------+-----------+---+---+\n|  2008|nba mvp|Kobe Bryant| 29|LAL|\n+------+-------+-----------+---+---+\n\n"
     ]
    }
   ],
   "source": [
    "kobe_awards = player_award_shares_df.filter(\n",
    "    (col(\"player_id\") == 3000) & (col(\"winner\") == True)\n",
    ").select(\n",
    "    \"season\", \"award\", \"player\", \"age\", \"tm\"\n",
    ")\n",
    "\n",
    "kobe_awards.show()"
   ]
  },
  {
   "cell_type": "code",
   "execution_count": 0,
   "metadata": {
    "application/vnd.databricks.v1+cell": {
     "cellMetadata": {
      "byteLimit": 2048000,
      "rowLimit": 10000
     },
     "collapsed": true,
     "inputWidgets": {},
     "nuid": "76f12e63-cf87-4fdd-a2ed-871929dc9dfc",
     "showTitle": false,
     "title": ""
    }
   },
   "outputs": [
    {
     "output_type": "stream",
     "name": "stdout",
     "output_type": "stream",
     "text": [
      "+-------+-----+\n|  award|count|\n+-------+-----+\n|nba mvp|    1|\n+-------+-----+\n\n"
     ]
    }
   ],
   "source": [
    "kobe_awards_count = kobe_awards.groupBy(\"award\").count()\n",
    "\n",
    "kobe_awards_count = kobe_awards_count.select(\n",
    "    col(\"award\"),\n",
    "    col(\"count\")\n",
    ")\n",
    "\n",
    "kobe_awards_count.show()"
   ]
  },
  {
   "cell_type": "code",
   "execution_count": 0,
   "metadata": {
    "application/vnd.databricks.v1+cell": {
     "cellMetadata": {
      "byteLimit": 2048000,
      "rowLimit": 10000
     },
     "collapsed": true,
     "inputWidgets": {},
     "nuid": "714229cf-c3fe-4747-afec-90223b2d02ad",
     "showTitle": false,
     "title": ""
    }
   },
   "outputs": [
    {
     "output_type": "stream",
     "name": "stdout",
     "output_type": "stream",
     "text": [
      "+------+-------+-----------+---+---+\n|season|  award|     player|age| tm|\n+------+-------+-----------+---+---+\n|  2013|nba mvp|Kobe Bryant| 34|LAL|\n|  2012|nba mvp|Kobe Bryant| 33|LAL|\n|  2011|   dpoy|Kobe Bryant| 32|LAL|\n|  2011|nba mvp|Kobe Bryant| 32|LAL|\n|  2010|   dpoy|Kobe Bryant| 31|LAL|\n|  2010|nba mvp|Kobe Bryant| 31|LAL|\n|  2009|   dpoy|Kobe Bryant| 30|LAL|\n|  2009|nba mvp|Kobe Bryant| 30|LAL|\n|  2008|   dpoy|Kobe Bryant| 29|LAL|\n|  2007|   dpoy|Kobe Bryant| 28|LAL|\n|  2007|nba mvp|Kobe Bryant| 28|LAL|\n|  2006|    mip|Kobe Bryant| 27|LAL|\n|  2006|nba mvp|Kobe Bryant| 27|LAL|\n|  2004|   dpoy|Kobe Bryant| 25|LAL|\n|  2004|nba mvp|Kobe Bryant| 25|LAL|\n|  2003|   dpoy|Kobe Bryant| 24|LAL|\n|  2003|nba mvp|Kobe Bryant| 24|LAL|\n|  2002|   dpoy|Kobe Bryant| 23|LAL|\n|  2002|nba mvp|Kobe Bryant| 23|LAL|\n|  2001|   dpoy|Kobe Bryant| 22|LAL|\n+------+-------+-----------+---+---+\nonly showing top 20 rows\n\n"
     ]
    }
   ],
   "source": [
    "# Nomination but not win\n",
    "kobe_awards_nomination = player_award_shares_df.filter(\n",
    "    (col(\"player_id\") == 3000) & (col(\"winner\") == False)\n",
    ").select(\n",
    "    \"season\", \"award\", \"player\", \"age\", \"tm\"\n",
    ")\n",
    "\n",
    "kobe_awards_nomination.show()"
   ]
  },
  {
   "cell_type": "code",
   "execution_count": 0,
   "metadata": {
    "application/vnd.databricks.v1+cell": {
     "cellMetadata": {
      "byteLimit": 2048000,
      "rowLimit": 10000
     },
     "collapsed": true,
     "inputWidgets": {},
     "nuid": "2c25f60b-23aa-4bbb-89d4-11e9eba232ed",
     "showTitle": false,
     "title": ""
    }
   },
   "outputs": [
    {
     "output_type": "stream",
     "name": "stdout",
     "output_type": "stream",
     "text": [
      "+-------+-----+\n|  award|count|\n+-------+-----+\n|   smoy|    1|\n|    mip|    3|\n|nba mvp|   12|\n|   dpoy|   10|\n+-------+-----+\n\n"
     ]
    }
   ],
   "source": [
    "kobe_awards_nomination_count = kobe_awards_nomination.groupBy(\"award\").count()\n",
    "\n",
    "kobe_awards_nomination_count = kobe_awards_nomination_count.select(\n",
    "    col(\"award\"),\n",
    "    col(\"count\")\n",
    ")\n",
    "\n",
    "kobe_awards_nomination_count.show()"
   ]
  },
  {
   "cell_type": "code",
   "execution_count": 0,
   "metadata": {
    "application/vnd.databricks.v1+cell": {
     "cellMetadata": {
      "byteLimit": 2048000,
      "rowLimit": 10000
     },
     "collapsed": true,
     "inputWidgets": {},
     "nuid": "c05fe00d-85cc-41f3-91f1-1f473c06c55c",
     "showTitle": false,
     "title": ""
    }
   },
   "outputs": [
    {
     "output_type": "stream",
     "name": "stdout",
     "output_type": "stream",
     "text": [
      "18\n"
     ]
    }
   ],
   "source": [
    "# Filter DataFrame to find occurrences of \"Kobe Bryant\"\n",
    "kobe_all_star_selection = all_star_selections_df.filter(\n",
    "    col(\"player\") == \"Kobe Bryant\"\n",
    ").count()\n",
    "\n",
    "print(kobe_all_star_selection)"
   ]
  },
  {
   "cell_type": "code",
   "execution_count": 0,
   "metadata": {
    "application/vnd.databricks.v1+cell": {
     "cellMetadata": {
      "byteLimit": 2048000,
      "rowLimit": 10000
     },
     "collapsed": true,
     "inputWidgets": {},
     "nuid": "90e3e474-6d39-4d15-a380-f6399f54e246",
     "showTitle": false,
     "title": ""
    }
   },
   "outputs": [
    {
     "output_type": "stream",
     "name": "stdout",
     "output_type": "stream",
     "text": [
      "+-----------+---------+-----+\n|       type|number_tm|count|\n+-----------+---------+-----+\n|All-Defense|      2nd|    3|\n|    All-NBA|      3rd|    2|\n|All-Defense|      1st|    9|\n| All-Rookie|      2nd|    1|\n|    All-NBA|      1st|   11|\n|    All-NBA|      2nd|    2|\n+-----------+---------+-----+\n\n"
     ]
    }
   ],
   "source": [
    "# Filter DataFrame to include only rows where player is \"Kobe Bryant\"\n",
    "kobe_end_season_team = end_of_season_teams_df.filter(\n",
    "    col(\"player\") == \"Kobe Bryant\"\n",
    ")\n",
    "\n",
    "# Group by 'type' and 'number_tm', and count the occurrences\n",
    "kobe_end_season_team = kobe_end_season_team.groupBy(\n",
    "    \"type\",\n",
    "    \"number_tm\"\n",
    ").agg(\n",
    "    count(\"*\").alias(\"count\")\n",
    ")\n",
    "\n",
    "# Show the result\n",
    "kobe_end_season_team.show()"
   ]
  },
  {
   "cell_type": "markdown",
   "metadata": {
    "application/vnd.databricks.v1+cell": {
     "cellMetadata": {
      "byteLimit": 2048000,
      "rowLimit": 10000
     },
     "inputWidgets": {},
     "nuid": "af1b6fe2-0131-427c-b1d8-a99a2967108d",
     "showTitle": false,
     "title": ""
    }
   },
   "source": [
    "<h3>Kobe Bryant Performance in Each Team</h3>\n",
    "- Team where he plays <br>\n",
    "- Standing team when he plays <br>\n",
    "- Statistic each season <br>\n",
    "- Total statistic <br>\n",
    "- Standing performance among teammates each season <br>"
   ]
  },
  {
   "cell_type": "code",
   "execution_count": 0,
   "metadata": {
    "application/vnd.databricks.v1+cell": {
     "cellMetadata": {
      "byteLimit": 2048000,
      "rowLimit": 10000
     },
     "collapsed": true,
     "inputWidgets": {},
     "nuid": "565ae9e1-9f8c-4802-b91b-7e2b8ae88b77",
     "showTitle": false,
     "title": ""
    }
   },
   "outputs": [
    {
     "output_type": "stream",
     "name": "stdout",
     "output_type": "stream",
     "text": [
      "+------+---+----------+\n|season| tm|experience|\n+------+---+----------+\n|  1997|LAL|         1|\n|  1998|LAL|         2|\n|  1999|LAL|         3|\n|  2000|LAL|         4|\n|  2001|LAL|         5|\n|  2002|LAL|         6|\n|  2003|LAL|         7|\n|  2004|LAL|         8|\n|  2005|LAL|         9|\n|  2006|LAL|        10|\n|  2007|LAL|        11|\n|  2008|LAL|        12|\n|  2009|LAL|        13|\n|  2010|LAL|        14|\n|  2011|LAL|        15|\n|  2012|LAL|        16|\n|  2013|LAL|        17|\n|  2014|LAL|        18|\n|  2015|LAL|        19|\n|  2016|LAL|        20|\n+------+---+----------+\n\n"
     ]
    }
   ],
   "source": [
    "# Filter Kobe Bryant Team\n",
    "kobe_teams = player_season_info_df.filter(\n",
    "    col(\"player_id\") == 3000\n",
    ").select(\n",
    "    \"season\", \"tm\", \"experience\"\n",
    ")\n",
    "\n",
    "kobe_teams.show()"
   ]
  },
  {
   "cell_type": "code",
   "execution_count": 0,
   "metadata": {
    "application/vnd.databricks.v1+cell": {
     "cellMetadata": {
      "byteLimit": 2048000,
      "rowLimit": 10000
     },
     "collapsed": true,
     "inputWidgets": {},
     "nuid": "466eacf5-4ed6-4a68-8c0b-fc9aef301149",
     "showTitle": false,
     "title": ""
    }
   },
   "outputs": [
    {
     "output_type": "stream",
     "name": "stdout",
     "output_type": "stream",
     "text": [
      "+------+---+------------------+--------+--------+\n|season| tm|              team|standing|playoffs|\n+------+---+------------------+--------+--------+\n|  1997|LAL|Los Angeles Lakers|       8|    true|\n|  1998|LAL|Los Angeles Lakers|       3|    true|\n|  1999|LAL|Los Angeles Lakers|       9|    true|\n|  2000|LAL|Los Angeles Lakers|       1|    true|\n|  2001|LAL|Los Angeles Lakers|       2|    true|\n|  2002|LAL|Los Angeles Lakers|       2|    true|\n|  2003|LAL|Los Angeles Lakers|       6|    true|\n|  2004|LAL|Los Angeles Lakers|       4|    true|\n|  2005|LAL|Los Angeles Lakers|      22|   false|\n|  2006|LAL|Los Angeles Lakers|      10|    true|\n|  2007|LAL|Los Angeles Lakers|      13|    true|\n|  2008|LAL|Los Angeles Lakers|       3|    true|\n|  2009|LAL|Los Angeles Lakers|       2|    true|\n|  2010|LAL|Los Angeles Lakers|       3|    true|\n|  2011|LAL|Los Angeles Lakers|       5|    true|\n|  2012|LAL|Los Angeles Lakers|       6|    true|\n|  2013|LAL|Los Angeles Lakers|      13|    true|\n|  2014|LAL|Los Angeles Lakers|      25|   false|\n|  2015|LAL|Los Angeles Lakers|      27|   false|\n|  2016|LAL|Los Angeles Lakers|      29|   false|\n+------+---+------------------+--------+--------+\n\n"
     ]
    }
   ],
   "source": [
    "# Team standing when Kobe Bryant play\n",
    "kobe_teams_standing = kobe_teams.join(\n",
    "    team_standing_regular_season,\n",
    "    (kobe_teams.season == team_standing_regular_season.season) & \n",
    "    (kobe_teams.tm == team_standing_regular_season.abbreviation),\n",
    "    \"left\"\n",
    ").select(\n",
    "    kobe_teams.season,\n",
    "    kobe_teams.tm,\n",
    "    team_standing_regular_season.team,\n",
    "    team_standing_regular_season.standing,\n",
    "    team_standing_regular_season.playoffs\n",
    ")\n",
    "\n",
    "# Show the joined DataFrame\n",
    "kobe_teams_standing.show()"
   ]
  },
  {
   "cell_type": "code",
   "execution_count": 0,
   "metadata": {
    "application/vnd.databricks.v1+cell": {
     "cellMetadata": {
      "byteLimit": 2048000,
      "rowLimit": 10000
     },
     "collapsed": true,
     "inputWidgets": {},
     "nuid": "1398e7c5-1acb-4983-a425-a8a0ccadffd8",
     "showTitle": false,
     "title": ""
    }
   },
   "outputs": [
    {
     "output_type": "stream",
     "name": "stdout",
     "output_type": "stream",
     "text": [
      "+------+-----------+------+-------------+-------+-------+-------+-------+-------+-------+------+\n|season|     player|avg_mp|gs_percentage|avg_pts|avg_trb|avg_ast|avg_stl|avg_blk|avg_tov|  GmSc|\n+------+-----------+------+-------------+-------+-------+-------+-------+-------+-------+------+\n|  2016|Kobe Bryant|28.227|        100.0| 17.591|  3.742|  2.788|  0.939|  0.197|  1.955| 9.649|\n|  2015|Kobe Bryant|34.486|        100.0| 22.343|  5.686|  5.629|  1.343|    0.2|  3.657|13.635|\n|  2014|Kobe Bryant|  29.5|        100.0| 13.833|  4.333|  6.333|  1.167|  0.167|  5.667| 8.066|\n|  2013|Kobe Bryant|38.628|        100.0| 27.346|  5.551|  6.013|  1.359|  0.321|  3.679|19.529|\n|  2012|Kobe Bryant|38.483|        100.0| 27.862|  5.397|  4.552|   1.19|   0.31|  3.517|17.641|\n|  2011|Kobe Bryant| 33.89|        100.0| 25.341|   5.11|  4.732|  1.207|  0.146|  2.963|17.228|\n|  2010|Kobe Bryant|38.836|        100.0| 26.986|  5.356|    5.0|  1.548|  0.274|  3.192|18.362|\n|  2009|Kobe Bryant|36.098|        100.0| 26.841|  5.232|  4.866|  1.463|  0.451|  2.561|19.444|\n|  2008|Kobe Bryant|38.927|        100.0| 28.329|  6.305|  5.378|  1.841|  0.488|  3.134|21.158|\n|  2007|Kobe Bryant|40.779|        100.0| 31.558|  5.701|  5.364|  1.442|  0.468|  3.312|22.531|\n|  2006|Kobe Bryant|40.963|        100.0|   35.4|  5.313|    4.5|  1.838|  0.375|  3.125| 23.57|\n|  2005|Kobe Bryant|40.742|        100.0| 27.561|  5.939|   6.03|  1.303|  0.803|  4.091| 19.55|\n|  2004|Kobe Bryant|37.646|       98.462| 23.954|  5.523|  5.077|  1.723|  0.431|  2.631|18.112|\n|  2003|Kobe Bryant|41.476|        100.0| 30.012|  6.878|  5.866|  2.207|  0.817|  3.512|22.166|\n|  2002|Kobe Bryant|38.288|        100.0| 25.238|  5.513|  5.475|  1.475|  0.438|  2.788|18.404|\n|  2001|Kobe Bryant|40.926|        100.0|   28.5|  5.868|  4.971|  1.676|  0.632|  3.235|20.026|\n|  2000|Kobe Bryant|38.242|       93.939|   22.5|  6.303|  4.894|  1.606|  0.939|  2.758|17.018|\n|  1999|Kobe Bryant| 37.92|        100.0|  19.92|   5.28|    3.8|   1.44|    1.0|   3.14|13.978|\n|  1998|Kobe Bryant|26.025|        1.266| 15.443|  3.063|  2.519|  0.937|  0.506|  1.987|10.332|\n|  1997|Kobe Bryant|15.535|        8.451|  7.592|  1.859|  1.282|   0.69|  0.324|  1.577| 4.739|\n+------+-----------+------+-------------+-------+-------+-------+-------+-------+-------+------+\n\n"
     ]
    }
   ],
   "source": [
    "# Filter the DataFrame for Kobe Bryant (player_id == 3000)\n",
    "kobe_stat_each_season = player_totals_df.filter(\n",
    "    col(\"player_id\") == 3000\n",
    ")\n",
    "\n",
    "# Add average columns for each statistic involved in the GmSc calculation\n",
    "kobe_stat_each_season = kobe_stat_each_season.withColumn(\n",
    "    \"gs_percentage\",\n",
    "    round(when(col(\"g\") > 0, col(\"gs\") / col(\"g\") * 100).otherwise(0), 3)\n",
    ").withColumn(\n",
    "    \"avg_mp\",\n",
    "    round(col(\"mp\") / col(\"g\"), 3)\n",
    ").withColumn(\n",
    "    \"avg_pts\",\n",
    "    round(col(\"pts\") / col(\"g\"), 3)\n",
    ").withColumn(\n",
    "    \"avg_fg\",\n",
    "    round(col(\"fg\") / col(\"g\"), 3)\n",
    ").withColumn(\n",
    "    \"avg_fga\",\n",
    "    round(col(\"fga\") / col(\"g\"), 3)\n",
    ").withColumn(\n",
    "    \"avg_fta\",\n",
    "    round(col(\"fta\") / col(\"g\"), 3)\n",
    ").withColumn(\n",
    "    \"avg_ft\",\n",
    "    round(col(\"ft\") / col(\"g\"), 3)\n",
    ").withColumn(\n",
    "    \"avg_orb\",\n",
    "    round(col(\"orb\") / col(\"g\"), 3)\n",
    ").withColumn(\n",
    "    \"avg_drb\",\n",
    "    round(col(\"drb\") / col(\"g\"), 3)\n",
    ").withColumn(\n",
    "    \"avg_trb\",\n",
    "    round(col(\"trb\") / col(\"g\"), 3)\n",
    ").withColumn(\n",
    "    \"avg_ast\",\n",
    "    round(col(\"ast\") / col(\"g\"), 3)\n",
    ").withColumn(\n",
    "    \"avg_stl\",\n",
    "    round(col(\"stl\") / col(\"g\"), 3)\n",
    ").withColumn(\n",
    "    \"avg_blk\",\n",
    "    round(col(\"blk\") / col(\"g\"), 3)\n",
    ").withColumn(\n",
    "    \"avg_pf\",\n",
    "    round(col(\"pf\") / col(\"g\"), 3)\n",
    ").withColumn(\n",
    "    \"avg_tov\",\n",
    "    round(col(\"tov\") / col(\"g\"), 3)\n",
    ")\n",
    "\n",
    "# Calculate GmSc using the average columns\n",
    "kobe_stat_each_season = kobe_stat_each_season.withColumn(\n",
    "    \"GmSc\",\n",
    "    round(\n",
    "        col(\"avg_pts\") +\n",
    "        (0.4 * col(\"avg_fg\")) -\n",
    "        (0.7 * col(\"avg_fga\")) -\n",
    "        (0.4 * (col(\"avg_fta\") - col(\"avg_ft\"))) +\n",
    "        (0.7 * col(\"avg_orb\")) +\n",
    "        (0.3 * col(\"avg_drb\")) +\n",
    "        col(\"avg_stl\") +\n",
    "        (0.7 * col(\"avg_ast\")) +\n",
    "        (0.7 * col(\"avg_blk\")) -\n",
    "        (0.4 * col(\"avg_pf\")) -\n",
    "        col(\"avg_tov\"),\n",
    "        3\n",
    "    )\n",
    ")\n",
    "\n",
    "# Select the relevant columns for display without '_per_game'\n",
    "kobe_stat_each_season = kobe_stat_each_season.select(\n",
    "    \"season\",\n",
    "    \"player\",\n",
    "    \"avg_mp\",\n",
    "    \"gs_percentage\",\n",
    "    \"avg_pts\",\n",
    "    \"avg_trb\",\n",
    "    \"avg_ast\",\n",
    "    \"avg_stl\",\n",
    "    \"avg_blk\",\n",
    "    \"avg_tov\",\n",
    "    \"GmSc\"\n",
    ")\n",
    "\n",
    "# Show the updated DataFrame\n",
    "kobe_stat_each_season.show()"
   ]
  },
  {
   "cell_type": "code",
   "execution_count": 0,
   "metadata": {
    "application/vnd.databricks.v1+cell": {
     "cellMetadata": {
      "byteLimit": 2048000,
      "rowLimit": 10000
     },
     "collapsed": true,
     "inputWidgets": {},
     "nuid": "68ed6c95-415c-4539-9fca-add7a2cd040a",
     "showTitle": false,
     "title": ""
    }
   },
   "outputs": [
    {
     "output_type": "stream",
     "name": "stdout",
     "output_type": "stream",
     "text": [
      "+---------+-------------+---------+-----------+-----------+--------------+\n|total_pts|total_rebound|total_ast|total_steal|total_block|total_turnover|\n+---------+-------------+---------+-----------+-----------+--------------+\n|    33643|         7047|     6306|       1944|        640|          4010|\n+---------+-------------+---------+-----------+-----------+--------------+\n\n"
     ]
    }
   ],
   "source": [
    "# Filter the DataFrame for Kobe Bryant (player_id == 3463)\n",
    "kobe_total_stat = player_totals_df.filter(\n",
    "    col(\"player_id\") == 3000\n",
    ")\n",
    "\n",
    "# Calculate total stat\n",
    "kobe_total_stat = kobe_total_stat.agg(\n",
    "    sum(\"pts\").alias(\"total_pts\"),\n",
    "    sum(\"trb\").alias(\"total_rebound\"),\n",
    "    sum(\"ast\").alias(\"total_ast\"),\n",
    "    sum(\"stl\").alias(\"total_steal\"),\n",
    "    sum(\"blk\").alias(\"total_block\"),\n",
    "    sum(\"tov\").alias(\"total_turnover\")\n",
    ")\n",
    "\n",
    "# Show the total points\n",
    "kobe_total_stat.show()"
   ]
  },
  {
   "cell_type": "code",
   "execution_count": 0,
   "metadata": {
    "application/vnd.databricks.v1+cell": {
     "cellMetadata": {
      "byteLimit": 2048000,
      "rowLimit": 10000
     },
     "inputWidgets": {},
     "nuid": "dbf1429f-26a7-4dc9-9ea0-b10074c6bd1a",
     "showTitle": false,
     "title": ""
    }
   },
   "outputs": [
    {
     "output_type": "stream",
     "name": "stdout",
     "output_type": "stream",
     "text": [
      "+------+-----------+---+------------+------------+----------------+--------------+--------------+-----------------+\n|season|     player| tm|standing_pts|standing_ast|standing_rebound|standing_block|standing_steal|standing_turnover|\n+------+-----------+---+------------+------------+----------------+--------------+--------------+-----------------+\n|  1997|Kobe Bryant|LAL|           5|           7|               9|             9|             4|                5|\n|  1998|Kobe Bryant|LAL|           3|           5|               7|             6|             5|                3|\n|  1999|Kobe Bryant|LAL|           2|           2|               2|             2|             1|                1|\n|  2000|Kobe Bryant|LAL|           2|           1|               3|             3|             1|                2|\n|  2001|Kobe Bryant|LAL|           2|           1|               3|             4|             1|                1|\n|  2002|Kobe Bryant|LAL|           1|           1|               4|             5|             1|                1|\n|  2003|Kobe Bryant|LAL|           1|           1|               2|             2|             1|                1|\n|  2004|Kobe Bryant|LAL|           1|           2|               3|             3|             1|                2|\n|  2005|Kobe Bryant|LAL|           1|           1|               5|             3|             2|                1|\n|  2006|Kobe Bryant|LAL|           1|           2|               3|             6|             1|                1|\n|  2007|Kobe Bryant|LAL|           1|           1|               3|             4|             2|                1|\n|  2008|Kobe Bryant|LAL|           1|           1|               2|             5|             1|                1|\n|  2009|Kobe Bryant|LAL|           1|           1|               3|             4|             2|                1|\n|  2010|Kobe Bryant|LAL|           1|           1|               4|             7|             1|                1|\n|  2011|Kobe Bryant|LAL|           1|           1|               4|             7|             2|                1|\n|  2012|Kobe Bryant|LAL|           1|           1|               4|             5|             1|                1|\n|  2013|Kobe Bryant|LAL|           1|           1|               2|             5|             2|                1|\n|  2014|Kobe Bryant|LAL|          17|          15|              18|            17|            16|               14|\n|  2015|Kobe Bryant|LAL|           4|           3|               8|            11|             6|                2|\n|  2016|Kobe Bryant|LAL|           2|           3|               7|             7|             3|                4|\n+------+-----------+---+------------+------------+----------------+--------------+--------------+-----------------+\n\n"
     ]
    }
   ],
   "source": [
    "# Alias Kobe Team\n",
    "kobe_teams_alias = kobe_teams.select(\n",
    "    col(\"season\").alias(\"kobe_season\"),\n",
    "    col(\"tm\").alias(\"kobe_team\"),\n",
    ")\n",
    "\n",
    "# Join kobe_teams with player_totals_df to get teammates each season\n",
    "kobe_teammates_each_season = kobe_teams_alias.join(\n",
    "    player_totals_df,\n",
    "    (kobe_teams_alias.kobe_season == player_totals_df.season) & \n",
    "    (kobe_teams_alias.kobe_team == player_totals_df.tm),\n",
    "    \"inner\"\n",
    ")\n",
    "\n",
    "# Define a window specification to rank players based on their points\n",
    "window_spec_pts = Window.partitionBy(\"season\", \"tm\").orderBy(col(\"pts\").desc())\n",
    "\n",
    "# Define a window specification to rank players based on their assists\n",
    "window_spec_ast = Window.partitionBy(\"season\", \"tm\").orderBy(col(\"ast\").desc())\n",
    "\n",
    "# Define a window specification to rank players based on their rebound\n",
    "window_spec_trb = Window.partitionBy(\"season\", \"tm\").orderBy(col(\"trb\").desc())\n",
    "\n",
    "# Define a window specification to rank players based on their block\n",
    "window_spec_blk = Window.partitionBy(\"season\", \"tm\").orderBy(col(\"blk\").desc())\n",
    "\n",
    "# Define a window specification to rank players based on their steal\n",
    "window_spec_stl = Window.partitionBy(\"season\", \"tm\").orderBy(col(\"stl\").desc())\n",
    "\n",
    "# Define a window specification to rank players based on their turnover\n",
    "window_spec_tov = Window.partitionBy(\"season\", \"tm\").orderBy(col(\"tov\").desc())\n",
    "\n",
    "# Add the standing_pts column using the rank function\n",
    "kobe_teammates_each_season = kobe_teammates_each_season.withColumn(\n",
    "    \"standing_pts\",\n",
    "    rank().over(window_spec_pts)\n",
    ")\n",
    "\n",
    "# Add the standing_ast column using the rank function\n",
    "kobe_teammates_each_season = kobe_teammates_each_season.withColumn(\n",
    "    \"standing_ast\",\n",
    "    rank().over(window_spec_ast)\n",
    ")\n",
    "\n",
    "# Add the standing_rebound column using the rank function\n",
    "kobe_teammates_each_season = kobe_teammates_each_season.withColumn(\n",
    "    \"standing_rebound\",\n",
    "    rank().over(window_spec_trb)\n",
    ")\n",
    "\n",
    "# Add the standing_block column using the rank function\n",
    "kobe_teammates_each_season = kobe_teammates_each_season.withColumn(\n",
    "    \"standing_block\",\n",
    "    rank().over(window_spec_blk)\n",
    ")\n",
    "\n",
    "# Add the standing_block column using the rank function\n",
    "kobe_teammates_each_season = kobe_teammates_each_season.withColumn(\n",
    "    \"standing_steal\",\n",
    "    rank().over(window_spec_stl)\n",
    ")\n",
    "\n",
    "# Add the standing_block column using the rank function\n",
    "kobe_teammates_each_season = kobe_teammates_each_season.withColumn(\n",
    "    \"standing_turnover\",\n",
    "    rank().over(window_spec_tov)\n",
    ")\n",
    "\n",
    "# Select the columns to display\n",
    "kobe_teammates_each_season = kobe_teammates_each_season.select(\n",
    "    \"season\",\n",
    "    \"player\",\n",
    "    \"tm\",\n",
    "    \"standing_pts\",\n",
    "    \"standing_ast\",\n",
    "    \"standing_rebound\",\n",
    "    \"standing_block\",\n",
    "    \"standing_steal\",\n",
    "    \"standing_turnover\"\n",
    ")\n",
    "\n",
    "# Filter to only include Kobe\n",
    "kobe_rank_each_season = kobe_teammates_each_season.filter(\n",
    "    col(\"player_id\") == 3000\n",
    ")\n",
    "\n",
    "# Show the result\n",
    "kobe_rank_each_season.show()"
   ]
  },
  {
   "cell_type": "markdown",
   "metadata": {
    "application/vnd.databricks.v1+cell": {
     "cellMetadata": {
      "byteLimit": 2048000,
      "rowLimit": 10000
     },
     "inputWidgets": {},
     "nuid": "4a3e4a03-3639-47ba-bfda-17af9cac08f6",
     "showTitle": false,
     "title": ""
    }
   },
   "source": [
    "<h1><b>Michael Jordan Analysis</b></h1>"
   ]
  },
  {
   "cell_type": "markdown",
   "metadata": {
    "application/vnd.databricks.v1+cell": {
     "cellMetadata": {
      "byteLimit": 2048000,
      "rowLimit": 10000
     },
     "inputWidgets": {},
     "nuid": "45236135-bfb5-4009-bc90-fc5c2cca3876",
     "showTitle": false,
     "title": ""
    }
   },
   "source": [
    "<h3>Michael Jordan Awards</h3>\n",
    "- Awards <br>\n",
    "- Awards nomination <br>\n",
    "- All star selection <br>\n",
    "- End of season team selection <br>"
   ]
  },
  {
   "cell_type": "code",
   "execution_count": 0,
   "metadata": {
    "application/vnd.databricks.v1+cell": {
     "cellMetadata": {
      "byteLimit": 2048000,
      "rowLimit": 10000
     },
     "collapsed": true,
     "inputWidgets": {},
     "nuid": "9ddc8cbd-99ef-465d-a59f-bf244ef67e3e",
     "showTitle": false,
     "title": ""
    }
   },
   "outputs": [
    {
     "output_type": "stream",
     "name": "stdout",
     "output_type": "stream",
     "text": [
      "+------+-------+--------------+---+---+\n|season|  award|        player|age| tm|\n+------+-------+--------------+---+---+\n|  1998|nba mvp|Michael Jordan| 34|CHI|\n|  1996|nba mvp|Michael Jordan| 32|CHI|\n|  1992|nba mvp|Michael Jordan| 28|CHI|\n|  1991|nba mvp|Michael Jordan| 27|CHI|\n|  1988|   dpoy|Michael Jordan| 24|CHI|\n|  1988|nba mvp|Michael Jordan| 24|CHI|\n|  1985|nba roy|Michael Jordan| 21|CHI|\n+------+-------+--------------+---+---+\n\n"
     ]
    }
   ],
   "source": [
    "jordan_awards = player_award_shares_df.filter(\n",
    "    (col(\"player_id\") == 2193) & (col(\"winner\") == True)\n",
    ").select(\n",
    "    \"season\", \"award\", \"player\", \"age\", \"tm\"\n",
    ")\n",
    "\n",
    "jordan_awards.show()"
   ]
  },
  {
   "cell_type": "code",
   "execution_count": 0,
   "metadata": {
    "application/vnd.databricks.v1+cell": {
     "cellMetadata": {
      "byteLimit": 2048000,
      "rowLimit": 10000
     },
     "collapsed": true,
     "inputWidgets": {},
     "nuid": "a34a8c52-4fea-4e3f-9e1c-c83478d9ce57",
     "showTitle": false,
     "title": ""
    }
   },
   "outputs": [
    {
     "output_type": "stream",
     "name": "stdout",
     "output_type": "stream",
     "text": [
      "+-------+-----+\n|  award|count|\n+-------+-----+\n|nba mvp|    5|\n|nba roy|    1|\n|   dpoy|    1|\n+-------+-----+\n\n"
     ]
    }
   ],
   "source": [
    "jordan_awards_count = jordan_awards.groupBy(\"award\").count()\n",
    "\n",
    "jordan_awards_count = jordan_awards_count.select(\n",
    "    col(\"award\"),\n",
    "    col(\"count\")\n",
    ")\n",
    "\n",
    "jordan_awards_count.show()"
   ]
  },
  {
   "cell_type": "code",
   "execution_count": 0,
   "metadata": {
    "application/vnd.databricks.v1+cell": {
     "cellMetadata": {
      "byteLimit": 2048000,
      "rowLimit": 10000
     },
     "collapsed": true,
     "inputWidgets": {},
     "nuid": "1e98acf0-d3ba-412d-8c81-9a08f9e702a7",
     "showTitle": false,
     "title": ""
    }
   },
   "outputs": [
    {
     "output_type": "stream",
     "name": "stdout",
     "output_type": "stream",
     "text": [
      "+------+-------+--------------+---+---+\n|season|  award|        player|age| tm|\n+------+-------+--------------+---+---+\n|  2002|nba mvp|Michael Jordan| 38|WAS|\n|  1998|   dpoy|Michael Jordan| 34|CHI|\n|  1997|   dpoy|Michael Jordan| 33|CHI|\n|  1997|nba mvp|Michael Jordan| 33|CHI|\n|  1996|   dpoy|Michael Jordan| 32|CHI|\n|  1995|nba mvp|Michael Jordan| 31|CHI|\n|  1993|   dpoy|Michael Jordan| 29|CHI|\n|  1993|nba mvp|Michael Jordan| 29|CHI|\n|  1992|   dpoy|Michael Jordan| 28|CHI|\n|  1991|   dpoy|Michael Jordan| 27|CHI|\n|  1990|   dpoy|Michael Jordan| 26|CHI|\n|  1990|nba mvp|Michael Jordan| 26|CHI|\n|  1989|   dpoy|Michael Jordan| 25|CHI|\n|  1989|nba mvp|Michael Jordan| 25|CHI|\n|  1987|   dpoy|Michael Jordan| 23|CHI|\n|  1987|nba mvp|Michael Jordan| 23|CHI|\n|  1985|nba mvp|Michael Jordan| 21|CHI|\n+------+-------+--------------+---+---+\n\n"
     ]
    }
   ],
   "source": [
    "# Nomination but not win\n",
    "jordan_awards_nomination = player_award_shares_df.filter(\n",
    "    (col(\"player_id\") == 2193) & (col(\"winner\") == False)\n",
    ").select(\n",
    "    \"season\", \"award\", \"player\", \"age\", \"tm\"\n",
    ")\n",
    "\n",
    "jordan_awards_nomination.show()"
   ]
  },
  {
   "cell_type": "code",
   "execution_count": 0,
   "metadata": {
    "application/vnd.databricks.v1+cell": {
     "cellMetadata": {
      "byteLimit": 2048000,
      "rowLimit": 10000
     },
     "collapsed": true,
     "inputWidgets": {},
     "nuid": "b4424761-9c60-4070-ab18-edca85f01874",
     "showTitle": false,
     "title": ""
    }
   },
   "outputs": [
    {
     "output_type": "stream",
     "name": "stdout",
     "output_type": "stream",
     "text": [
      "+-------+-----+\n|  award|count|\n+-------+-----+\n|nba mvp|    8|\n|   dpoy|    9|\n+-------+-----+\n\n"
     ]
    }
   ],
   "source": [
    "jordan_awards_nomination_count = jordan_awards_nomination.groupBy(\"award\").count()\n",
    "\n",
    "jordan_awards_nomination_count = jordan_awards_nomination_count.select(\n",
    "    col(\"award\"),\n",
    "    col(\"count\")\n",
    ")\n",
    "\n",
    "jordan_awards_nomination_count.show()"
   ]
  },
  {
   "cell_type": "code",
   "execution_count": 0,
   "metadata": {
    "application/vnd.databricks.v1+cell": {
     "cellMetadata": {
      "byteLimit": 2048000,
      "rowLimit": 10000
     },
     "collapsed": true,
     "inputWidgets": {},
     "nuid": "50edee92-e47d-44e4-8677-c272973c9bd0",
     "showTitle": false,
     "title": ""
    }
   },
   "outputs": [
    {
     "output_type": "stream",
     "name": "stdout",
     "output_type": "stream",
     "text": [
      "14\n"
     ]
    }
   ],
   "source": [
    "# Filter DataFrame to find occurrences of \"Michael Jordan\"\n",
    "jordan_all_star_selection = all_star_selections_df.filter(\n",
    "    col(\"player\") == \"Michael Jordan\"\n",
    ").count()\n",
    "\n",
    "print(jordan_all_star_selection)"
   ]
  },
  {
   "cell_type": "code",
   "execution_count": 0,
   "metadata": {
    "application/vnd.databricks.v1+cell": {
     "cellMetadata": {
      "byteLimit": 2048000,
      "rowLimit": 10000
     },
     "collapsed": true,
     "inputWidgets": {},
     "nuid": "1589376f-6ad6-44d2-bd05-f79efe041704",
     "showTitle": false,
     "title": ""
    }
   },
   "outputs": [
    {
     "output_type": "stream",
     "name": "stdout",
     "output_type": "stream",
     "text": [
      "+-----------+---------+-----+\n|       type|number_tm|count|\n+-----------+---------+-----+\n|All-Defense|      1st|    9|\n| All-Rookie|      1st|    1|\n|    All-NBA|      1st|   10|\n|    All-NBA|      2nd|    1|\n+-----------+---------+-----+\n\n"
     ]
    }
   ],
   "source": [
    "# Filter DataFrame to include only rows where player is \"Michael Jordan\"\n",
    "jordan_end_season_team = end_of_season_teams_df.filter(\n",
    "    col(\"player\") == \"Michael Jordan\"\n",
    ")\n",
    "\n",
    "# Group by 'type' and 'number_tm', and count the occurrences\n",
    "jordan_end_season_team = jordan_end_season_team.groupBy(\n",
    "    \"type\",\n",
    "    \"number_tm\"\n",
    ").agg(\n",
    "    count(\"*\").alias(\"count\")\n",
    ")\n",
    "\n",
    "# Show the result\n",
    "jordan_end_season_team.show()"
   ]
  },
  {
   "cell_type": "markdown",
   "metadata": {
    "application/vnd.databricks.v1+cell": {
     "cellMetadata": {
      "byteLimit": 2048000,
      "rowLimit": 10000
     },
     "inputWidgets": {},
     "nuid": "28fa0201-3e4b-4a3d-83db-7561d30f2608",
     "showTitle": false,
     "title": ""
    }
   },
   "source": [
    "<h3>Michael Jordan Performance in Each Team</h3>\n",
    "- Team where he plays <br>\n",
    "- Standing team when he plays <br>\n",
    "- Statistic each season <br>\n",
    "- Total statistic <br>\n",
    "- Standing performance among teammates each season <br>"
   ]
  },
  {
   "cell_type": "code",
   "execution_count": 0,
   "metadata": {
    "application/vnd.databricks.v1+cell": {
     "cellMetadata": {
      "byteLimit": 2048000,
      "rowLimit": 10000
     },
     "collapsed": true,
     "inputWidgets": {},
     "nuid": "ca2f1466-2fc1-4883-a977-1dc547c84a22",
     "showTitle": false,
     "title": ""
    }
   },
   "outputs": [
    {
     "output_type": "stream",
     "name": "stdout",
     "output_type": "stream",
     "text": [
      "+------+---+----------+\n|season| tm|experience|\n+------+---+----------+\n|  1985|CHI|         1|\n|  1986|CHI|         2|\n|  1987|CHI|         3|\n|  1988|CHI|         4|\n|  1989|CHI|         5|\n|  1990|CHI|         6|\n|  1991|CHI|         7|\n|  1992|CHI|         8|\n|  1993|CHI|         9|\n|  1995|CHI|        10|\n|  1996|CHI|        11|\n|  1997|CHI|        12|\n|  1998|CHI|        13|\n|  2002|WAS|        14|\n|  2003|WAS|        15|\n+------+---+----------+\n\n"
     ]
    }
   ],
   "source": [
    "# Filter Michael Jordan Team\n",
    "jordan_teams = player_season_info_df.filter(\n",
    "    col(\"player_id\") == 2193\n",
    ").select(\n",
    "    \"season\", \"tm\", \"experience\"\n",
    ")\n",
    "\n",
    "jordan_teams.show()"
   ]
  },
  {
   "cell_type": "code",
   "execution_count": 0,
   "metadata": {
    "application/vnd.databricks.v1+cell": {
     "cellMetadata": {
      "byteLimit": 2048000,
      "rowLimit": 10000
     },
     "collapsed": true,
     "inputWidgets": {},
     "nuid": "fdbde114-aaca-4db5-9be0-ca6ead886957",
     "showTitle": false,
     "title": ""
    }
   },
   "outputs": [
    {
     "output_type": "stream",
     "name": "stdout",
     "output_type": "stream",
     "text": [
      "+------+---+------------------+--------+--------+\n|season| tm|              team|standing|playoffs|\n+------+---+------------------+--------+--------+\n|  1985|CHI|     Chicago Bulls|      14|    true|\n|  1986|CHI|     Chicago Bulls|      19|    true|\n|  1987|CHI|     Chicago Bulls|      14|    true|\n|  1988|CHI|     Chicago Bulls|       8|    true|\n|  1989|CHI|     Chicago Bulls|       9|    true|\n|  1990|CHI|     Chicago Bulls|       5|    true|\n|  1991|CHI|     Chicago Bulls|       2|    true|\n|  1992|CHI|     Chicago Bulls|       1|    true|\n|  1993|CHI|     Chicago Bulls|       3|    true|\n|  1995|CHI|     Chicago Bulls|      10|    true|\n|  1996|CHI|     Chicago Bulls|       1|    true|\n|  1997|CHI|     Chicago Bulls|       1|    true|\n|  1998|CHI|     Chicago Bulls|       1|    true|\n|  2002|WAS|Washington Wizards|      19|   false|\n|  2003|WAS|Washington Wizards|      21|   false|\n+------+---+------------------+--------+--------+\n\n"
     ]
    }
   ],
   "source": [
    "# Team standing when Michael Jordan play\n",
    "jordan_teams_standing = jordan_teams.join(\n",
    "    team_standing_regular_season,\n",
    "    (jordan_teams.season == team_standing_regular_season.season) & \n",
    "    (jordan_teams.tm == team_standing_regular_season.abbreviation),\n",
    "    \"left\"\n",
    ").select(\n",
    "    jordan_teams.season,\n",
    "    jordan_teams.tm,\n",
    "    team_standing_regular_season.team,\n",
    "    team_standing_regular_season.standing,\n",
    "    team_standing_regular_season.playoffs\n",
    ")\n",
    "\n",
    "# Show the joined DataFrame\n",
    "jordan_teams_standing.show()"
   ]
  },
  {
   "cell_type": "code",
   "execution_count": 0,
   "metadata": {
    "application/vnd.databricks.v1+cell": {
     "cellMetadata": {
      "byteLimit": 2048000,
      "rowLimit": 10000
     },
     "collapsed": true,
     "inputWidgets": {},
     "nuid": "1e197327-a686-4d37-9aa7-34d664249387",
     "showTitle": false,
     "title": ""
    }
   },
   "outputs": [
    {
     "output_type": "stream",
     "name": "stdout",
     "output_type": "stream",
     "text": [
      "+------+--------------+------+-------------+-------+-------+-------+-------+-------+-------+------+\n|season|        player|avg_mp|gs_percentage|avg_pts|avg_trb|avg_ast|avg_stl|avg_blk|avg_tov|  GmSc|\n+------+--------------+------+-------------+-------+-------+-------+-------+-------+-------+------+\n|  2003|Michael Jordan|36.963|       81.707|   20.0|  6.061|  3.793|    1.5|  0.476|   2.11|13.703|\n|  2002|Michael Jordan|34.883|       88.333| 22.917|   5.65|  5.167|  1.417|  0.433|    2.7|14.549|\n|  1998|Michael Jordan|38.793|        100.0| 28.744|  5.793|  3.451|   1.72|  0.549|  2.256| 20.02|\n|  1997|Michael Jordan|37.878|        100.0| 29.646|  5.878|  4.293|  1.707|  0.537|  2.024|22.133|\n|  1996|Michael Jordan|37.683|        100.0| 30.378|  6.622|  4.293|  2.195|  0.512|  2.402|23.436|\n|  1995|Michael Jordan|39.294|        100.0| 26.882|  6.882|  5.294|  1.765|  0.765|  2.059|19.012|\n|  1993|Michael Jordan|39.321|        100.0| 32.577|  6.692|  5.487|  2.833|  0.782|  2.654|25.516|\n|  1992|Michael Jordan|38.775|        100.0|  30.05|  6.388|  6.113|  2.275|  0.938|    2.5| 24.44|\n|  1991|Michael Jordan|  37.0|        100.0| 31.463|    6.0|  5.524|   2.72|  1.012|  2.463|26.213|\n|  1990|Michael Jordan|38.988|        100.0| 33.573|   6.89|  6.329|  2.768|  0.659|  3.012|27.571|\n|  1989|Michael Jordan|40.185|        100.0| 32.506|  8.049|  8.025|  2.889|  0.802|   3.58|28.596|\n|  1988|Michael Jordan|40.378|        100.0| 34.976|  5.476|  5.915|  3.159|  1.598|  3.073|28.815|\n|  1987|Michael Jordan|40.012|        100.0| 37.085|  5.244|  4.598|  2.878|  1.524|  3.317|27.381|\n|  1986|Michael Jordan|25.056|       38.889| 22.667|  3.556|  2.944|  2.056|  1.167|    2.5| 15.79|\n|  1985|Michael Jordan|38.341|        100.0| 28.207|  6.512|  5.866|   2.39|  0.841|  3.549|22.766|\n+------+--------------+------+-------------+-------+-------+-------+-------+-------+-------+------+\n\n"
     ]
    }
   ],
   "source": [
    "\n",
    "# Filter the DataFrame for Michael Jordan (player_id == 2193)\n",
    "jordan_stat_each_season = player_totals_df.filter(\n",
    "    col(\"player_id\") == 2193\n",
    ")\n",
    "\n",
    "# Add average columns for each statistic involved in the GmSc calculation\n",
    "jordan_stat_each_season = jordan_stat_each_season.withColumn(\n",
    "    \"gs_percentage\",\n",
    "    round(when(col(\"g\") > 0, col(\"gs\") / col(\"g\") * 100).otherwise(0), 3)\n",
    ").withColumn(\n",
    "    \"avg_mp\",\n",
    "    round(col(\"mp\") / col(\"g\"), 3)\n",
    ").withColumn(\n",
    "    \"avg_pts\",\n",
    "    round(col(\"pts\") / col(\"g\"), 3)\n",
    ").withColumn(\n",
    "    \"avg_fg\",\n",
    "    round(col(\"fg\") / col(\"g\"), 3)\n",
    ").withColumn(\n",
    "    \"avg_fga\",\n",
    "    round(col(\"fga\") / col(\"g\"), 3)\n",
    ").withColumn(\n",
    "    \"avg_fta\",\n",
    "    round(col(\"fta\") / col(\"g\"), 3)\n",
    ").withColumn(\n",
    "    \"avg_ft\",\n",
    "    round(col(\"ft\") / col(\"g\"), 3)\n",
    ").withColumn(\n",
    "    \"avg_orb\",\n",
    "    round(col(\"orb\") / col(\"g\"), 3)\n",
    ").withColumn(\n",
    "    \"avg_drb\",\n",
    "    round(col(\"drb\") / col(\"g\"), 3)\n",
    ").withColumn(\n",
    "    \"avg_trb\",\n",
    "    round(col(\"trb\") / col(\"g\"), 3)\n",
    ").withColumn(\n",
    "    \"avg_ast\",\n",
    "    round(col(\"ast\") / col(\"g\"), 3)\n",
    ").withColumn(\n",
    "    \"avg_stl\",\n",
    "    round(col(\"stl\") / col(\"g\"), 3)\n",
    ").withColumn(\n",
    "    \"avg_blk\",\n",
    "    round(col(\"blk\") / col(\"g\"), 3)\n",
    ").withColumn(\n",
    "    \"avg_pf\",\n",
    "    round(col(\"pf\") / col(\"g\"), 3)\n",
    ").withColumn(\n",
    "    \"avg_tov\",\n",
    "    round(col(\"tov\") / col(\"g\"), 3)\n",
    ")\n",
    "\n",
    "# Calculate GmSc using the average columns\n",
    "jordan_stat_each_season = jordan_stat_each_season.withColumn(\n",
    "    \"GmSc\",\n",
    "    round(\n",
    "        col(\"avg_pts\") +\n",
    "        (0.4 * col(\"avg_fg\")) -\n",
    "        (0.7 * col(\"avg_fga\")) -\n",
    "        (0.4 * (col(\"avg_fta\") - col(\"avg_ft\"))) +\n",
    "        (0.7 * col(\"avg_orb\")) +\n",
    "        (0.3 * col(\"avg_drb\")) +\n",
    "        col(\"avg_stl\") +\n",
    "        (0.7 * col(\"avg_ast\")) +\n",
    "        (0.7 * col(\"avg_blk\")) -\n",
    "        (0.4 * col(\"avg_pf\")) -\n",
    "        col(\"avg_tov\"),\n",
    "        3\n",
    "    )\n",
    ")\n",
    "\n",
    "# Select the relevant columns for display without '_per_game'\n",
    "jordan_stat_each_season = jordan_stat_each_season.select(\n",
    "    \"season\",\n",
    "    \"player\",\n",
    "    \"avg_mp\",\n",
    "    \"gs_percentage\",\n",
    "    \"avg_pts\",\n",
    "    \"avg_trb\",\n",
    "    \"avg_ast\",\n",
    "    \"avg_stl\",\n",
    "    \"avg_blk\",\n",
    "    \"avg_tov\",\n",
    "    \"GmSc\"\n",
    ")\n",
    "\n",
    "# Show the updated DataFrame\n",
    "jordan_stat_each_season.show()"
   ]
  },
  {
   "cell_type": "code",
   "execution_count": 0,
   "metadata": {
    "application/vnd.databricks.v1+cell": {
     "cellMetadata": {
      "byteLimit": 2048000,
      "rowLimit": 10000
     },
     "collapsed": true,
     "inputWidgets": {},
     "nuid": "aeb88a71-b8b5-4444-966f-7fa011010b3a",
     "showTitle": false,
     "title": ""
    }
   },
   "outputs": [
    {
     "output_type": "stream",
     "name": "stdout",
     "output_type": "stream",
     "text": [
      "+---------+-------------+---------+-----------+-----------+--------------+\n|total_pts|total_rebound|total_ast|total_steal|total_block|total_turnover|\n+---------+-------------+---------+-----------+-----------+--------------+\n|    32292|         6672|     5633|       2514|        893|          2924|\n+---------+-------------+---------+-----------+-----------+--------------+\n\n"
     ]
    }
   ],
   "source": [
    "# Filter the DataFrame for Michael Jordan (player_id == 2193)\n",
    "jordan_total_stat = player_totals_df.filter(\n",
    "    col(\"player_id\") == 2193\n",
    ")\n",
    "\n",
    "# Calculate total stat\n",
    "jordan_total_stat = jordan_total_stat.agg(\n",
    "    sum(\"pts\").alias(\"total_pts\"),\n",
    "    sum(\"trb\").alias(\"total_rebound\"),\n",
    "    sum(\"ast\").alias(\"total_ast\"),\n",
    "    sum(\"stl\").alias(\"total_steal\"),\n",
    "    sum(\"blk\").alias(\"total_block\"),\n",
    "    sum(\"tov\").alias(\"total_turnover\")\n",
    ")\n",
    "\n",
    "# Show the total points\n",
    "jordan_total_stat.show()"
   ]
  },
  {
   "cell_type": "code",
   "execution_count": 0,
   "metadata": {
    "application/vnd.databricks.v1+cell": {
     "cellMetadata": {
      "byteLimit": 2048000,
      "rowLimit": 10000
     },
     "collapsed": true,
     "inputWidgets": {},
     "nuid": "f862e88f-923c-4300-acd6-8c25b223b743",
     "showTitle": false,
     "title": ""
    }
   },
   "outputs": [
    {
     "output_type": "stream",
     "name": "stdout",
     "output_type": "stream",
     "text": [
      "+------+--------------+---+------------+------------+----------------+--------------+--------------+-----------------+\n|season|        player| tm|standing_pts|standing_ast|standing_rebound|standing_block|standing_steal|standing_turnover|\n+------+--------------+---+------------+------------+----------------+--------------+--------------+-----------------+\n|  1985|Michael Jordan|CHI|           1|           1|               1|             2|             1|                1|\n|  1986|Michael Jordan|CHI|           9|          10|              12|             8|             8|               11|\n|  1987|Michael Jordan|CHI|           1|           2|               3|             1|             1|                2|\n|  1988|Michael Jordan|CHI|           1|           1|               3|             1|             1|                1|\n|  1989|Michael Jordan|CHI|           1|           1|               2|             2|             1|                1|\n|  1990|Michael Jordan|CHI|           1|           1|               2|             4|             1|                2|\n|  1991|Michael Jordan|CHI|           1|           2|               3|             2|             1|                2|\n|  1992|Michael Jordan|CHI|           1|           2|               3|             3|             1|                2|\n|  1993|Michael Jordan|CHI|           1|           2|               3|             4|             1|                2|\n|  1995|Michael Jordan|CHI|           7|           7|              12|             9|             7|               12|\n|  1996|Michael Jordan|CHI|           1|           2|               2|             3|             1|                2|\n|  1997|Michael Jordan|CHI|           1|           2|               3|             3|             2|                2|\n|  1998|Michael Jordan|CHI|           1|           2|               2|             3|             1|                1|\n|  2002|Michael Jordan|WAS|           1|           2|               3|             4|             1|                1|\n|  2003|Michael Jordan|WAS|           1|           2|               2|             4|             1|                2|\n+------+--------------+---+------------+------------+----------------+--------------+--------------+-----------------+\n\n"
     ]
    }
   ],
   "source": [
    "# Alias Jordan Team\n",
    "jordan_teams_alias = jordan_teams.select(\n",
    "    col(\"season\").alias(\"kobe_season\"),\n",
    "    col(\"tm\").alias(\"kobe_team\"),\n",
    ")\n",
    "\n",
    "# Join jordan_teams with player_totals_df to get teammates each season\n",
    "jordan_teammates_each_season = jordan_teams_alias.join(\n",
    "    player_totals_df,\n",
    "    (jordan_teams_alias.kobe_season == player_totals_df.season) & \n",
    "    (jordan_teams_alias.kobe_team == player_totals_df.tm),\n",
    "    \"inner\"\n",
    ")\n",
    "\n",
    "# Define a window specification to rank players based on their points\n",
    "window_spec_pts = Window.partitionBy(\"season\", \"tm\").orderBy(col(\"pts\").desc())\n",
    "\n",
    "# Define a window specification to rank players based on their assists\n",
    "window_spec_ast = Window.partitionBy(\"season\", \"tm\").orderBy(col(\"ast\").desc())\n",
    "\n",
    "# Define a window specification to rank players based on their rebound\n",
    "window_spec_trb = Window.partitionBy(\"season\", \"tm\").orderBy(col(\"trb\").desc())\n",
    "\n",
    "# Define a window specification to rank players based on their block\n",
    "window_spec_blk = Window.partitionBy(\"season\", \"tm\").orderBy(col(\"blk\").desc())\n",
    "\n",
    "# Define a window specification to rank players based on their steal\n",
    "window_spec_stl = Window.partitionBy(\"season\", \"tm\").orderBy(col(\"stl\").desc())\n",
    "\n",
    "# Define a window specification to rank players based on their turnover\n",
    "window_spec_tov = Window.partitionBy(\"season\", \"tm\").orderBy(col(\"tov\").desc())\n",
    "\n",
    "# Add the standing_pts column using the rank function\n",
    "jordan_teammates_each_season = jordan_teammates_each_season.withColumn(\n",
    "    \"standing_pts\",\n",
    "    rank().over(window_spec_pts)\n",
    ")\n",
    "\n",
    "# Add the standing_ast column using the rank function\n",
    "jordan_teammates_each_season = jordan_teammates_each_season.withColumn(\n",
    "    \"standing_ast\",\n",
    "    rank().over(window_spec_ast)\n",
    ")\n",
    "\n",
    "# Add the standing_rebound column using the rank function\n",
    "jordan_teammates_each_season = jordan_teammates_each_season.withColumn(\n",
    "    \"standing_rebound\",\n",
    "    rank().over(window_spec_trb)\n",
    ")\n",
    "\n",
    "# Add the standing_block column using the rank function\n",
    "jordan_teammates_each_season = jordan_teammates_each_season.withColumn(\n",
    "    \"standing_block\",\n",
    "    rank().over(window_spec_blk)\n",
    ")\n",
    "\n",
    "# Add the standing_block column using the rank function\n",
    "jordan_teammates_each_season = jordan_teammates_each_season.withColumn(\n",
    "    \"standing_steal\",\n",
    "    rank().over(window_spec_stl)\n",
    ")\n",
    "\n",
    "# Add the standing_block column using the rank function\n",
    "jordan_teammates_each_season = jordan_teammates_each_season.withColumn(\n",
    "    \"standing_turnover\",\n",
    "    rank().over(window_spec_tov)\n",
    ")\n",
    "\n",
    "# Select the columns to display\n",
    "jordan_teammates_each_season = jordan_teammates_each_season.select(\n",
    "    \"season\",\n",
    "    \"player\",\n",
    "    \"tm\",\n",
    "    \"standing_pts\",\n",
    "    \"standing_ast\",\n",
    "    \"standing_rebound\",\n",
    "    \"standing_block\",\n",
    "    \"standing_steal\",\n",
    "    \"standing_turnover\"\n",
    ")\n",
    "\n",
    "# Filter to only include Kobe\n",
    "jordan_rank_each_season = jordan_teammates_each_season.filter(\n",
    "    col(\"player_id\") == 2193\n",
    ")\n",
    "\n",
    "# Show the result\n",
    "jordan_rank_each_season.show()"
   ]
  },
  {
   "cell_type": "markdown",
   "metadata": {
    "application/vnd.databricks.v1+cell": {
     "cellMetadata": {
      "byteLimit": 2048000,
      "rowLimit": 10000
     },
     "inputWidgets": {},
     "nuid": "5c8552d0-2044-4432-80ef-e9737c1c0467",
     "showTitle": false,
     "title": ""
    }
   },
   "source": [
    "<h1><b>All Time Team</b></h1>"
   ]
  },
  {
   "cell_type": "markdown",
   "metadata": {
    "application/vnd.databricks.v1+cell": {
     "cellMetadata": {
      "byteLimit": 2048000,
      "rowLimit": 10000
     },
     "inputWidgets": {},
     "nuid": "ea9a71c8-79a4-42c7-8bf7-2d6b5d27da7a",
     "showTitle": false,
     "title": ""
    }
   },
   "source": [
    "<h3><b>All Time Most GmSc</b></h3>"
   ]
  },
  {
   "cell_type": "code",
   "execution_count": 0,
   "metadata": {
    "application/vnd.databricks.v1+cell": {
     "cellMetadata": {
      "byteLimit": 2048000,
      "rowLimit": 10000
     },
     "collapsed": true,
     "inputWidgets": {},
     "nuid": "2c140441-cb23-427c-bc1b-9926fc7da9fe",
     "showTitle": false,
     "title": ""
    }
   },
   "outputs": [
    {
     "output_type": "stream",
     "name": "stdout",
     "output_type": "stream",
     "text": [
      "+--------------------+-------+------+------+-------+-------+-------+-------+------+-------+------+\n|              player|avg_pts|avg_fg|avg_ft|avg_trb|avg_ast|avg_stl|avg_blk|avg_pf|avg_tov|  GmSc|\n+--------------------+-------+------+------+-------+-------+-------+-------+------+-------+------+\n|         Luka Dončić| 30.317|10.341| 6.485|  8.869|  8.805|  1.189|  0.479| 2.332|  4.119|24.093|\n|       Magic Johnson| 20.367| 6.952| 5.987|  6.677| 12.386|  1.658|  0.352| 2.091|  3.927| 21.69|\n|        James Harden| 24.903| 7.332| 7.209|  7.048|  9.782|    1.4|  0.622| 2.393|  4.268| 21.47|\n|        LeBron James| 25.214| 9.509| 3.946|  7.777|  9.232|  1.125|  0.545| 1.679|   3.83|21.177|\n|        Devin Booker| 27.074| 9.441| 5.956|  4.529|  6.941|  0.897|  0.412| 3.029|  2.618|21.014|\n|          Trae Young| 25.501| 8.106| 6.688|  3.565|  9.504|  1.017|  0.152|  1.71|  4.167|19.607|\n|       Stephen Curry| 24.757| 8.456| 3.926|  4.717|  6.401|  1.541|  0.246| 2.317|  3.124|19.286|\n|Shai Gilgeous-Ale...| 23.662| 8.249| 6.121|  4.463|  5.114|  1.527|  0.794| 2.466|   2.31|19.047|\n|      Damian Lillard|  25.12| 8.102| 5.819|  4.243|  6.721|  0.955|  0.305| 1.913|  2.825|18.941|\n|       World B. Free| 28.769|10.192| 8.385|  3.859|  4.359|  1.423|  0.449| 3.244|  3.808|18.421|\n|    Donovan Mitchell| 26.434| 9.019| 5.038|  4.434|  5.226|  0.981|  0.283| 2.208|  2.774| 18.15|\n|       Allen Iverson| 25.781| 8.949| 6.709|  3.597|  6.859|  2.059|  0.197| 2.141|  3.685|18.076|\n|        Kyrie Irving| 23.714| 8.717| 3.891|  4.031|  5.698|  1.297|  0.453| 2.356|  2.536|17.789|\n|   Tyrese Haliburton| 17.971| 6.536| 2.344|  3.641|  9.067|  1.431|  0.555| 1.325|  2.278|17.648|\n|          Chris Paul| 17.522| 6.209| 3.752|  4.467|  9.351|  2.055|  0.157| 2.385|   2.33|17.558|\n|           Ja Morant| 22.502| 8.183| 4.864|  4.837|  7.405|  0.988|  0.288| 1.564|  3.315|17.287|\n|   Anfernee Hardaway|  19.72| 7.127|  4.43|   4.64|  6.697|   1.93|   0.51| 2.153|   3.08|16.957|\n|   Russell Westbrook| 21.352| 7.682| 4.886|  7.069|  8.113|  1.559|  0.326| 2.535|  3.921|16.861|\n|        Tyrese Maxey| 21.566| 7.731| 3.731|  3.434|    5.2|  0.855|  0.448| 2.117|  1.407|16.533|\n|       Kevin Johnson| 17.005| 5.874| 5.055|  3.184|  8.771|  1.454|  0.245| 2.081|   2.95|15.786|\n+--------------------+-------+------+------+-------+-------+-------+-------+------+-------+------+\nonly showing top 20 rows\n\n"
     ]
    }
   ],
   "source": [
    "# Filter the DataFrame for PG (Point Guards)\n",
    "pg_filter = player_totals_df.filter(\n",
    "    col(\"pos\") == \"PG\"\n",
    ")\n",
    "\n",
    "# Calculate total statistics and total games per player\n",
    "pg_totals = pg_filter.groupBy(\"player\").agg(\n",
    "    sum(\"g\").alias(\"total_g\"),\n",
    "    sum(\"pts\").alias(\"total_pts\"),\n",
    "    sum(\"fg\").alias(\"total_fg\"),\n",
    "    sum(\"fga\").alias(\"total_fga\"),\n",
    "    sum(\"fta\").alias(\"total_fta\"),\n",
    "    sum(\"ft\").alias(\"total_ft\"),\n",
    "    sum(\"orb\").alias(\"total_orb\"),\n",
    "    sum(\"drb\").alias(\"total_drb\"),\n",
    "    sum(\"trb\").alias(\"total_trb\"),\n",
    "    sum(\"ast\").alias(\"total_ast\"),\n",
    "    sum(\"stl\").alias(\"total_stl\"),\n",
    "    sum(\"blk\").alias(\"total_blk\"),\n",
    "    sum(\"pf\").alias(\"total_pf\"),\n",
    "    sum(\"tov\").alias(\"total_tov\"),\n",
    ")\n",
    "\n",
    "# Calculate average statistics per game\n",
    "pg_all_star = pg_totals.withColumn(\n",
    "    \"avg_pts\",\n",
    "    round(col(\"total_pts\") / col(\"total_g\"), 3)\n",
    ").withColumn(\n",
    "    \"avg_fg\",\n",
    "    round(col(\"total_fg\") / col(\"total_g\"), 3)\n",
    ").withColumn(\n",
    "    \"avg_fga\",\n",
    "    round(col(\"total_fga\") / col(\"total_g\"), 3)\n",
    ").withColumn(\n",
    "    \"avg_fta\",\n",
    "    round(col(\"total_fta\") / col(\"total_g\"), 3)\n",
    ").withColumn(\n",
    "    \"avg_ft\",\n",
    "    round(col(\"total_ft\") / col(\"total_g\"), 3)\n",
    ").withColumn(\n",
    "    \"avg_orb\",\n",
    "    round(col(\"total_orb\") / col(\"total_g\"), 3)\n",
    ").withColumn(\n",
    "    \"avg_drb\",\n",
    "    round(col(\"total_drb\") / col(\"total_g\"), 3)\n",
    ").withColumn(\n",
    "    \"avg_trb\",\n",
    "    round(col(\"total_trb\") / col(\"total_g\"), 3)\n",
    ").withColumn(\n",
    "    \"avg_ast\",\n",
    "    round(col(\"total_ast\") / col(\"total_g\"), 3)\n",
    ").withColumn(\n",
    "    \"avg_stl\",\n",
    "    round(col(\"total_stl\") / col(\"total_g\"), 3)\n",
    ").withColumn(\n",
    "    \"avg_blk\",\n",
    "    round(col(\"total_blk\") / col(\"total_g\"), 3)\n",
    ").withColumn(\n",
    "    \"avg_pf\",\n",
    "    round(col(\"total_pf\") / col(\"total_g\"), 3)\n",
    ").withColumn(\n",
    "    \"avg_tov\",\n",
    "    round(col(\"total_tov\") / col(\"total_g\"), 3)\n",
    ")\n",
    "\n",
    "# Calculate GmSc using the average columns\n",
    "pg_all_star = pg_all_star.withColumn(\n",
    "    \"GmSc\",\n",
    "    round(\n",
    "        col(\"avg_pts\") +\n",
    "        (0.4 * col(\"avg_fg\")) -\n",
    "        (0.7 * col(\"avg_fga\")) -\n",
    "        (0.4 * (col(\"avg_fta\") - col(\"avg_ft\"))) +\n",
    "        (0.7 * col(\"avg_orb\")) +\n",
    "        (0.3 * col(\"avg_drb\")) +\n",
    "        col(\"avg_stl\") +\n",
    "        (0.7 * col(\"avg_ast\")) +\n",
    "        (0.7 * col(\"avg_blk\")) -\n",
    "        (0.4 * col(\"avg_pf\")) -\n",
    "        col(\"avg_tov\"),\n",
    "        3\n",
    "    )\n",
    ")\n",
    "\n",
    "# Select the relevant columns for display\n",
    "pg_all_star = pg_all_star.select(\n",
    "    \"player\",\n",
    "    \"avg_pts\",\n",
    "    \"avg_fg\",\n",
    "    \"avg_ft\",\n",
    "    \"avg_trb\",\n",
    "    \"avg_ast\",\n",
    "    \"avg_stl\",\n",
    "    \"avg_blk\",\n",
    "    \"avg_pf\",\n",
    "    \"avg_tov\",\n",
    "    \"GmSc\"\n",
    ")\n",
    "\n",
    "# Sort by GmSc in descending order\n",
    "pg_all_star = pg_all_star.orderBy(\n",
    "    col(\"GmSc\").desc()\n",
    ")\n",
    "\n",
    "# Show the updated DataFrame\n",
    "pg_all_star.show()"
   ]
  },
  {
   "cell_type": "code",
   "execution_count": 0,
   "metadata": {
    "application/vnd.databricks.v1+cell": {
     "cellMetadata": {
      "byteLimit": 2048000,
      "rowLimit": 10000
     },
     "collapsed": true,
     "inputWidgets": {},
     "nuid": "76a1cbef-7c7b-4428-ab1f-ebe83fbdfd98",
     "showTitle": false,
     "title": ""
    }
   },
   "outputs": [
    {
     "output_type": "stream",
     "name": "stdout",
     "output_type": "stream",
     "text": [
      "+--------------------+-------+------+------+-------+-------+-------+-------+------+-------+------+\n|              player|avg_pts|avg_fg|avg_ft|avg_trb|avg_ast|avg_stl|avg_blk|avg_pf|avg_tov|  GmSc|\n+--------------------+-------+------+------+-------+-------+-------+-------+------+-------+------+\n|      Michael Jordan| 31.481|11.787|  7.31|  6.275|  5.389|   2.48|   0.89| 2.681|  2.784|24.873|\n|        Kyrie Irving| 25.638|  9.69| 3.276|    5.0|  5.155|  1.276|  0.483| 1.931|  1.828|20.152|\n|       Magic Johnson| 18.295| 6.945| 4.347|  8.672|  9.048|  2.576|   0.55| 2.734|  3.819| 19.61|\n|         Kobe Bryant| 27.188| 9.517| 6.767|  5.687|  5.161|  1.557|  0.499| 2.616|  3.196|19.219|\n|        James Harden|  23.44| 6.912|  7.11|  4.853|  5.638|  1.528|  0.518| 2.579|  3.315| 18.07|\n|       Allen Iverson| 27.273| 9.482|  7.16|  3.794|  5.662|  2.247|  0.167| 1.807|  3.488|18.003|\n|      Scottie Barnes|  19.85|  7.45| 3.267|  8.233|   6.05|   1.25|  1.467| 1.967|   2.75|17.859|\n|           Fat Lever|  17.88| 7.165| 3.221|  8.378|  6.869|   2.39|  0.258| 2.404|  2.026|17.216|\n|         Paul Pierce| 25.003| 8.142| 6.809|  6.747|  4.215|  1.639|   0.74| 2.847|  3.417|17.137|\n|       Clyde Drexler| 20.523| 7.664| 4.356|  6.159|  5.583|  2.016|  0.657| 3.004|  2.722|16.995|\n|    Donovan Mitchell| 24.622| 8.812| 4.089|  4.258|  4.576|  1.429|   0.34| 2.513|  2.773|16.862|\n|     Dejounte Murray|   21.5| 8.447| 2.408|  5.296|   6.25|  1.467|  0.283| 1.605|  2.375|16.755|\n|       George Gervin| 25.588| 9.915| 5.629|   4.66|  2.667|  1.093|  0.792| 2.836|  2.956|16.675|\n|         Dwyane Wade| 21.641| 7.908| 5.292|  4.658|  5.334|  1.505|  0.847| 2.181|  3.085|16.328|\n|       Tracy McGrady| 21.838|  7.96| 4.538|  5.638|  5.013|  1.252|  0.726|  1.72|  2.326|16.086|\n|       Pete Maravich| 23.591| 9.174| 5.214|   4.03|  5.201|  0.872|  0.163| 2.773|  0.873|15.981|\n|        Jrue Holiday| 19.732| 7.751| 2.507|  4.746|  6.756|  1.584|  0.794| 2.364|  2.904|15.948|\n|Shai Gilgeous-Ale...| 20.581| 7.286| 4.505|  5.505|  4.181|   1.01|  0.667| 1.781|  2.286| 15.84|\n|         Luka Dončić| 21.194| 7.028| 4.806|  7.819|  5.958|  1.069|  0.347| 1.903|  3.431|15.816|\n|     Anthony Edwards| 22.914| 8.209| 3.884|  5.189|  4.109|  1.368|  0.603| 2.053|  2.815|15.793|\n+--------------------+-------+------+------+-------+-------+-------+-------+------+-------+------+\nonly showing top 20 rows\n\n"
     ]
    }
   ],
   "source": [
    "# Filter the DataFrame for SG\n",
    "sg_filter = player_totals_df.filter(\n",
    "    col(\"pos\") == \"SG\"\n",
    ")\n",
    "\n",
    "# Calculate total statistics and total games per player\n",
    "sg_totals = sg_filter.groupBy(\"player\").agg(\n",
    "    sum(\"g\").alias(\"total_g\"),\n",
    "    sum(\"pts\").alias(\"total_pts\"),\n",
    "    sum(\"fg\").alias(\"total_fg\"),\n",
    "    sum(\"fga\").alias(\"total_fga\"),\n",
    "    sum(\"fta\").alias(\"total_fta\"),\n",
    "    sum(\"ft\").alias(\"total_ft\"),\n",
    "    sum(\"orb\").alias(\"total_orb\"),\n",
    "    sum(\"drb\").alias(\"total_drb\"),\n",
    "    sum(\"trb\").alias(\"total_trb\"),\n",
    "    sum(\"ast\").alias(\"total_ast\"),\n",
    "    sum(\"stl\").alias(\"total_stl\"),\n",
    "    sum(\"blk\").alias(\"total_blk\"),\n",
    "    sum(\"pf\").alias(\"total_pf\"),\n",
    "    sum(\"tov\").alias(\"total_tov\"),\n",
    ")\n",
    "\n",
    "# Calculate average statistics per game\n",
    "sg_all_star = sg_totals.withColumn(\n",
    "    \"avg_pts\",\n",
    "    round(col(\"total_pts\") / col(\"total_g\"), 3)\n",
    ").withColumn(\n",
    "    \"avg_fg\",\n",
    "    round(col(\"total_fg\") / col(\"total_g\"), 3)\n",
    ").withColumn(\n",
    "    \"avg_fga\",\n",
    "    round(col(\"total_fga\") / col(\"total_g\"), 3)\n",
    ").withColumn(\n",
    "    \"avg_fta\",\n",
    "    round(col(\"total_fta\") / col(\"total_g\"), 3)\n",
    ").withColumn(\n",
    "    \"avg_ft\",\n",
    "    round(col(\"total_ft\") / col(\"total_g\"), 3)\n",
    ").withColumn(\n",
    "    \"avg_orb\",\n",
    "    round(col(\"total_orb\") / col(\"total_g\"), 3)\n",
    ").withColumn(\n",
    "    \"avg_drb\",\n",
    "    round(col(\"total_drb\") / col(\"total_g\"), 3)\n",
    ").withColumn(\n",
    "    \"avg_trb\",\n",
    "    round(col(\"total_trb\") / col(\"total_g\"), 3)\n",
    ").withColumn(\n",
    "    \"avg_ast\",\n",
    "    round(col(\"total_ast\") / col(\"total_g\"), 3)\n",
    ").withColumn(\n",
    "    \"avg_stl\",\n",
    "    round(col(\"total_stl\") / col(\"total_g\"), 3)\n",
    ").withColumn(\n",
    "    \"avg_blk\",\n",
    "    round(col(\"total_blk\") / col(\"total_g\"), 3)\n",
    ").withColumn(\n",
    "    \"avg_pf\",\n",
    "    round(col(\"total_pf\") / col(\"total_g\"), 3)\n",
    ").withColumn(\n",
    "    \"avg_tov\",\n",
    "    round(col(\"total_tov\") / col(\"total_g\"), 3)\n",
    ")\n",
    "\n",
    "# Calculate GmSc using the average columns\n",
    "sg_all_star = sg_all_star.withColumn(\n",
    "    \"GmSc\",\n",
    "    round(\n",
    "        col(\"avg_pts\") +\n",
    "        (0.4 * col(\"avg_fg\")) -\n",
    "        (0.7 * col(\"avg_fga\")) -\n",
    "        (0.4 * (col(\"avg_fta\") - col(\"avg_ft\"))) +\n",
    "        (0.7 * col(\"avg_orb\")) +\n",
    "        (0.3 * col(\"avg_drb\")) +\n",
    "        col(\"avg_stl\") +\n",
    "        (0.7 * col(\"avg_ast\")) +\n",
    "        (0.7 * col(\"avg_blk\")) -\n",
    "        (0.4 * col(\"avg_pf\")) -\n",
    "        col(\"avg_tov\"),\n",
    "        3\n",
    "    )\n",
    ")\n",
    "\n",
    "# Select the relevant columns for display\n",
    "sg_all_star = sg_all_star.select(\n",
    "    \"player\",\n",
    "    \"avg_pts\",\n",
    "    \"avg_fg\",\n",
    "    \"avg_ft\",\n",
    "    \"avg_trb\",\n",
    "    \"avg_ast\",\n",
    "    \"avg_stl\",\n",
    "    \"avg_blk\",\n",
    "    \"avg_pf\",\n",
    "    \"avg_tov\",\n",
    "    \"GmSc\"\n",
    ")\n",
    "\n",
    "# Sort by GmSc in descending order\n",
    "sg_all_star = sg_all_star.orderBy(\n",
    "    col(\"GmSc\").desc()\n",
    ")\n",
    "\n",
    "# Show the updated DataFrame\n",
    "sg_all_star.show()"
   ]
  },
  {
   "cell_type": "code",
   "execution_count": 0,
   "metadata": {
    "application/vnd.databricks.v1+cell": {
     "cellMetadata": {
      "byteLimit": 2048000,
      "rowLimit": 10000
     },
     "collapsed": true,
     "inputWidgets": {},
     "nuid": "84240ad7-2274-4064-9496-51b540698862",
     "showTitle": false,
     "title": ""
    }
   },
   "outputs": [
    {
     "output_type": "stream",
     "name": "stdout",
     "output_type": "stream",
     "text": [
      "+-----------------+-------+------+------+-------+-------+-------+-------+------+-------+------+\n|           player|avg_pts|avg_fg|avg_ft|avg_trb|avg_ast|avg_stl|avg_blk|avg_pf|avg_tov|  GmSc|\n+-----------------+-------+------+------+-------+-------+-------+-------+------+-------+------+\n|     LeBron James|  27.73| 9.985| 6.293|  7.462|  7.252|   1.63|  0.791| 1.907|  3.447|22.564|\n|  Charles Barkley| 25.195| 9.018| 6.724| 10.946|  4.068|  1.783|  0.575| 2.801|  3.113|22.476|\n|       Larry Bird| 25.641| 9.966| 4.665|  9.486|  6.926|  1.641|  0.869| 2.255|  3.078|22.061|\n|     Kevin Durant| 27.929| 9.439|  7.07|  7.248|  4.227|  1.127|  1.087| 1.938|  3.221|21.333|\n| Rudy Tomjanovich| 23.845| 9.757|  4.33|  8.301|  2.738|   1.01|  0.689| 2.845|  0.369|19.814|\n|   David Thompson|   26.0| 9.723| 6.518|  6.325|  3.711|  1.639|  1.229| 3.398|  3.012| 19.72|\n|    Julius Erving| 24.156| 9.508| 5.033|  8.467|  4.164|  1.828|  1.562| 2.811|   3.17| 19.49|\n|    DeMar DeRozan| 23.606| 8.434| 6.149|  4.787|   5.33|    1.1|  0.457| 2.385|  2.045|18.635|\n|    George Gervin| 24.088| 9.511| 4.977|  6.543|  2.585|  1.446|  1.381| 3.528|  2.318|17.805|\n|     Michael Redd| 26.717|   9.0| 6.509|  3.698|   2.34|  1.189|   0.17| 1.472|  2.302|17.724|\n|   Adrian Dantley| 23.734| 8.326| 7.076|  5.774|  2.939|  0.998|  0.169| 2.682|  2.614|17.703|\n|     Jimmy Butler| 19.101| 6.173| 6.083|   5.73|  4.782|  1.671|  0.428| 1.401|  1.712|17.629|\n|       Rick Barry| 24.783| 9.505| 5.601|  6.728|  4.855|  1.082|  0.264| 2.969|  1.337|17.581|\n|Dominique Wilkins| 24.905| 9.287| 5.639|  6.664|  2.479|   1.28|  0.585| 1.905|  2.475|17.248|\n|    Kawhi Leonard| 20.024| 7.244| 3.943|  6.384|  3.046|  1.718|  0.652|  1.68|  1.638| 16.89|\n|      Zach LaVine|   25.5| 8.983| 4.467|  4.817|  4.233|  1.467|  0.467| 2.183|  3.433|16.834|\n|      Paul George| 22.454| 7.575| 4.489|  6.784|  3.872|  1.781|  0.427| 2.701|  2.893|16.221|\n|  Carmelo Anthony| 24.306| 8.678| 5.913|  6.504|  3.152|  1.046|  0.477| 2.891|  2.814|16.057|\n|   Terry Cummings| 22.863| 9.125| 4.525|  8.125|  2.475|  1.325|    0.9| 3.313|  2.513|16.039|\n|  Marques Johnson| 20.076| 8.312| 3.432|  7.144|  3.602|  1.268|  0.771| 2.519|  2.344|15.906|\n+-----------------+-------+------+------+-------+-------+-------+-------+------+-------+------+\nonly showing top 20 rows\n\n"
     ]
    }
   ],
   "source": [
    "# Filter the DataFrame for SF\n",
    "sf_filter = player_totals_df.filter(\n",
    "    col(\"pos\") == \"SF\"\n",
    ")\n",
    "\n",
    "# Calculate total statistics and total games per player\n",
    "sf_totals = sf_filter.groupBy(\"player\").agg(\n",
    "    sum(\"g\").alias(\"total_g\"),\n",
    "    sum(\"pts\").alias(\"total_pts\"),\n",
    "    sum(\"fg\").alias(\"total_fg\"),\n",
    "    sum(\"fga\").alias(\"total_fga\"),\n",
    "    sum(\"fta\").alias(\"total_fta\"),\n",
    "    sum(\"ft\").alias(\"total_ft\"),\n",
    "    sum(\"orb\").alias(\"total_orb\"),\n",
    "    sum(\"drb\").alias(\"total_drb\"),\n",
    "    sum(\"trb\").alias(\"total_trb\"),\n",
    "    sum(\"ast\").alias(\"total_ast\"),\n",
    "    sum(\"stl\").alias(\"total_stl\"),\n",
    "    sum(\"blk\").alias(\"total_blk\"),\n",
    "    sum(\"pf\").alias(\"total_pf\"),\n",
    "    sum(\"tov\").alias(\"total_tov\"),\n",
    ")\n",
    "\n",
    "# Calculate average statistics per game\n",
    "sf_all_star = sf_totals.withColumn(\n",
    "    \"avg_pts\",\n",
    "    round(col(\"total_pts\") / col(\"total_g\"), 3)\n",
    ").withColumn(\n",
    "    \"avg_fg\",\n",
    "    round(col(\"total_fg\") / col(\"total_g\"), 3)\n",
    ").withColumn(\n",
    "    \"avg_fga\",\n",
    "    round(col(\"total_fga\") / col(\"total_g\"), 3)\n",
    ").withColumn(\n",
    "    \"avg_fta\",\n",
    "    round(col(\"total_fta\") / col(\"total_g\"), 3)\n",
    ").withColumn(\n",
    "    \"avg_ft\",\n",
    "    round(col(\"total_ft\") / col(\"total_g\"), 3)\n",
    ").withColumn(\n",
    "    \"avg_orb\",\n",
    "    round(col(\"total_orb\") / col(\"total_g\"), 3)\n",
    ").withColumn(\n",
    "    \"avg_drb\",\n",
    "    round(col(\"total_drb\") / col(\"total_g\"), 3)\n",
    ").withColumn(\n",
    "    \"avg_trb\",\n",
    "    round(col(\"total_trb\") / col(\"total_g\"), 3)\n",
    ").withColumn(\n",
    "    \"avg_ast\",\n",
    "    round(col(\"total_ast\") / col(\"total_g\"), 3)\n",
    ").withColumn(\n",
    "    \"avg_stl\",\n",
    "    round(col(\"total_stl\") / col(\"total_g\"), 3)\n",
    ").withColumn(\n",
    "    \"avg_blk\",\n",
    "    round(col(\"total_blk\") / col(\"total_g\"), 3)\n",
    ").withColumn(\n",
    "    \"avg_pf\",\n",
    "    round(col(\"total_pf\") / col(\"total_g\"), 3)\n",
    ").withColumn(\n",
    "    \"avg_tov\",\n",
    "    round(col(\"total_tov\") / col(\"total_g\"), 3)\n",
    ")\n",
    "\n",
    "# Calculate GmSc using the average columns\n",
    "sf_all_star = sf_all_star.withColumn(\n",
    "    \"GmSc\",\n",
    "    round(\n",
    "        col(\"avg_pts\") +\n",
    "        (0.4 * col(\"avg_fg\")) -\n",
    "        (0.7 * col(\"avg_fga\")) -\n",
    "        (0.4 * (col(\"avg_fta\") - col(\"avg_ft\"))) +\n",
    "        (0.7 * col(\"avg_orb\")) +\n",
    "        (0.3 * col(\"avg_drb\")) +\n",
    "        col(\"avg_stl\") +\n",
    "        (0.7 * col(\"avg_ast\")) +\n",
    "        (0.7 * col(\"avg_blk\")) -\n",
    "        (0.4 * col(\"avg_pf\")) -\n",
    "        col(\"avg_tov\"),\n",
    "        3\n",
    "    )\n",
    ")\n",
    "\n",
    "# Select the relevant columns for display\n",
    "sf_all_star = sf_all_star.select(\n",
    "    \"player\",\n",
    "    \"avg_pts\",\n",
    "    \"avg_fg\",\n",
    "    \"avg_ft\",\n",
    "    \"avg_trb\",\n",
    "    \"avg_ast\",\n",
    "    \"avg_stl\",\n",
    "    \"avg_blk\",\n",
    "    \"avg_pf\",\n",
    "    \"avg_tov\",\n",
    "    \"GmSc\"\n",
    ")\n",
    "\n",
    "# Sort by GmSc in descending order\n",
    "sf_all_star = sf_all_star.orderBy(\n",
    "    col(\"GmSc\").desc()\n",
    ")\n",
    "\n",
    "# Show the updated DataFrame\n",
    "sf_all_star.show()"
   ]
  },
  {
   "cell_type": "code",
   "execution_count": 0,
   "metadata": {
    "application/vnd.databricks.v1+cell": {
     "cellMetadata": {
      "byteLimit": 2048000,
      "rowLimit": 10000
     },
     "collapsed": true,
     "inputWidgets": {},
     "nuid": "869824fa-6ebf-4e50-aa36-79a13d7ade57",
     "showTitle": false,
     "title": ""
    }
   },
   "outputs": [
    {
     "output_type": "stream",
     "name": "stdout",
     "output_type": "stream",
     "text": [
      "+--------------------+-------+------+------+-------+-------+-------+-------+------+-------+------+\n|              player|avg_pts|avg_fg|avg_ft|avg_trb|avg_ast|avg_stl|avg_blk|avg_pf|avg_tov|  GmSc|\n+--------------------+-------+------+------+-------+-------+-------+-------+------+-------+------+\n|Giannis Antetokou...|  29.04|10.563| 7.063| 11.686|  5.736|   1.15|  1.215| 3.049|  3.466|24.575|\n|        LeBron James| 27.537|10.367| 4.887|   7.88|  7.432|  1.386|  0.703|  1.58|  3.506|23.361|\n|        Kevin Durant|  27.56| 9.827| 5.816|  7.233|   5.38|  0.902|  1.293| 1.974|  3.117| 22.31|\n|        Jayson Tatum| 26.911| 9.117| 5.603|  7.991|  4.234|   1.15|  0.706| 2.061|  2.598|20.321|\n|       Anthony Davis| 22.664| 8.454| 5.336|   9.64|  2.153|  1.384|  2.409| 2.349|  1.836|19.846|\n|     Zion Williamson| 24.685| 9.527| 5.473|  6.516|  4.136|  0.989|  0.603| 2.179|  2.815|19.743|\n|       DeMar DeRozan| 25.066| 8.971|  6.62|  4.752|   5.81|  0.905|  0.285| 2.234|   2.19|19.536|\n|         Karl Malone| 25.019| 9.165| 6.631| 10.141|  3.556|  1.413|  0.776| 3.102|  3.065|19.481|\n|     Charles Barkley| 21.349| 7.561| 5.708| 11.886|  3.892|  1.472|  0.893| 3.131|  3.155|19.156|\n|          Larry Bird| 22.612| 9.093| 4.103| 10.652|  5.629|  1.852|  0.807| 2.897|  3.216|19.153|\n|        Jimmy Butler| 20.767|   6.6| 6.567|    5.3|  4.967|  1.317|  0.283| 1.133|    1.7|18.851|\n|          Tim Duncan| 22.056| 8.431| 5.159| 12.042|  3.141|  0.794|  2.477| 2.752|  2.895|18.418|\n|           Dan Issel| 25.264| 9.961| 5.315|  10.24|  2.222|  0.724|   0.36| 2.682|  2.366|18.066|\n|         Paul George| 23.095| 8.095| 3.724|  5.724|  4.171|  1.714|  0.476| 2.629|  2.657|16.832|\n|       Kevin Garnett| 18.758| 7.494| 3.637|  10.66|  4.038|  1.314|  1.365| 2.448|  2.268|16.791|\n|      Brandon Ingram| 23.823| 8.177| 5.048|  6.129|  4.177|  0.984|  0.613| 2.887|  3.048|16.667|\n|  Karl-Anthony Towns|  21.44| 7.593| 4.099|  8.253|  3.615|  0.692|  0.637| 3.462|   2.89|16.125|\n|        Shawn Marion| 17.166| 6.997| 2.144|  10.38|  2.073|  1.825|  1.332| 2.346|  1.479|15.949|\n|         Bam Adebayo| 15.917| 6.111| 3.667| 10.208|  5.111|  1.139|  1.292| 2.528|  2.833|15.842|\n|       Dirk Nowitzki| 21.033| 7.444| 4.901|   7.45|  2.429|  0.768|  0.817| 2.335|  1.674|15.737|\n+--------------------+-------+------+------+-------+-------+-------+-------+------+-------+------+\nonly showing top 20 rows\n\n"
     ]
    }
   ],
   "source": [
    "# Filter the DataFrame for PF\n",
    "pf_filter = player_totals_df.filter(\n",
    "    col(\"pos\") == \"PF\"\n",
    ")\n",
    "\n",
    "# Calculate total statistics and total games per player\n",
    "pf_totals = pf_filter.groupBy(\"player\").agg(\n",
    "    sum(\"g\").alias(\"total_g\"),\n",
    "    sum(\"pts\").alias(\"total_pts\"),\n",
    "    sum(\"fg\").alias(\"total_fg\"),\n",
    "    sum(\"fga\").alias(\"total_fga\"),\n",
    "    sum(\"fta\").alias(\"total_fta\"),\n",
    "    sum(\"ft\").alias(\"total_ft\"),\n",
    "    sum(\"orb\").alias(\"total_orb\"),\n",
    "    sum(\"drb\").alias(\"total_drb\"),\n",
    "    sum(\"trb\").alias(\"total_trb\"),\n",
    "    sum(\"ast\").alias(\"total_ast\"),\n",
    "    sum(\"stl\").alias(\"total_stl\"),\n",
    "    sum(\"blk\").alias(\"total_blk\"),\n",
    "    sum(\"pf\").alias(\"total_pf\"),\n",
    "    sum(\"tov\").alias(\"total_tov\")\n",
    ")\n",
    "\n",
    "# Calculate average statistics per game\n",
    "pf_all_star = pf_totals.withColumn(\n",
    "    \"avg_pts\",\n",
    "    round(col(\"total_pts\") / col(\"total_g\"), 3)\n",
    ").withColumn(\n",
    "    \"avg_fg\",\n",
    "    round(col(\"total_fg\") / col(\"total_g\"), 3)\n",
    ").withColumn(\n",
    "    \"avg_fga\",\n",
    "    round(col(\"total_fga\") / col(\"total_g\"), 3)\n",
    ").withColumn(\n",
    "    \"avg_fta\",\n",
    "    round(col(\"total_fta\") / col(\"total_g\"), 3)\n",
    ").withColumn(\n",
    "    \"avg_ft\",\n",
    "    round(col(\"total_ft\") / col(\"total_g\"), 3)\n",
    ").withColumn(\n",
    "    \"avg_orb\",\n",
    "    round(col(\"total_orb\") / col(\"total_g\"), 3)\n",
    ").withColumn(\n",
    "    \"avg_drb\",\n",
    "    round(col(\"total_drb\") / col(\"total_g\"), 3)\n",
    ").withColumn(\n",
    "    \"avg_trb\",\n",
    "    round(col(\"total_trb\") / col(\"total_g\"), 3)\n",
    ").withColumn(\n",
    "    \"avg_ast\",\n",
    "    round(col(\"total_ast\") / col(\"total_g\"), 3)\n",
    ").withColumn(\n",
    "    \"avg_stl\",\n",
    "    round(col(\"total_stl\") / col(\"total_g\"), 3)\n",
    ").withColumn(\n",
    "    \"avg_blk\",\n",
    "    round(col(\"total_blk\") / col(\"total_g\"), 3)\n",
    ").withColumn(\n",
    "    \"avg_pf\",\n",
    "    round(col(\"total_pf\") / col(\"total_g\"), 3)\n",
    ").withColumn(\n",
    "    \"avg_tov\",\n",
    "    round(col(\"total_tov\") / col(\"total_g\"), 3)\n",
    ")\n",
    "\n",
    "# Calculate GmSc using the average columns\n",
    "pf_all_star = pf_all_star.withColumn(\n",
    "    \"GmSc\",\n",
    "    round(\n",
    "        col(\"avg_pts\") +\n",
    "        (0.4 * col(\"avg_fg\")) -\n",
    "        (0.7 * col(\"avg_fga\")) -\n",
    "        (0.4 * (col(\"avg_fta\") - col(\"avg_ft\"))) +\n",
    "        (0.7 * col(\"avg_orb\")) +\n",
    "        (0.3 * col(\"avg_drb\")) +\n",
    "        col(\"avg_stl\") +\n",
    "        (0.7 * col(\"avg_ast\")) +\n",
    "        (0.7 * col(\"avg_blk\")) -\n",
    "        (0.4 * col(\"avg_pf\")) -\n",
    "        col(\"avg_tov\"),\n",
    "        3\n",
    "    )\n",
    ")\n",
    "\n",
    "# Select the relevant columns for display\n",
    "pf_all_star = pf_all_star.select(\n",
    "    \"player\",\n",
    "    \"avg_pts\",\n",
    "    \"avg_fg\",\n",
    "    \"avg_ft\",\n",
    "    \"avg_trb\",\n",
    "    \"avg_ast\",\n",
    "    \"avg_stl\",\n",
    "    \"avg_blk\",\n",
    "    \"avg_pf\",\n",
    "    \"avg_tov\",\n",
    "    \"GmSc\"\n",
    ")\n",
    "\n",
    "# Sort by GmSc in descending order\n",
    "pf_all_star = pf_all_star.orderBy(\n",
    "    col(\"GmSc\").desc()\n",
    ")\n",
    "\n",
    "# Show the updated DataFrame\n",
    "pf_all_star.show()"
   ]
  },
  {
   "cell_type": "code",
   "execution_count": 0,
   "metadata": {
    "application/vnd.databricks.v1+cell": {
     "cellMetadata": {
      "byteLimit": 2048000,
      "rowLimit": 10000
     },
     "collapsed": true,
     "inputWidgets": {},
     "nuid": "750df1db-b82b-4169-8832-e5ba03c2c18f",
     "showTitle": false,
     "title": ""
    }
   },
   "outputs": [
    {
     "output_type": "stream",
     "name": "stdout",
     "output_type": "stream",
     "text": [
      "+-------------------+-------+------+------+-------+-------+-------+-------+------+-------+------+\n|             player|avg_pts|avg_fg|avg_ft|avg_trb|avg_ast|avg_stl|avg_blk|avg_pf|avg_tov|  GmSc|\n+-------------------+-------+------+------+-------+-------+-------+-------+------+-------+------+\n|        Joel Embiid| 27.878| 9.185| 8.333| 11.159|  3.633|  0.917|  1.663| 3.065|   3.43|22.297|\n|      Anthony Davis| 25.511| 9.574| 5.857| 11.648|  2.821|  1.261|  2.223| 2.385|  2.135|22.268|\n|       Nikola Jokić| 20.947| 8.074| 3.797| 10.739|  6.914|  1.218|  0.727| 2.719|  2.883|20.593|\n|Kareem Abdul-Jabbar| 24.607|10.152| 4.303| 11.179|  3.628|  0.744|  2.044| 2.985|   1.62|20.343|\n| Karl-Anthony Towns| 23.174| 8.568| 4.421| 11.338|  3.083|  0.807|  1.376| 3.388|  2.676|19.375|\n|     David Robinson| 21.064| 7.462| 6.114| 10.635|  2.473|  1.406|  2.993| 2.872|  2.449| 19.16|\n|      Pascal Siakam| 24.225| 8.873| 5.169|  7.831|  5.845|  0.915|  0.507| 3.211|   2.38|19.011|\n|         Bob McAdoo| 22.937| 9.022| 4.893| 10.045|  2.273|  0.926|  1.536| 3.263|  1.096|18.727|\n|    Hakeem Olajuwon| 21.766| 8.683|  4.38| 11.105|   2.47|  1.746|  3.094|  3.54|  2.962|18.557|\n|   Shaquille O'Neal| 23.208| 9.196| 4.815| 10.767|   2.46|  0.608|  2.224|  3.45|  2.753|18.471|\n|  Victor Wembanyama| 21.437| 7.761| 4.113| 10.634|  3.859|  1.239|  3.577| 2.155|  3.662|18.444|\n|     Alperen Sengun| 21.127| 8.365| 3.873|  9.349|  4.952|  1.206|   0.73| 3.349|  2.571|18.116|\n|       Moses Malone| 20.113| 6.971| 6.165| 12.378|  1.317|  0.831|  1.367| 2.436|   2.76| 16.98|\n| Kristaps Porziņģis| 21.077| 7.288| 4.311|   8.45|  2.068|  0.725|   1.73| 2.937|  1.662| 16.78|\n|          Dan Issel| 21.547| 8.038| 5.447|  8.727|  2.449|  0.902|  0.511|  2.95|  1.923| 16.63|\n|       Chris Webber| 19.646| 8.293| 2.619|  9.306|  3.707|  1.388|  1.959|  3.51|   2.66|16.206|\n|      Artis Gilmore| 18.004| 6.787| 4.428| 11.815|  2.194|  0.527|  2.291| 3.341|  2.852|16.191|\n|         Bob Lanier| 20.018|  8.05| 3.915| 10.029|  3.122|  0.833|  1.163| 3.178|  1.247|16.056|\n|   Domantas Sabonis| 16.327| 6.407| 3.235| 10.926|  5.235|  0.741|  0.475| 3.225|  2.627|15.955|\n|    Antonio McDyess|  21.22|   8.3|   4.6|  10.74|   1.64|   1.46|    2.3|   3.5|   2.76|15.952|\n+-------------------+-------+------+------+-------+-------+-------+-------+------+-------+------+\nonly showing top 20 rows\n\n"
     ]
    }
   ],
   "source": [
    "# Filter the DataFrame for PG (Point Guards)\n",
    "c_filter = player_totals_df.filter(\n",
    "    col(\"pos\") == \"C\"\n",
    ")\n",
    "\n",
    "# Calculate total statistics and total games per player\n",
    "c_totals = c_filter.groupBy(\"player\").agg(\n",
    "    sum(\"g\").alias(\"total_g\"),\n",
    "    sum(\"pts\").alias(\"total_pts\"),\n",
    "    sum(\"fg\").alias(\"total_fg\"),\n",
    "    sum(\"fga\").alias(\"total_fga\"),\n",
    "    sum(\"fta\").alias(\"total_fta\"),\n",
    "    sum(\"ft\").alias(\"total_ft\"),\n",
    "    sum(\"orb\").alias(\"total_orb\"),\n",
    "    sum(\"drb\").alias(\"total_drb\"),\n",
    "    sum(\"trb\").alias(\"total_trb\"),\n",
    "    sum(\"ast\").alias(\"total_ast\"),\n",
    "    sum(\"stl\").alias(\"total_stl\"),\n",
    "    sum(\"blk\").alias(\"total_blk\"),\n",
    "    sum(\"pf\").alias(\"total_pf\"),\n",
    "    sum(\"tov\").alias(\"total_tov\")\n",
    ")\n",
    "\n",
    "# Calculate average statistics per game\n",
    "c_all_star = c_totals.withColumn(\n",
    "    \"avg_pts\",\n",
    "    round(col(\"total_pts\") / col(\"total_g\"), 3)\n",
    ").withColumn(\n",
    "    \"avg_fg\",\n",
    "    round(col(\"total_fg\") / col(\"total_g\"), 3)\n",
    ").withColumn(\n",
    "    \"avg_fga\",\n",
    "    round(col(\"total_fga\") / col(\"total_g\"), 3)\n",
    ").withColumn(\n",
    "    \"avg_fta\",\n",
    "    round(col(\"total_fta\") / col(\"total_g\"), 3)\n",
    ").withColumn(\n",
    "    \"avg_ft\",\n",
    "    round(col(\"total_ft\") / col(\"total_g\"), 3)\n",
    ").withColumn(\n",
    "    \"avg_orb\",\n",
    "    round(col(\"total_orb\") / col(\"total_g\"), 3)\n",
    ").withColumn(\n",
    "    \"avg_drb\",\n",
    "    round(col(\"total_drb\") / col(\"total_g\"), 3)\n",
    ").withColumn(\n",
    "    \"avg_trb\",\n",
    "    round(col(\"total_trb\") / col(\"total_g\"), 3)\n",
    ").withColumn(\n",
    "    \"avg_ast\",\n",
    "    round(col(\"total_ast\") / col(\"total_g\"), 3)\n",
    ").withColumn(\n",
    "    \"avg_stl\",\n",
    "    round(col(\"total_stl\") / col(\"total_g\"), 3)\n",
    ").withColumn(\n",
    "    \"avg_blk\",\n",
    "    round(col(\"total_blk\") / col(\"total_g\"), 3)\n",
    ").withColumn(\n",
    "    \"avg_pf\",\n",
    "    round(col(\"total_pf\") / col(\"total_g\"), 3)\n",
    ").withColumn(\n",
    "    \"avg_tov\",\n",
    "    round(col(\"total_tov\") / col(\"total_g\"), 3)\n",
    ")\n",
    "\n",
    "# Calculate GmSc using the average columns\n",
    "c_all_star = c_all_star.withColumn(\n",
    "    \"GmSc\",\n",
    "    round(\n",
    "        col(\"avg_pts\") +\n",
    "        (0.4 * col(\"avg_fg\")) -\n",
    "        (0.7 * col(\"avg_fga\")) -\n",
    "        (0.4 * (col(\"avg_fta\") - col(\"avg_ft\"))) +\n",
    "        (0.7 * col(\"avg_orb\")) +\n",
    "        (0.3 * col(\"avg_drb\")) +\n",
    "        col(\"avg_stl\") +\n",
    "        (0.7 * col(\"avg_ast\")) +\n",
    "        (0.7 * col(\"avg_blk\")) -\n",
    "        (0.4 * col(\"avg_pf\")) -\n",
    "        col(\"avg_tov\"),\n",
    "        3\n",
    "    )\n",
    ")\n",
    "\n",
    "# Select the relevant columns for display\n",
    "c_all_star = c_all_star.select(\n",
    "    \"player\",\n",
    "    \"avg_pts\",\n",
    "    \"avg_fg\",\n",
    "    \"avg_ft\",\n",
    "    \"avg_trb\",\n",
    "    \"avg_ast\",\n",
    "    \"avg_stl\",\n",
    "    \"avg_blk\",\n",
    "    \"avg_pf\",\n",
    "    \"avg_tov\",\n",
    "    \"GmSc\"\n",
    ")\n",
    "\n",
    "# Sort by GmSc in descending order\n",
    "c_all_star = c_all_star.orderBy(\n",
    "    col(\"GmSc\").desc()\n",
    ")\n",
    "\n",
    "# Show the updated DataFrame\n",
    "c_all_star.show()"
   ]
  },
  {
   "cell_type": "markdown",
   "metadata": {
    "application/vnd.databricks.v1+cell": {
     "cellMetadata": {
      "byteLimit": 2048000,
      "rowLimit": 10000
     },
     "inputWidgets": {},
     "nuid": "42b9d24f-d4eb-4160-b55f-b2d3f94aeea3",
     "showTitle": false,
     "title": ""
    }
   },
   "source": [
    "<h3><b>All Time Most 3-Point</b></h3>"
   ]
  },
  {
   "cell_type": "code",
   "execution_count": 0,
   "metadata": {
    "application/vnd.databricks.v1+cell": {
     "cellMetadata": {
      "byteLimit": 2048000,
      "rowLimit": 10000
     },
     "collapsed": true,
     "inputWidgets": {},
     "nuid": "d7b2bd46-0a3a-4e32-8435-61688e48e9e4",
     "showTitle": false,
     "title": ""
    }
   },
   "outputs": [
    {
     "output_type": "stream",
     "name": "stdout",
     "output_type": "stream",
     "text": [
      "+-----------------+---------+----------+-------------+\n|           player|total_x3p|total_x3pa|3p_percentage|\n+-----------------+---------+----------+-------------+\n|    Stephen Curry|     3747|      8805|        0.426|\n|   Damian Lillard|     2607|      7032|        0.371|\n|       Kyle Lowry|     2299|      6257|        0.367|\n|       Jason Kidd|     2054|      5853|        0.351|\n| Chauncey Billups|     1985|      5077|        0.391|\n|      Mike Conley|     1938|      5006|        0.387|\n| D'Angelo Russell|     1815|      4882|        0.372|\n|     Tim Hardaway|     1803|      5078|        0.355|\n|       Mike Bibby|     1763|      4595|        0.384|\n|     Kyrie Irving|     1747|      4479|         0.39|\n|       Chris Paul|     1720|      4658|        0.369|\n|    D.J. Augustin|     1697|      4438|        0.382|\n|       Steve Nash|     1685|      3939|        0.428|\n|     Kemba Walker|     1670|      4642|         0.36|\n|      Baron Davis|     1531|      4752|        0.322|\n|     James Harden|     1379|      3848|        0.358|\n| Damon Stoudamire|     1377|      3917|        0.352|\n|   Deron Williams|     1368|      3847|        0.356|\n|Russell Westbrook|     1362|      4472|        0.305|\n|      Patty Mills|     1317|      3456|        0.381|\n+-----------------+---------+----------+-------------+\nonly showing top 20 rows\n\n"
     ]
    }
   ],
   "source": [
    "# Filter the DataFrame for PG (Point Guards)\n",
    "pg_filter = player_totals_df.filter(\n",
    "    col(\"pos\") == \"PG\"\n",
    ")\n",
    "\n",
    "# Calculate total statistics and total games per player\n",
    "pg_totals_3p = pg_filter.groupBy(\"player\").agg(\n",
    "    sum(\"x3p\").alias(\"total_x3p\"),\n",
    "    sum(\"x3pa\").alias(\"total_x3pa\"),\n",
    ")\n",
    "\n",
    "# Calculate average statistics per game\n",
    "pg_all_star_3p = pg_totals_3p.withColumn(\n",
    "    \"3p_percentage\",\n",
    "    round(col(\"total_x3p\") / col(\"total_x3pa\"), 3)\n",
    ")\n",
    "\n",
    "# Select the relevant columns for display\n",
    "pg_all_star_3p = pg_all_star_3p.select(\n",
    "    \"player\",\n",
    "    \"total_x3p\",\n",
    "    \"total_x3pa\",\n",
    "    \"3p_percentage\"\n",
    ")\n",
    "\n",
    "# Sort by GmSc in descending order\n",
    "pg_all_star_3p = pg_all_star_3p.orderBy(\n",
    "    col(\"total_x3p\").desc()\n",
    ")\n",
    "\n",
    "# Show the updated DataFrame\n",
    "pg_all_star_3p.show()"
   ]
  },
  {
   "cell_type": "code",
   "execution_count": 0,
   "metadata": {
    "application/vnd.databricks.v1+cell": {
     "cellMetadata": {
      "byteLimit": 2048000,
      "rowLimit": 10000
     },
     "collapsed": true,
     "inputWidgets": {},
     "nuid": "b4776828-b187-41a7-b00e-859b6faa3ce7",
     "showTitle": false,
     "title": ""
    }
   },
   "outputs": [
    {
     "output_type": "stream",
     "name": "stdout",
     "output_type": "stream",
     "text": [
      "+----------------+---------+----------+-------------+\n|          player|total_x3p|total_x3pa|3p_percentage|\n+----------------+---------+----------+-------------+\n|       Ray Allen|     3174|      7962|        0.399|\n|   Reggie Miller|     2560|      6486|        0.395|\n|   Klay Thompson|     2213|      5318|        0.416|\n|     J.J. Redick|     2143|      5235|        0.409|\n|     Eric Gordon|     2064|      5518|        0.374|\n|     Buddy Hield|     1909|      4869|        0.392|\n|  Jamal Crawford|     1881|      5385|        0.349|\n|      J.R. Smith|     1780|      4806|         0.37|\n|     CJ McCollum|     1761|      4464|        0.394|\n|    James Harden|     1709|      4682|        0.365|\n|Jason Richardson|     1683|      4549|         0.37|\n|Tim Hardaway Jr.|     1627|      4531|        0.359|\n|     Jason Terry|     1617|      4237|        0.382|\n|    Bradley Beal|     1615|      4305|        0.375|\n|     Joe Johnson|     1573|      4375|         0.36|\n|     Kobe Bryant|     1568|      4723|        0.332|\n| Jordan Clarkson|     1544|      4547|         0.34|\n|     Kyle Korver|     1535|      3484|        0.441|\n|    Vince Carter|     1507|      4158|        0.362|\n|   Manu Ginóbili|     1495|      4055|        0.369|\n+----------------+---------+----------+-------------+\nonly showing top 20 rows\n\n"
     ]
    }
   ],
   "source": [
    "# Filter the DataFrame for SG\n",
    "sg_filter = player_totals_df.filter(\n",
    "    col(\"pos\") == \"SG\"\n",
    ")\n",
    "\n",
    "# Calculate total statistics and total games per player\n",
    "sg_totals_3p = sg_filter.groupBy(\"player\").agg(\n",
    "    sum(\"x3p\").alias(\"total_x3p\"),\n",
    "    sum(\"x3pa\").alias(\"total_x3pa\"),\n",
    ")\n",
    "\n",
    "# Calculate average statistics per game\n",
    "sg_all_star_3p = sg_totals_3p.withColumn(\n",
    "    \"3p_percentage\",\n",
    "    round(col(\"total_x3p\") / col(\"total_x3pa\"), 3)\n",
    ")\n",
    "\n",
    "# Select the relevant columns for display\n",
    "sg_all_star_3p = sg_all_star_3p.select(\n",
    "    \"player\",\n",
    "    \"total_x3p\",\n",
    "    \"total_x3pa\",\n",
    "    \"3p_percentage\"\n",
    ")\n",
    "\n",
    "# Sort by GmSc in descending order\n",
    "sg_all_star_3p = sg_all_star_3p.orderBy(\n",
    "    col(\"total_x3p\").desc()\n",
    ")\n",
    "\n",
    "# Show the updated DataFrame\n",
    "sg_all_star_3p.show()"
   ]
  },
  {
   "cell_type": "code",
   "execution_count": 0,
   "metadata": {
    "application/vnd.databricks.v1+cell": {
     "cellMetadata": {
      "byteLimit": 2048000,
      "rowLimit": 10000
     },
     "collapsed": true,
     "inputWidgets": {},
     "nuid": "dfa09992-a067-4c3f-b540-5871c3fed461",
     "showTitle": false,
     "title": ""
    }
   },
   "outputs": [
    {
     "output_type": "stream",
     "name": "stdout",
     "output_type": "stream",
     "text": [
      "+-----------------+---------+----------+-------------+\n|           player|total_x3p|total_x3pa|3p_percentage|\n+-----------------+---------+----------+-------------+\n|  Peja Stojaković|     1979|      4932|        0.401|\n|     Trevor Ariza|     1833|      5236|         0.35|\n|      Paul George|     1630|      4216|        0.387|\n|      Paul Pierce|     1593|      4246|        0.375|\n|        Glen Rice|     1559|      3896|          0.4|\n|     Kevin Durant|     1416|      3646|        0.388|\n|     LeBron James|     1296|      3845|        0.337|\n|Metta World Peace|     1285|      3825|        0.336|\n|     Dennis Scott|     1251|      3165|        0.395|\n| Bojan Bogdanović|     1243|      3195|        0.389|\n|    Hedo Türkoğlu|     1205|      3149|        0.383|\n|  Khris Middleton|     1204|      3105|        0.388|\n|    Walt Williams|     1170|      3087|        0.379|\n|Richard Jefferson|     1155|      3038|         0.38|\n|    Nicolas Batum|     1130|      3089|        0.366|\n|     Chuck Person|     1125|      3094|        0.364|\n|    Kawhi Leonard|     1109|      2837|        0.391|\n|    Shane Battier|     1090|      2828|        0.385|\n|   Michael Finley|     1079|      2951|        0.366|\n|   Gordon Hayward|     1071|      2861|        0.374|\n+-----------------+---------+----------+-------------+\nonly showing top 20 rows\n\n"
     ]
    }
   ],
   "source": [
    "# Filter the DataFrame for SF\n",
    "sf_filter = player_totals_df.filter(\n",
    "    col(\"pos\") == \"SF\"\n",
    ")\n",
    "\n",
    "# Calculate total statistics and total games per player\n",
    "sf_totals_3p = sf_filter.groupBy(\"player\").agg(\n",
    "    sum(\"x3p\").alias(\"total_x3p\"),\n",
    "    sum(\"x3pa\").alias(\"total_x3pa\"),\n",
    ")\n",
    "\n",
    "# Calculate average statistics per game\n",
    "sf_all_star_3p = sf_totals_3p.withColumn(\n",
    "    \"3p_percentage\",\n",
    "    round(col(\"total_x3p\") / col(\"total_x3pa\"), 3)\n",
    ")\n",
    "\n",
    "# Select the relevant columns for display\n",
    "sf_all_star_3p = sf_all_star_3p.select(\n",
    "    \"player\",\n",
    "    \"total_x3p\",\n",
    "    \"total_x3pa\",\n",
    "    \"3p_percentage\"\n",
    ")\n",
    "\n",
    "# Sort by GmSc in descending order\n",
    "sf_all_star_3p = sf_all_star_3p.orderBy(\n",
    "    col(\"total_x3p\").desc()\n",
    ")\n",
    "\n",
    "# Show the updated DataFrame\n",
    "sf_all_star_3p.show()"
   ]
  },
  {
   "cell_type": "code",
   "execution_count": 0,
   "metadata": {
    "application/vnd.databricks.v1+cell": {
     "cellMetadata": {
      "byteLimit": 2048000,
      "rowLimit": 10000
     },
     "collapsed": true,
     "inputWidgets": {},
     "nuid": "dbddaba0-2ed1-4e76-bfe3-5d5ba9285619",
     "showTitle": false,
     "title": ""
    }
   },
   "outputs": [
    {
     "output_type": "stream",
     "name": "stdout",
     "output_type": "stream",
     "text": [
      "+-------------------+---------+----------+-------------+\n|             player|total_x3p|total_x3pa|3p_percentage|\n+-------------------+---------+----------+-------------+\n|      Dirk Nowitzki|     1606|      4233|        0.379|\n|      Tobias Harris|     1537|      4103|        0.375|\n|     Antoine Walker|     1496|      4605|        0.325|\n|         Kevin Love|     1423|      3945|        0.361|\n|      Ryan Anderson|     1333|      3526|        0.378|\n|     Ersan İlyasova|     1212|      3323|        0.365|\n|      Al Harrington|     1085|      2983|        0.364|\n|      Dāvis Bertāns|     1038|      2664|         0.39|\n|   Anthony Tolliver|      953|      2558|        0.373|\n|    Harrison Barnes|      943|      2488|        0.379|\n|      Marcus Morris|      895|      2348|        0.381|\n|Vladimir Radmanović|      889|      2398|        0.371|\n|     Antawn Jamison|      885|      2558|        0.346|\n|    Carmelo Anthony|      883|      2315|        0.381|\n|    Markieff Morris|      881|      2552|        0.345|\n|     Nikola Mirotić|      865|      2388|        0.362|\n|    Marvin Williams|      857|      2328|        0.368|\n|      Rashard Lewis|      832|      2066|        0.403|\n|Dorian Finney-Smith|      826|      2310|        0.358|\n|         Jeff Green|      816|      2394|        0.341|\n+-------------------+---------+----------+-------------+\nonly showing top 20 rows\n\n"
     ]
    }
   ],
   "source": [
    "# Filter the DataFrame for PF\n",
    "pf_filter = player_totals_df.filter(\n",
    "    col(\"pos\") == \"PF\"\n",
    ")\n",
    "\n",
    "# Calculate total statistics and total games per player\n",
    "pf_totals_3p = pf_filter.groupBy(\"player\").agg(\n",
    "    sum(\"x3p\").alias(\"total_x3p\"),\n",
    "    sum(\"x3pa\").alias(\"total_x3pa\"),\n",
    ")\n",
    "\n",
    "# Calculate average statistics per game\n",
    "pf_all_star_3p = pf_totals_3p.withColumn(\n",
    "    \"3p_percentage\",\n",
    "    round(col(\"total_x3p\") / col(\"total_x3pa\"), 3)\n",
    ")\n",
    "\n",
    "# Select the relevant columns for display\n",
    "pf_all_star_3p = pf_all_star_3p.select(\n",
    "    \"player\",\n",
    "    \"total_x3p\",\n",
    "    \"total_x3pa\",\n",
    "    \"3p_percentage\"\n",
    ")\n",
    "\n",
    "# Sort by GmSc in descending order\n",
    "pf_all_star_3p = pf_all_star_3p.orderBy(\n",
    "    col(\"total_x3p\").desc()\n",
    ")\n",
    "\n",
    "# Show the updated DataFrame\n",
    "pf_all_star_3p.show()"
   ]
  },
  {
   "cell_type": "code",
   "execution_count": 0,
   "metadata": {
    "application/vnd.databricks.v1+cell": {
     "cellMetadata": {
      "byteLimit": 2048000,
      "rowLimit": 10000
     },
     "collapsed": true,
     "inputWidgets": {},
     "nuid": "9f7df81b-0975-4e93-977f-d16e28b108a3",
     "showTitle": false,
     "title": ""
    }
   },
   "outputs": [
    {
     "output_type": "stream",
     "name": "stdout",
     "output_type": "stream",
     "text": [
      "+------------------+---------+----------+-------------+\n|            player|total_x3p|total_x3pa|3p_percentage|\n+------------------+---------+----------+-------------+\n|    Nikola Vučević|      945|      2696|        0.351|\n|       Brook Lopez|      936|      2682|        0.349|\n|        Al Horford|      862|      2275|        0.379|\n|Karl-Anthony Towns|      779|      1961|        0.397|\n|      Kelly Olynyk|      679|      1833|         0.37|\n|      Nikola Jokić|      676|      1933|         0.35|\n|  DeMarcus Cousins|      641|      1908|        0.336|\n|      Myles Turner|      600|      1694|        0.354|\n|        Marc Gasol|      530|      1470|        0.361|\n|      Mike Muscala|      530|      1412|        0.375|\n|       Joel Embiid|      509|      1491|        0.341|\n|Kristaps Porziņģis|      486|      1310|        0.371|\n|     Channing Frye|      468|      1169|          0.4|\n|       Mehmet Okur|      460|      1196|        0.385|\n|   Rasheed Wallace|      433|      1289|        0.336|\n|          Naz Reid|      394|      1062|        0.371|\n|     Raef LaFrentz|      386|      1049|        0.368|\n| Jaren Jackson Jr.|      379|      1076|        0.352|\n|     Dirk Nowitzki|      376|       977|        0.385|\n|     Spencer Hawes|      369|       975|        0.378|\n+------------------+---------+----------+-------------+\nonly showing top 20 rows\n\n"
     ]
    }
   ],
   "source": [
    "# Filter the DataFrame for C\n",
    "c_filter = player_totals_df.filter(\n",
    "    col(\"pos\") == \"C\"\n",
    ")\n",
    "\n",
    "# Calculate total statistics and total games per player\n",
    "c_totals_3p = c_filter.groupBy(\"player\").agg(\n",
    "    sum(\"x3p\").alias(\"total_x3p\"),\n",
    "    sum(\"x3pa\").alias(\"total_x3pa\"),\n",
    ")\n",
    "\n",
    "# Calculate average statistics per game\n",
    "c_all_star_3p = c_totals_3p.withColumn(\n",
    "    \"3p_percentage\",\n",
    "    round(col(\"total_x3p\") / col(\"total_x3pa\"), 3)\n",
    ")\n",
    "\n",
    "# Select the relevant columns for display\n",
    "c_all_star_3p = c_all_star_3p.select(\n",
    "    \"player\",\n",
    "    \"total_x3p\",\n",
    "    \"total_x3pa\",\n",
    "    \"3p_percentage\"\n",
    ")\n",
    "\n",
    "# Sort by GmSc in descending order\n",
    "c_all_star_3p = c_all_star_3p.orderBy(\n",
    "    col(\"total_x3p\").desc()\n",
    ")\n",
    "\n",
    "# Show the updated DataFrame\n",
    "c_all_star_3p.show()"
   ]
  },
  {
   "cell_type": "markdown",
   "metadata": {
    "application/vnd.databricks.v1+cell": {
     "cellMetadata": {
      "byteLimit": 2048000,
      "rowLimit": 10000
     },
     "inputWidgets": {},
     "nuid": "38821137-ec6f-47c9-8940-94bf9844b520",
     "showTitle": false,
     "title": ""
    }
   },
   "source": [
    "<h3><b>All Time Defense</b></h3>"
   ]
  },
  {
   "cell_type": "code",
   "execution_count": 0,
   "metadata": {
    "application/vnd.databricks.v1+cell": {
     "cellMetadata": {
      "byteLimit": 2048000,
      "rowLimit": 10000
     },
     "collapsed": true,
     "inputWidgets": {},
     "nuid": "0887fe62-8724-47c7-a1fa-475ceac31b8b",
     "showTitle": false,
     "title": ""
    }
   },
   "outputs": [
    {
     "output_type": "stream",
     "name": "stdout",
     "output_type": "stream",
     "text": [
      "+-------+------+--------------------+---------+-----+---+------+\n|seas_id|season|              player|player_id|award|pos|winner|\n+-------+------+--------------------+---------+-----+---+------+\n|  31747|  2024|         Rudy Gobert|     4199| dpoy|  C|  true|\n|  30733|  2023|   Jaren Jackson Jr.|     4632| dpoy|  C|  true|\n|  30183|  2022|        Marcus Smart|     4275| dpoy| PG|  true|\n|  29529|  2021|         Rudy Gobert|     4199| dpoy|  C|  true|\n|  28507|  2020|Giannis Antetokou...|     4164| dpoy| PF|  true|\n|  28147|  2019|         Rudy Gobert|     4199| dpoy|  C|  true|\n|  27467|  2018|         Rudy Gobert|     4199| dpoy|  C|  true|\n|  26494|  2017|      Draymond Green|     4085| dpoy| PF|  true|\n|  26060|  2016|       Kawhi Leonard|     4032| dpoy| SF|  true|\n|  25447|  2015|       Kawhi Leonard|     4032| dpoy| SF|  true|\n|  24779|  2014|         Joakim Noah|     3763| dpoy|  C|  true|\n|  24297|  2013|          Marc Gasol|     3835| dpoy|  C|  true|\n|  23892|  2012|      Tyson Chandler|     3360| dpoy|  C|  true|\n|  22919|  2011|       Dwight Howard|     3520| dpoy|  C|  true|\n|  22328|  2010|       Dwight Howard|     3520| dpoy|  C|  true|\n|  21759|  2009|       Dwight Howard|     3520| dpoy|  C|  true|\n|  21291|  2008|       Kevin Garnett|     2936| dpoy| PF|  true|\n|  20786|  2007|        Marcus Camby|     3004| dpoy|  C|  true|\n|  19951|  2006|         Ben Wallace|     2971| dpoy|  C|  true|\n|  19367|  2005|         Ben Wallace|     2971| dpoy|  C|  true|\n+-------+------+--------------------+---------+-----+---+------+\nonly showing top 20 rows\n\n"
     ]
    }
   ],
   "source": [
    "# Alias for player_award_shares_df with winner filter\n",
    "player_award_shares_alias = player_award_shares_df.select(\n",
    "    col(\"season\").alias(\"season_award\"),\n",
    "    col(\"award\"),\n",
    "    col(\"player\").alias(\"award_player\"),\n",
    "    col(\"player_id\").alias(\"award_player_id\"),\n",
    "    col(\"seas_id\").alias(\"award_seas_id\"),\n",
    "    col(\"winner\")\n",
    ").filter((col(\"winner\") == True) & (col(\"award\") == \"dpoy\"))  # Filter only rows with winner == true\n",
    "\n",
    "# Join both DataFrames based on seas_id and player_id\n",
    "award_position = player_award_shares_alias.join(\n",
    "    player_totals_df,\n",
    "    (player_award_shares_alias.award_player_id == player_totals_df.player_id) &\n",
    "    (player_award_shares_alias.award_seas_id == player_totals_df.seas_id),\n",
    "    \"inner\"  # You can use \"left\" if you want all rows from player_award_shares_df\n",
    ")\n",
    "\n",
    "# Select the required columns\n",
    "award_position = award_position.select(\n",
    "    col(\"award_seas_id\").alias(\"seas_id\"),\n",
    "    col(\"season\").alias(\"season\"),\n",
    "    col(\"award_player\").alias(\"player\"),\n",
    "    col(\"award_player_id\").alias(\"player_id\"),\n",
    "    col(\"award\"),\n",
    "    col(\"pos\"),\n",
    "    col(\"winner\")\n",
    ")\n",
    "\n",
    "# Display the result\n",
    "award_position.show()"
   ]
  },
  {
   "cell_type": "code",
   "execution_count": 0,
   "metadata": {
    "application/vnd.databricks.v1+cell": {
     "cellMetadata": {
      "byteLimit": 2048000,
      "rowLimit": 10000
     },
     "collapsed": true,
     "inputWidgets": {},
     "nuid": "8ec44d44-4473-4cce-a157-48db0e80ec4a",
     "showTitle": false,
     "title": ""
    }
   },
   "outputs": [
    {
     "output_type": "stream",
     "name": "stdout",
     "output_type": "stream",
     "text": [
      "+--------------------+---------+---+----------+\n|              player|player_id|pos|dpoy_count|\n+--------------------+---------+---+----------+\n|      David Robinson|     2494|  C|         1|\n|      Draymond Green|     4085| PF|         1|\n|          Marc Gasol|     3835|  C|         1|\n|          Mark Eaton|     2081|  C|         2|\n|         Joakim Noah|     3763|  C|         1|\n|   Jaren Jackson Jr.|     4632|  C|         1|\n|Giannis Antetokou...|     4164| PF|         1|\n|        Marcus Camby|     3004|  C|         1|\n|   Metta World Peace|     3205| SF|         1|\n|      Michael Cooper|     1823| SG|         1|\n|     Alonzo Mourning|     2696|  C|         2|\n|     Hakeem Olajuwon|     2176|  C|         2|\n|       Kawhi Leonard|     4032| SF|         2|\n|      Tyson Chandler|     3360|  C|         1|\n|       Dennis Rodman|     2301| SF|         2|\n|         Gary Payton|     2585| PG|         1|\n|       Dwight Howard|     3520|  C|         3|\n|      Michael Jordan|     2193| SG|         1|\n|         Ben Wallace|     2971|  C|         4|\n|     Alvin Robertson|     2158| SG|         1|\n+--------------------+---------+---+----------+\nonly showing top 20 rows\n\n"
     ]
    }
   ],
   "source": [
    "# Create a new DataFrame to count the occurrences of each player and their positions in award_position\n",
    "player_dpoy_award_count = award_position.groupBy(\"player\", \"player_id\", \"pos\").count()\n",
    "\n",
    "# Select and rename the columns as needed\n",
    "player_dpoy_award_count = player_dpoy_award_count.select(\n",
    "    col(\"player\"),\n",
    "    col(\"player_id\"),\n",
    "    col(\"pos\"),\n",
    "    col(\"count\").alias(\"dpoy_count\")\n",
    ")\n",
    "\n",
    "# Display the result\n",
    "player_dpoy_award_count.show()"
   ]
  },
  {
   "cell_type": "code",
   "execution_count": 0,
   "metadata": {
    "application/vnd.databricks.v1+cell": {
     "cellMetadata": {
      "byteLimit": 2048000,
      "rowLimit": 10000
     },
     "collapsed": true,
     "inputWidgets": {},
     "nuid": "23274778-ae09-44a8-b174-2f37f2c28f9c",
     "showTitle": false,
     "title": ""
    }
   },
   "outputs": [
    {
     "output_type": "stream",
     "name": "stdout",
     "output_type": "stream",
     "text": [
      "+------------+---------+---+----------+\n|      player|player_id|pos|dpoy_count|\n+------------+---------+---+----------+\n| Gary Payton|     2585| PG|         1|\n|Marcus Smart|     4275| PG|         1|\n+------------+---------+---+----------+\n\n"
     ]
    }
   ],
   "source": [
    "# PG dpoy filter\n",
    "pg_dpoy_award_count = player_dpoy_award_count.filter(\n",
    "    col(\"pos\") == \"PG\"\n",
    ").orderBy(col(\"dpoy_count\").desc())\n",
    "\n",
    "pg_dpoy_award_count.show()"
   ]
  },
  {
   "cell_type": "code",
   "execution_count": 0,
   "metadata": {
    "application/vnd.databricks.v1+cell": {
     "cellMetadata": {
      "byteLimit": 2048000,
      "rowLimit": 10000
     },
     "collapsed": true,
     "inputWidgets": {},
     "nuid": "50dc19c3-39af-4d67-a39e-1de5098646e8",
     "showTitle": false,
     "title": ""
    }
   },
   "outputs": [
    {
     "output_type": "stream",
     "name": "stdout",
     "output_type": "stream",
     "text": [
      "+---------------+---------+---+----------+\n|         player|player_id|pos|dpoy_count|\n+---------------+---------+---+----------+\n|Sidney Moncrief|     1889| SG|         2|\n| Michael Cooper|     1823| SG|         1|\n| Michael Jordan|     2193| SG|         1|\n|Alvin Robertson|     2158| SG|         1|\n+---------------+---------+---+----------+\n\n"
     ]
    }
   ],
   "source": [
    "# SG dpoy filter\n",
    "pg_dpoy_award_count = player_dpoy_award_count.filter(\n",
    "    col(\"pos\") == \"SG\"\n",
    ").orderBy(col(\"dpoy_count\").desc())\n",
    "\n",
    "pg_dpoy_award_count.show()"
   ]
  },
  {
   "cell_type": "code",
   "execution_count": 0,
   "metadata": {
    "application/vnd.databricks.v1+cell": {
     "cellMetadata": {
      "byteLimit": 2048000,
      "rowLimit": 10000
     },
     "collapsed": true,
     "inputWidgets": {},
     "nuid": "deaac65e-ab76-4908-b18d-aa67508ff64d",
     "showTitle": false,
     "title": ""
    }
   },
   "outputs": [
    {
     "output_type": "stream",
     "name": "stdout",
     "output_type": "stream",
     "text": [
      "+-----------------+---------+---+----------+\n|           player|player_id|pos|dpoy_count|\n+-----------------+---------+---+----------+\n|    Kawhi Leonard|     4032| SF|         2|\n|    Dennis Rodman|     2301| SF|         2|\n|Metta World Peace|     3205| SF|         1|\n+-----------------+---------+---+----------+\n\n"
     ]
    }
   ],
   "source": [
    "# SF dpoy filter\n",
    "pg_dpoy_award_count = player_dpoy_award_count.filter(\n",
    "    col(\"pos\") == \"SF\"\n",
    ").orderBy(col(\"dpoy_count\").desc())\n",
    "\n",
    "pg_dpoy_award_count.show()"
   ]
  },
  {
   "cell_type": "code",
   "execution_count": 0,
   "metadata": {
    "application/vnd.databricks.v1+cell": {
     "cellMetadata": {
      "byteLimit": 2048000,
      "rowLimit": 10000
     },
     "collapsed": true,
     "inputWidgets": {},
     "nuid": "c12ca9f1-50ff-42f2-b992-459b7f7b1270",
     "showTitle": false,
     "title": ""
    }
   },
   "outputs": [
    {
     "output_type": "stream",
     "name": "stdout",
     "output_type": "stream",
     "text": [
      "+--------------------+---------+---+----------+\n|              player|player_id|pos|dpoy_count|\n+--------------------+---------+---+----------+\n|      Draymond Green|     4085| PF|         1|\n|Giannis Antetokou...|     4164| PF|         1|\n|       Kevin Garnett|     2936| PF|         1|\n+--------------------+---------+---+----------+\n\n"
     ]
    }
   ],
   "source": [
    "# PF dpoy filter\n",
    "pg_dpoy_award_count = player_dpoy_award_count.filter(\n",
    "    col(\"pos\") == \"PF\"\n",
    ").orderBy(col(\"dpoy_count\").desc())\n",
    "\n",
    "pg_dpoy_award_count.show()"
   ]
  },
  {
   "cell_type": "code",
   "execution_count": 0,
   "metadata": {
    "application/vnd.databricks.v1+cell": {
     "cellMetadata": {
      "byteLimit": 2048000,
      "rowLimit": 10000
     },
     "collapsed": true,
     "inputWidgets": {},
     "nuid": "e7727a5d-a425-4ddb-b8dc-936e2f03a498",
     "showTitle": false,
     "title": ""
    }
   },
   "outputs": [
    {
     "output_type": "stream",
     "name": "stdout",
     "output_type": "stream",
     "text": [
      "+-----------------+---------+---+----------+\n|           player|player_id|pos|dpoy_count|\n+-----------------+---------+---+----------+\n|      Ben Wallace|     2971|  C|         4|\n|      Rudy Gobert|     4199|  C|         4|\n|  Dikembe Mutombo|     2648|  C|         4|\n|    Dwight Howard|     3520|  C|         3|\n|       Mark Eaton|     2081|  C|         2|\n|  Alonzo Mourning|     2696|  C|         2|\n|  Hakeem Olajuwon|     2176|  C|         2|\n|   David Robinson|     2494|  C|         1|\n|       Marc Gasol|     3835|  C|         1|\n|      Joakim Noah|     3763|  C|         1|\n|Jaren Jackson Jr.|     4632|  C|         1|\n|     Marcus Camby|     3004|  C|         1|\n|   Tyson Chandler|     3360|  C|         1|\n+-----------------+---------+---+----------+\n\n"
     ]
    }
   ],
   "source": [
    "# C dpoy filter\n",
    "pg_dpoy_award_count = player_dpoy_award_count.filter(\n",
    "    col(\"pos\") == \"C\"\n",
    ").orderBy(col(\"dpoy_count\").desc())\n",
    "\n",
    "pg_dpoy_award_count.show()"
   ]
  },
  {
   "cell_type": "markdown",
   "metadata": {
    "application/vnd.databricks.v1+cell": {
     "cellMetadata": {
      "byteLimit": 2048000,
      "rowLimit": 10000
     },
     "inputWidgets": {},
     "nuid": "610d25c3-1167-4c9b-a340-7b03bce32413",
     "showTitle": false,
     "title": ""
    }
   },
   "source": [
    "<h1>Visualization<h1>"
   ]
  },
  {
   "cell_type": "markdown",
   "metadata": {
    "application/vnd.databricks.v1+cell": {
     "cellMetadata": {
      "byteLimit": 2048000,
      "rowLimit": 10000
     },
     "inputWidgets": {},
     "nuid": "b10cbd81-ddc9-40ea-9b7a-694c54074c44",
     "showTitle": false,
     "title": ""
    }
   },
   "source": [
    "<h3>Awards Nomination Comparisson Lebron, Kobe, Jordan<h3>"
   ]
  },
  {
   "cell_type": "code",
   "execution_count": 0,
   "metadata": {
    "application/vnd.databricks.v1+cell": {
     "cellMetadata": {
      "byteLimit": 2048000,
      "rowLimit": 10000
     },
     "collapsed": true,
     "inputWidgets": {},
     "nuid": "bb5bd423-b49e-4298-b6b8-31a894e8a584",
     "showTitle": false,
     "title": ""
    }
   },
   "outputs": [
    {
     "output_type": "stream",
     "name": "stdout",
     "output_type": "stream",
     "text": [
      "+-------+-----+------+\n|  award|count|player|\n+-------+-----+------+\n|nba mvp|    4|LeBron|\n|nba roy|    1|LeBron|\n|nba mvp|    1|  Kobe|\n|nba mvp|    5|Jordan|\n|nba roy|    1|Jordan|\n|   dpoy|    1|Jordan|\n+-------+-----+------+\n\n"
     ]
    },
    {
     "output_type": "display_data",
     "data": {
      "image/png": "[encoded data removed]"
     },
     "metadata": {
      "application/vnd.databricks.v1+output": {
       "addedWidgets": {},
       "arguments": {},
       "data": "data:image/png;base64,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\n",
       "datasetInfos": [],
       "metadata": {},
       "removedWidgets": [],
       "type": "image"
      }
     },
     "output_type": "display_data"
    }
   ],
   "source": [
    "# Combine DataFrames by adding a player column\n",
    "lebron_awards_count = lebron_awards_count.withColumn(\"player\", lit(\"LeBron\"))\n",
    "kobe_awards_count = kobe_awards_count.withColumn(\"player\", lit(\"Kobe\"))\n",
    "jordan_awards_count = jordan_awards_count.withColumn(\"player\", lit(\"Jordan\"))\n",
    "\n",
    "# Union the three DataFrames\n",
    "combined_awards_count = lebron_awards_count.union(kobe_awards_count).union(jordan_awards_count)\n",
    "\n",
    "# Show the combined result\n",
    "combined_awards_count.show()\n",
    "\n",
    "# Convert PySpark DataFrame to Pandas DataFrame\n",
    "combined_awards_count_pd = combined_awards_count.toPandas()\n",
    "\n",
    "# Create a color palette for specific players\n",
    "palette = {\n",
    "    \"LeBron\": \"#000000\",    # Black\n",
    "    \"Jordan\": \"#CE1141\",    # Red\n",
    "    \"Kobe\": \"#552583\"       # Purple\n",
    "}\n",
    "\n",
    "# Create visualization using Seaborn\n",
    "plt.figure(figsize=(12, 6))\n",
    "ax = sns.barplot(data=combined_awards_count_pd, x=\"award\", y=\"count\", hue=\"player\", palette=palette)\n",
    "plt.title(\"Comparison of Awards Count Among LeBron, Kobe, and Jordan\")\n",
    "plt.xlabel(\"Award\")\n",
    "plt.ylabel(\"Count\")\n",
    "plt.legend(title=\"Player\")\n",
    "\n",
    "# Add annotation for each bar\n",
    "for p in ax.patches:\n",
    "    height = p.get_height()\n",
    "    ax.annotate(f'{height:.0f}', \n",
    "                (p.get_x() + p.get_width() / 2., height), \n",
    "                ha='center', va='center', \n",
    "                xytext=(0, 9), \n",
    "                textcoords='offset points')\n",
    "\n",
    "# Display the plot\n",
    "plt.show()"
   ]
  },
  {
   "cell_type": "markdown",
   "metadata": {
    "application/vnd.databricks.v1+cell": {
     "cellMetadata": {
      "byteLimit": 2048000,
      "rowLimit": 10000
     },
     "inputWidgets": {},
     "nuid": "7b954ddf-4aaf-4bec-98c9-ea0e8bf915f7",
     "showTitle": false,
     "title": ""
    }
   },
   "source": [
    "<h3>Awards Comparisson Lebron, Kobe, Jordan<h3>"
   ]
  },
  {
   "cell_type": "code",
   "execution_count": 0,
   "metadata": {
    "application/vnd.databricks.v1+cell": {
     "cellMetadata": {
      "byteLimit": 2048000,
      "rowLimit": 10000
     },
     "collapsed": true,
     "inputWidgets": {},
     "nuid": "e48780d7-049f-4858-9024-c4fe6a429bb3",
     "showTitle": false,
     "title": ""
    }
   },
   "outputs": [
    {
     "output_type": "stream",
     "name": "stdout",
     "output_type": "stream",
     "text": [
      "+-------+-----+------+\n|  award|count|player|\n+-------+-----+------+\n|nba mvp|    4|LeBron|\n|nba roy|    1|LeBron|\n|nba mvp|    1|  Kobe|\n|nba mvp|    5|Jordan|\n|nba roy|    1|Jordan|\n|   dpoy|    1|Jordan|\n+-------+-----+------+\n\n"
     ]
    },
    {
     "output_type": "display_data",
     "data": {
      "image/png": "[encoded data removed]"
     },
     "metadata": {
      "application/vnd.databricks.v1+output": {
       "addedWidgets": {},
       "arguments": {},
       "data": "data:image/png;base64,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\n",
       "datasetInfos": [],
       "metadata": {},
       "removedWidgets": [],
       "type": "image"
      }
     },
     "output_type": "display_data"
    }
   ],
   "source": [
    "# Combine DataFrames by adding a player column\n",
    "lebron_awards_count = lebron_awards_count.withColumn(\"player\", lit(\"LeBron\"))\n",
    "kobe_awards_count = kobe_awards_count.withColumn(\"player\", lit(\"Kobe\"))\n",
    "jordan_awards_count = jordan_awards_count.withColumn(\"player\", lit(\"Jordan\"))\n",
    "\n",
    "# Union the three DataFrames\n",
    "combined_awards_count = lebron_awards_count.union(kobe_awards_count).union(jordan_awards_count)\n",
    "\n",
    "# Show the combined result\n",
    "combined_awards_count.show()\n",
    "\n",
    "# Convert PySpark DataFrame to Pandas DataFrame\n",
    "combined_awards_count_pd = combined_awards_count.toPandas()\n",
    "\n",
    "# Create a color palette for specific players\n",
    "palette = {\n",
    "    \"LeBron\": \"#000000\",    # Black\n",
    "    \"Jordan\": \"#CE1141\",    # Red\n",
    "    \"Kobe\": \"#552583\"       # Purple\n",
    "}\n",
    "\n",
    "# Create visualization using Seaborn\n",
    "plt.figure(figsize=(12, 6))\n",
    "barplot = sns.barplot(data=combined_awards_count_pd, x=\"award\", y=\"count\", hue=\"player\", palette=palette)\n",
    "\n",
    "# Add annotation\n",
    "for p in barplot.patches:\n",
    "    barplot.annotate(format(p.get_height(), '.0f'),  # Format as integer\n",
    "                     (p.get_x() + p.get_width() / 2., p.get_height()), \n",
    "                     ha = 'center', va = 'center', \n",
    "                     xytext = (0, 9), \n",
    "                     textcoords = 'offset points')\n",
    "\n",
    "plt.title(\"Comparison of Awards Count Among LeBron, Kobe, and Jordan\")\n",
    "plt.xlabel(\"Award\")\n",
    "plt.ylabel(\"Count\")\n",
    "plt.legend(title=\"Player\")\n",
    "plt.show()"
   ]
  },
  {
   "cell_type": "markdown",
   "metadata": {
    "application/vnd.databricks.v1+cell": {
     "cellMetadata": {
      "byteLimit": 2048000,
      "rowLimit": 10000
     },
     "inputWidgets": {},
     "nuid": "d615659d-1dee-4e6f-bc5f-a65affafec14",
     "showTitle": false,
     "title": ""
    }
   },
   "source": [
    "<h3>All Star Selection Comparisson Lebron, Kobe, Jordan<h3>"
   ]
  },
  {
   "cell_type": "code",
   "execution_count": 0,
   "metadata": {
    "application/vnd.databricks.v1+cell": {
     "cellMetadata": {
      "byteLimit": 2048000,
      "rowLimit": 10000
     },
     "collapsed": true,
     "inputWidgets": {},
     "nuid": "95a008f8-e545-439b-b5fb-c39f02dba1ad",
     "showTitle": false,
     "title": ""
    }
   },
   "outputs": [
    {
     "output_type": "stream",
     "name": "stdout",
     "output_type": "stream",
     "text": [
      "           player  all_star_selections\n0    LeBron James                   20\n1     Kobe Bryant                   18\n2  Michael Jordan                   14\n"
     ]
    },
    {
     "output_type": "display_data",
     "data": {
      "image/png": "[encoded data removed]"
     },
     "metadata": {
      "application/vnd.databricks.v1+output": {
       "addedWidgets": {},
       "arguments": {},
       "data": "data:image/png;base64,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\n",
       "datasetInfos": [],
       "metadata": {},
       "removedWidgets": [],
       "type": "image"
      }
     },
     "output_type": "display_data"
    }
   ],
   "source": [
    "# Data for visualization\n",
    "data = {\n",
    "    \"player\": [\"LeBron James\", \"Kobe Bryant\", \"Michael Jordan\"],\n",
    "    \"all_star_selections\": [\n",
    "        lebron_all_star_selection,\n",
    "        kobe_all_star_selection,\n",
    "        jordan_all_star_selection\n",
    "    ]\n",
    "}\n",
    "\n",
    "# Create a Pandas DataFrame\n",
    "all_star_selections_df = pd.DataFrame(data)\n",
    "\n",
    "# Display the DataFrame (optional, for checking the data)\n",
    "print(all_star_selections_df)\n",
    "\n",
    "# Create visualization using Seaborn\n",
    "plt.figure(figsize=(10, 6))\n",
    "barplot = sns.barplot(data=all_star_selections_df, x=\"player\", y=\"all_star_selections\", palette={\"LeBron James\": \"#000000\", \"Kobe Bryant\": \"#552583\", \"Michael Jordan\": \"#CE1141\"})\n",
    "\n",
    "# Add annotation\n",
    "for p in barplot.patches:\n",
    "    barplot.annotate(format(p.get_height(), '.0f'),  # Format as integer\n",
    "                     (p.get_x() + p.get_width() / 2., p.get_height()), \n",
    "                     ha = 'center', va = 'center', \n",
    "                     xytext = (0, 9), \n",
    "                     textcoords = 'offset points')\n",
    "\n",
    "plt.title(\"All-Star Selections Comparison\")\n",
    "plt.xlabel(\"Player\")\n",
    "plt.ylabel(\"Number of Selections\")\n",
    "plt.xticks(rotation=45)  # Rotate x-axis labels for better readability\n",
    "plt.show()"
   ]
  },
  {
   "cell_type": "markdown",
   "metadata": {
    "application/vnd.databricks.v1+cell": {
     "cellMetadata": {
      "byteLimit": 2048000,
      "rowLimit": 10000
     },
     "inputWidgets": {},
     "nuid": "667aac22-15c3-486d-a54b-b973fd40c804",
     "showTitle": false,
     "title": ""
    }
   },
   "source": [
    "<h3>Team End of Season Selection Comparisson Lebron, Kobe, Jordan<h3>"
   ]
  },
  {
   "cell_type": "code",
   "execution_count": 0,
   "metadata": {
    "application/vnd.databricks.v1+cell": {
     "cellMetadata": {
      "byteLimit": 2048000,
      "rowLimit": 10000
     },
     "collapsed": true,
     "inputWidgets": {},
     "nuid": "e18fab99-195f-4278-b319-73f9769dff74",
     "showTitle": false,
     "title": ""
    }
   },
   "outputs": [
    {
     "output_type": "stream",
     "name": "stdout",
     "output_type": "stream",
     "text": [
      "           type number_tm  count          player\n0   All-Defense       2nd      1    LeBron James\n1       All-NBA       3rd      4    LeBron James\n2   All-Defense       1st      5    LeBron James\n3    All-Rookie       1st      1    LeBron James\n4       All-NBA       1st     13    LeBron James\n5       All-NBA       2nd      3    LeBron James\n6   All-Defense       2nd      3     Kobe Bryant\n7       All-NBA       3rd      2     Kobe Bryant\n8   All-Defense       1st      9     Kobe Bryant\n9    All-Rookie       2nd      1     Kobe Bryant\n10      All-NBA       1st     11     Kobe Bryant\n11      All-NBA       2nd      2     Kobe Bryant\n12  All-Defense       1st      9  Michael Jordan\n13   All-Rookie       1st      1  Michael Jordan\n14      All-NBA       1st     10  Michael Jordan\n15      All-NBA       2nd      1  Michael Jordan\n"
     ]
    },
    {
     "output_type": "display_data",
     "data": {
      "image/png": "[encoded data removed]"
     },
     "metadata": {
      "application/vnd.databricks.v1+output": {
       "addedWidgets": {},
       "arguments": {},
       "data": "data:image/png;base64,iVBORw0KGgoAAAANSUhEUgAAAscAAAGOCAYAAAB7Sa4XAAAAOXRFWHRTb2Z0d2FyZQBNYXRwbG90bGliIHZlcnNpb24zLjUuMSwgaHR0cHM6Ly9tYXRwbG90bGliLm9yZy/YYfK9AAAACXBIWXMAAAsTAAALEwEAmpwYAAAx/ElEQVR4nO3deZhU1Z3/8feXRVFAMYoZAkbIgiDd0AiIiiiGETWjjktc0Yi4RE1ciMY1EcdM8mSS/IyMceJoHBkTlLhrXMmC4s4mKEoYNWkVokiIGyqBhvP7ow5tgU3T0F0U3bxfz1MPt+65de/33qqiP3Xq3FuRUkKSJEkStCp3AZIkSdKmwnAsSZIkZYZjSZIkKTMcS5IkSZnhWJIkScoMx5IkSVJmOJZaqIi4IiJ+vYGPHRIRL0fEkog4rIlLkzZJETEqIp4oup8i4ksl3N5WEfHbiHgvIm4v1XYkrR/DsbQJiYjqiPg4h9JVt5+XoZQrgZ+nlDqklO5ZszEi9o6Ip/If9b9HxJMRMWjjl7l+IuLSouO6NCJWFN1/scy1jcph7Jhy1rE5yB8cU0QMbsQ6hkXEyqLXz/yIuG093wdfAz4LbJ9SOmpDa5HUtAzH0qbnkBxKV92+VYYadgbqDIsRsQ1wP3AN8BmgK/BvwD82WnUbKKX0w1XHFTgDeLroOPcpc3knAX8Hvl7mOuoUEW3KXUNTiIigcIyb4lj/Nb+WOgJ7AH8CHo+I4Q18/M7A/6WUahpZh6QmZDiWmolVX/lGxE8j4p2I+EtEHFTU3iMiHouIDyLid8AO61jfaRHxSu75vS8iPpfnvwp8Afht7hHbco2H9gRIKd2aUlqRUvo4pTQppfR80bpHR8TcXOcjEbFzUdu4iHgjIt6PiBkRMbSobfeImJ7bFkbEVUVth0bEixHxbkQ8GhG9i9qqI+KCiHg+92b/JiLarefx7RURv8vHY15EHF3U9i8R8Vyu642IuKKorXvuhTw5t70TEWdExKBcz7vr6v3Px2df4HTggIj4p6K2YblX8tKI+Fve15FF7eMj4rpc+wf5NVB8vBu7X6dExOvAH/P82yPirXycp0REnzVquTYiHsi1PBsRXyxq71NUy8KIuDTPbxURF0fEqxGxOPfAfia3tYuIX+f570bEtIj4bMOe1ToNBboA5wDHRsQWjVgXAKlgfkrpcuCXwH+salvb8Y+IfwMuB47J77NT8vz63jspv7Zezsfi2oiI3Pal/Ny/l18nv1lXDZLWIqXkzZu3TeQGVAP/vJa2UcBy4DSgNXAm8FcgcvvTwFXAlsA+wAfAr9eyrq8AfwN2y8tfA0xpYB3bAIuB/wUOArZbo/1fgVeA3kAb4LvAU0XtJwDb57bzgbeAdkX7cGKe7gDskad7Ah8C+wNtgQvzNrYoqncq8DkKvdlzgTPWcaxHAU/k6fbAG8DJua7++fjsmtuHAZUUOhT6AguBw3JbdyAB1wHtgBHAUuAeYEcKPetvA/vWU8v3gKl5+gXg/KK2YUBN0XO7bz4Wu+T28fm53ie3j2vi/bo5r2erPH80hZ7SLYGrgVlFtY6n8NrYPW9vAjAxt3UE3szPebt8f3BuOxd4BuiW1/vfwK257RvAb4GtKbzuBwDbNOI9diNwG4XX0WLgyLpeE/l+Ar60lvUMA+av5b21Mh+zdR3/Kyh6j7Lu906i8K1NJ+DzwCLgwNx2K3BZfi7bAXs35DXgzZu3T9/KXoA3b94+uVEIeUuAd4tup+W2UcArRctunf9Y/lP+Q1kDtC9qv4W1h+MbgR8X3e9AIXh3L6qjznCc23vnIDQ/b/c+4LO57SHglKJlWwEfATuvZV3vAP3y9BQKQzR2WGOZ7wG3rbHOBcCwonpPKGr/MXDdOo51bRACjgEeX6P9v4Gxa3ns1cDP8nT3/Dx0LWpfDBxTdP9O4Lx6anl5VTtwCTC7qG1YHc/tbcD38vR4cgAtei5XADs10X59oZ66O+Vlti2q5ZdF7V8F/pSnjwOeW8t65gLDi+53ya/HNhTC+FNA3yZ4f20NvM8nHwD+G7i3rtdEvr8h4bjXqtfDuo4/nw7H9b538nr3XuN1cHGevhm4Hui2xvbW6zXgzZu35LAKaRN0WEqpU9HthqK2t1ZNpJQ+ypMdKPSYvpNS+rBo2dfq2cbnittTSksoBLquDSkwpTQ3pTQqpdQNqMjruzo37wyMy1/7vkthbGesWnce/jA3f/37LrAtnwwBOYVCL/Gf8tfnB6+l3pUUesOK632raPojCseloXYGBq+qOdc1ksIHDyJicERMjohFEfEehfHKaw5bWVg0/XEd9+usJyKGAD2AiXnWLUBlRFQVLVbXc/u5ovtvrJrIz+Xfc3tT7FftuiOidUT8KA9/eJ/ChxLWeMzanoedgFfrOga5zruLapxLIeB/FvgV8AgwMSL+GhE/joi2a64gIkbGJyfHPbSW7RxO4YPGg/n+BOCgiOi8luVXrfvzReteUt+yFF6TicIH23qPfx3qfe9kazu+F+Zlp0Zh+NHoonWuTw3SZq9FnGAhiTeB7SKifVGI+jyFP9J1+SuFP5oARER7CkMdFqzvhlNKf4qI8RS+/oZCmPpBSmnCmstGYXzxhcBw4MWU0sqIeIfCH3VSSi8Dx0VEK+AI4I6I2D7XW1m0nqAQtta73rV4A3gspbT/WtpvAX4OHJRSWhoRV7OOMd3r4SQK+z8rDx8tnj8rT9f13M4pWnanVRMR0YHC0JK/0jT7VfwaOp7CV///TCEYb0uh5z9YtzeAY+tpG51SenIt7f8G/FtEdKcQbOdR+PbjkyILr7dPvebWcBKFMPn6qqG6FIZXHE9hOEqdUkqv0/APW4cDM1NKH0bEuo7/mtb63lmXlNJbFIZcERF7A7+PiCms+zUgaQ32HEstQErpNWA6hQCxRf7jeEg9D7kVODkiqqJwwt0PgWdTStXr2lY+uef8iOiW7+9E4SvzZ/Ii1wGXRD5RKyK2jYhVl6nqSKHnbhHQJiIupzCGedW6T4iIzrln+N08eyWFr4//JSKG517D8ylcHeOpddXbQPcDPSPixIhom2+D4pOT/joCf88BcncKYarRonDS4NEUTsSrKrqdDRwfq18hYtVzOxQ4GCi+Lu5Xo3B5vS2A7wPPpJTeKMF+daRw3BdTGKLww/XY3fuBLhFxXkRsGREd45NLqV0H/CDyyWcR0Tki/jVP7xcRlRHRmsKQiOUUXhPrJSK6UvhQdjCfHOd+FE6ea9RVK6Kga0SMBU4FLs1N6zr+a6rvvbOuGo5a9Z6k8IElUThO61uDtNkzHEubnlVXiVh1u7uBjzseGEzhq9ixFMYg1iml9HsK43jvpNDr/EXW3qu3pg/ydp6NiA8phOI5FAIrKaW7KQSOifmr9zkUTtyDwtfjDwP/R2FowFKKvrYHDgRezF9djwOOTYWrYcyjcCLfNRROJjqEwiXvljWw5nqllD6gcCLdsRR6XN/K+7DqSh1nAVdGxAcUrjBwW1NsFziMwpCLm1NKb626Af9D4Zu9A/Nyb1EIPH+l0Dt6RkrpT0XruYXCc/53CiesnVCi/bqZwvO2AHiJTz4QrVOuZX8Kz91bFMZZ75ebx1EYtz4p1/IMhdcYFL7+v4NCMJ4LPEZhqMX6OpHCyYOT1jjW/wn0jYiKDVjn5/JrdQkwjcK3G8NSSpOgQcd/Net476zLIArvySUUjuW5KaU/r28Nkj45y12StAmKiGEUTtrqtpb28RRODPvuRixLklose44lSZKkzHAsSZIkZQ6rkCRJkjJ7jiVJkqTMcCxJkiRlm9SPgOywww6pe/fu5S5DkiRJLdiMGTP+llKq89cxN6lw3L17d6ZPn17uMiRJktSCRcRra2tzWIUabdy4cVRUVNCnTx+uvvrqcpdTUpvTvkqStDkyHKtR5syZww033MDUqVOZPXs2999/P6+88kq5yyqJzWlfJUnaXBmO1Shz585l8ODBbL311rRp04Z9992Xu+66q9xllcTmtK+SJG2uNqkxx2p+KioquOyyy1i8eDFbbbUVDz74IAMHDix3WSWxOe2rJKluy5cvZ/78+SxdurTcpagB2rVrR7du3Wjbtm2DH2M4VqP07t2biy66iBEjRtC+fXuqqqpo3bp1ucsqic1pXyVJdZs/fz4dO3ake/fuRES5y1E9UkosXryY+fPn06NHjwY/zmEVarRTTjmFGTNmMGXKFLbbbjt69uxZ7pJKZnPaV0nSpy1dupTtt9/eYNwMRATbb7/9evfy23OsRnv77bfZcccdef3117nrrrt45plnyl1SyWxO+ypJqpvBuPnYkOfKcKxGO/LII1m8eDFt27bl2muvpVOnTuUuqWQ2p32VJDU/rVu3prKykpqaGnr37s3//u//svXWW9OhQweWLFlS7vKaBcOxGu3xxx8vdwkbzea0r5Kk5merrbZi1qxZAIwcOZLrrruOb3/72yXdZkqJlBKtWrWM0botYy8kSZK0mqFDh37qevxLlixh+PDh7LbbblRWVnLvvfcCcPnll6/241aXXXYZ48aNA+AnP/kJgwYNom/fvowdOxaA6upqdtllF77+9a9TUVHBG2+8sXF2aiMwHEuSJLUwNTU1PPTQQ1RWVq42v127dtx9993MnDmTyZMnc/7555NSYvTo0dx8880ArFy5kokTJ3LCCScwadIkXn75ZaZOncqsWbNqT0oHePnllznrrLN48cUX2XnnnTf6PpaKwyokSZJaiI8//piqqiqg0HN8yimnrNaeUuLSSy9lypQptGrVigULFrBw4UK6d+/O9ttvz3PPPcfChQvp378/22+/PZMmTWLSpEn0798fKPQ8v/zyy3z+859n5513Zo899tjYu1hyhmNJkqQWonjMcV0mTJjAokWLmDFjBm3btqV79+61lzo79dRTGT9+PG+99RajR48GCmH6kksu4Rvf+MZq66murqZ9+/Yl249ycliFJEnSZuK9995jxx13pG3btkyePJnXXnuttu3www/n4YcfZtq0aRxwwAEAHHDAAfzP//xP7ZUuFixYwNtvv12W2jcWe45bmKN3u7jcJWxUJy99qdwlbDQHvXRfuUuQJDVzI0eO5JBDDqGyspKBAwfSq1ev2rYtttiC/fbbj06dOtX+AuyIESOYO3cue+65JwAdOnTg17/+dYv+hVjDsSRJUguxtmsZr5q/ww478PTTT9e5zMqVK3nmmWe4/fbbV5t/7rnncu65535q+Tlz5jSy2k2TwyokSZI2cy+99BJf+tKXGD58OF/+8pfLXU5Z2XMsSZK0mdt1113585//XO4yNgn2HEuSJEmZ4ViSJEnKDMeSJElSZjiWJEmSMsOxJElSM9KhQ4cGL3vFFVfQtWtXqqqq6NWrF2eeeSYrV65s8poeffRRDj744CZfbzkYjiVJkjZQRDTprRTGjBnDrFmzeOmll3jhhRd47LHHPrVMTU1NSbbdHBmOJUmSmrlXX32VAw88kAEDBjB06FD+9Kc/fWqZZcuWsXTpUrbbbjsAhg0bxnnnncfAgQMZN24cf/jDH+jfvz+VlZWMHj2af/zjHwB0796dsWPHsttuu1FZWVnnuotNnTqVPffck/79+7PXXnsxb948AMaPH89hhx3G/vvvT/fu3fn5z3/OVVddRf/+/dljjz34+9//Xu++3H777VRUVNCvXz/22WefJjt2azIcS5IkNXOnn34611xzDTNmzOCnP/0pZ511Vm3bz372M6qqqujSpQs9e/akqqqqtm3ZsmVMnz6db37zm4waNYrf/OY3vPDCC9TU1PCLX/yidrkddtiBmTNncuaZZ/LTn/603lp69erF448/znPPPceVV17JpZdeWts2Z84c7rrrLqZNm8Zll13G1ltvzXPPPceee+7JzTffXO++XHnllTzyyCPMnj2b++67rykOW50Mx5IkSc3YkiVLeOqppzjqqKOoqqriG9/4Bm+++WZt+6phFW+//TYffvghEydOrG075phjAJg3bx49evSgZ8+eAJx00klMmTKldrkjjjgCgAEDBlBdXV1vPe+99x5HHXUUFRUVjBkzhhdffLG2bb/99qNjx4507tyZbbfdlkMOOQSAyspKqqur692XIUOGMGrUKG644QZWrFjRiCNWP38hT5IkqRlbuXIlnTp1YtasWfUu17ZtWw488ECmTJnCscceC0D79u0btI0tt9wSgNatW69zfPL3vvc99ttvP+6++26qq6sZNmzYp9YD0KpVq9r7rVq1oqampt59ue6663j22Wd54IEHGDBgADNmzGD77bdvUP3rw55jSZKkZmybbbahR48e3H777QCklJg9e/anlksp8eSTT/LFL37xU2277LIL1dXVvPLKKwD86le/Yt99992get577z26du0KFMYZr4/69uXVV19l8ODBXHnllXTu3Jk33nhjg+pbF8OxJElSM/LRRx/RrVu32ttVV13FhAkTuPHGG+nXrx99+vTh3nvvrV1+1ZjjiooKVqxYsdp45FXatWvHTTfdxFFHHUVlZSWtWrXijDPOaHBNNTU1tb3AF154IZdccgn9+/ffoKtgrG1fvvOd71BZWUlFRQV77bUX/fr1W+91N0SklEqy4g0xcODANH369HKX0awdvdvF5S5hozp56UvlLmGjOeil0p18IElqmLlz59K7d+9yl7HJGTduHAsWLODHP/5xuUv5lLqes4iYkVIaWNfyjjmWJEnSBjvllFOYM2cOt912W7lLaRKGY0mSJG2wG2+8sdwlNCnHHEuSJEmZ4ViSJEnKDMeSJElSZjiWJEmSMsOxJElSM9KhQ4fa6QcffJCePXvy2muv1blsdXU1FRUVG7ytK664gq5du1JVVUWvXr0488wzWbly5QavryGqq6u55ZZbSrqN+ni1CkmSpA3U1L8vcNvMHzV42T/84Q+cc845PPLII+y8885NWkexMWPGcMEFF7By5Ur22WcfHnvsMfbbb7/VlqmpqaFNm6aJlavC8fHHH98k61tf9hxLkiQ1M1OmTOG0007j/vvvr/056KuuuoqKigoqKiq4+uqra5etqalh5MiR9O7dm6997Wt89NFHAMyYMYN9992XAQMGcMABB/Dmm2/Wu81ly5axdOlStttuOwCGDRvGeeedx8CBA/nBD35Ajx49WL58OQDvv/9+7f0bbriBQYMG0a9fP4488sja7Y8aNYpzzjmHvfbaiy984QvccccdAFx88cU8/vjjVFVV8bOf/axJj1tDGI4lSZKakX/84x8cdthh3HPPPfTq1QsoBN2bbrqJZ599lmeeeYYbbriB5557DoB58+Zx1llnMXfuXLbZZhv+67/+i+XLl3P22Wdzxx13MGPGDEaPHs1ll11W5/ZW/fx0ly5d6NmzJ1VVVbVty5YtY/r06YwdO5Zhw4bxwAMPADBx4kSOOOII2rZtyxFHHMG0adOYPXs2vXv3Xu26yG+++SZPPPEE999/PxdfXOiF/9GPfsTQoUOZNWsWY8aMKcUhrJfhWJIkqRlp27Yte+2112oh84knnuDwww+nffv2dOjQgSOOOILHH38cgJ122okhQ4YAcMIJJ/DEE08wb9485syZw/77709VVRX//u//zvz58+vc3pgxY5g1axZvv/02H374IRMnTqxtO+aYY2qnTz31VG666SYAbrrpJk4++WQA5syZw9ChQ6msrGTChAm8+OKLtY857LDDaNWqFbvuuisLFy5soiPUOIZjSZKkZqRVq1bcdtttTJ06lR/+8IfrXD4iPnU/pUSfPn2YNWsWs2bN4oUXXmDSpEn1rqdt27YceOCBTJkypXZe+/bta6eHDBlCdXU1jz76KCtWrKg9EXDUqFH8/Oc/54UXXmDs2LEsXbq09jFbbrll7XRKaZ37sjEYjiVJkpqZrbfemgceeIAJEyZw4403MnToUO655x4++ugjPvzwQ+6++26GDh0KwOuvv87TTz8NwC233MLee+/NLrvswqJFi2rnL1++fLUe3bqklHjyySdrxzjX5etf/zrHH398ba8xwAcffECXLl1Yvnw5EyZMWOe+dezYkQ8++GCdy5VKScNxRIyJiBcjYk5E3BoR7Uq5PUmSpM3FZz7zGR5++OHaIRGjRo1i9913Z/DgwZx66qn0798fgF122YVrr72W3r17884773DmmWeyxRZbcMcdd3DRRRfRr18/qqqqeOqpp+rczqoxxxUVFaxYsYKzzjprrTWNHDmSd955h+OOO6523ve//30GDx7MkCFDasdI16dv3760bt2afv36leWEvChVF3ZEdAWeAHZNKX0cEbcBD6aUxq/tMQMHDkzTp08vST2bi6a+pMym7uSlL5W7hI3moJfuK3cJkrTZmzt3Lr179y53GZusO+64g3vvvZdf/epX5S6lVl3PWUTMSCkNrGv5Ul/nuA2wVUQsB7YG/lri7UmSJKkMzj77bB566CEefPDBcpfSKCULxymlBRHxU+B14GNgUkqp/pHekiRJapauueaacpfQJEo25jgitgP+FegBfA5oHxEn1LHc6RExPSKmL1q0qFTlSJIkSetUyhPy/hn4S0ppUUppOXAXsNeaC6WUrk8pDUwpDezcuXMJy5EkSZLqV8pw/DqwR0RsHYUL7A0H5pZwe5IkSVKjlCwcp5SeBe4AZgIv5G1dX6rtSZIkSY1V0uscp5TGppR6pZQqUkonppT+UcrtSZIktXQRwQknfHIaV01NDZ07d+bggw8G4L777uNHP/rRWh9fXV1d++t1jTV+/Hi+9a1vNXj++ujQoUOjHr+hSn0pN0mSpBbroV0PbdL1NeSa9u3bt2fOnDl8/PHHbLXVVvzud7+ja9eute2HHnoohx7atHWVWk1NDW3abBqx1J+PliRJama++tWv8sADDwBw6623rvaLdMW9tgsXLuTwww+nX79+9OvXr/ZX8FasWMFpp51Gnz59GDFiBB9//DEAN9xwA4MGDaJfv34ceeSRfPTRRwAsWrSII488kkGDBjFo0CCefPLJBtdaXV3NV77yFfr27cvw4cN5/fXXARg1ahRnnHEGgwcP5sILL+Qvf/kLe+65J5WVlXz3u9+tffySJUsYPnw4u+22G5WVldx777216+3du3ed+9EYhmNJkqRm5thjj2XixIksXbqU559/nsGDB9e53DnnnMO+++7L7NmzmTlzJn369AHg5Zdf5pvf/CYvvvginTp14s477wTgiCOOYNq0acyePZvevXtz4403AnDuuecyZswYpk2bxp133smpp57a4FrPPvtsTjrpJJ5//nlGjhzJOeecU9s2f/58nnrqKa666irOPfdczjzzTF544QW6dOlSu0y7du24++67mTlzJpMnT+b8889n1S88r20/GmPT6L+WJElSg/Xt25fq6mpuvfVWvvrVr651uT/+8Y/cfPPNALRu3Zptt92Wd955hx49elBVVQXAgAEDqK6uBmDOnDl897vf5d1332XJkiUccMABAPz+97/npZdeql3v+++/z5IlSxpU69NPP81dd90FwIknnsiFF15Y23bUUUfRunVrAJ588snacHviiSdy0UUXAZBS4tJLL2XKlCm0atWKBQsWsHDhQoC17kdjGI4lSZKaoUMPPZQLLriARx99lMWLF6/XY7fccsva6datW9cORxg1ahT33HMP/fr1Y/z48Tz66KMArFy5kmeeeYZ27do1Wf1QGD9drHD139VNmDCBRYsWMWPGDNq2bUv37t1ZunRpvfvRGA6rkCRJaoZGjx7N2LFjqaysXOsyw4cP5xe/+AVQGGf83nvv1bvODz74gC5durB8+XImTJhQO3/EiBGr/Tz0rFmzGlznXnvtxcSJE4FC0B06dGidyw0ZMmS15VZ577332HHHHWnbti2TJ0/mtddea/C2N4ThWJIkqRnq1q3bauN36zJu3DgmT55MZWUlAwYMWG1oRF2+//3vM3jwYIYMGUKvXr1q5//nf/4n06dPp2/fvuy6665cd9119a6npqamtlf3mmuu4aabbqJv37786le/Yty4cWut9dprr6WyspIFCxbUzh85ciTTp0+nsrKSm2++ebW6SiFWDWjeFAwcODBNnz693GU0a0fvdnG5S9ioTl5a/5u8JWnI5X0kSaU1d+5cevfuXe4yNnljxozhy1/+MmeddVa5S6nzOYuIGSmlgXUt75hjSZIkNZmDDjqIZcuWccUVV5S7lA1iOJYkSVKTeeihh8pdQqM45liSJEnKDMeSJEnrYVM6X0v125DnynAsSZLUQO3atWPx4sUG5GYgpcTixYvX+9rMjjmWJElqoG7dujF//nwWLVpU7lLUAO3ataNbt27r9RjDsSRJUgO1bduWHj16lLsMlZDDKiRJkqTMcCxJkiRlhmNJkiQpMxxLkiRJmeFYkiRJygzHkiRJUmY4liRJkjLDsSRJkpQZjiVJkqTMcCxJkiRlhmNJkiQpMxxLkiRJmeFYkiRJygzHkiRJUmY4liRJkjLDsSRJkpQZjiVJkqTMcCxJkiRlhmNJkiQpMxxLkiRJmeFYkiRJygzHkiRJUmY4liRJkjLDsSRJkpQZjiVJkqTMcCxJkiRlhmNJkiQpMxxLkiRJmeFYkiRJygzHkiRJUmY4liRJkjLDsSRJkpQZjiVJkqTMcCxJkiRlhmNJkiQpMxxLkiRJmeFYkiRJygzHkiRJUmY4liRJkjLDsSRJkpQZjiVJkqTMcCxJkiRlhmNJkiQpMxxLkiRJmeFYkiRJykoajiOiU0TcERF/ioi5EbFnKbcnSZIkNUabEq9/HPBwSulrEbEFsHWJtydJkiRtsJKF44jYFtgHGAWQUloGLCvV9iRJkqTGKuWwih7AIuCmiHguIn4ZEe1LuD1JkiSpUUoZjtsAuwG/SCn1Bz4ELl5zoYg4PSKmR8T0RYsWlbAcSZIkqX6lDMfzgfkppWfz/TsohOXVpJSuTykNTCkN7Ny5cwnLkSRJkupXsnCcUnoLeCMidsmzhgMvlWp7kiRJUmOV+moVZwMT8pUq/gycXOLtSZIkSRuspOE4pTQLGFjKbUiSJElNxV/IkyRJkjLDsSRJkpQZjiVJkqTMcCxJkiRlhmNJkiQpMxxLkiRJmeFYkiRJygzHkiRJUmY4liRJkjLDsSRJkpQZjiVJkqTMcCxJkiRlhmNJkiQpMxxLkiRJmeFYkiRJygzHkiRJUtam3AW0RN27d6djx460bt2aNm3aMH369HKXJEmSpAYwHJfI5MmT2WGHHcpdhiRJktaDwyokSZKkzHBcAhHBiBEjGDBgANdff325y5EkSVIDOayiBJ544gm6du3K22+/zf7770+vXr3YZ599yl2WJEmS1sGe4xLo2rUrADvuuCOHH344U6dOLXNFkiRJagjDcRP78MMP+eCDD2qnJ02aREVFRZmrkiRJUkM4rKKJLVy4kMMPPxyAmpoajj/+eA488MAyVyVJkqSGMBw3sS984QvMnj273GVIkiRpAzisQpIkScoaFI4jYkhD5kmSJEnNWUN7jq9p4DxJkiSp2ap3zHFE7AnsBXSOiG8XNW0DtC5lYZIkSdLGtq4T8rYAOuTlOhbNfx/4WqmKkiRJksqh3nCcUnoMeCwixqeUXttINTW5iCh3CRvNUf0vKncJkiRJzVZDL+W2ZURcD3QvfkxK6SulKEqSJEkqh4aG49uB64BfAitKV44kSZJUPg0NxzUppV+UtBJJkiSpzBp6KbffRsRZEdElIj6z6lbSyiRJkqSNrKE9xyflf79TNC8BX2jaciRJkqTyaVA4Tin1KHUhkiRJUrk1KBxHxNfrmp9Surlpy5EkSZLKp6HDKgYVTbcDhgMzAcOxJEmSWoyGDqs4u/h+RHQCJpaiIEmSJKlcGnq1ijV9CDgOWZIkSS1KQ8cc/5bC1SkAWgO9gdtKVZQkSZJUDg0dc/zTouka4LWU0vwS1CNJkiSVTYOGVaSUHgP+BHQEtgOWlbIoSZIkqRwaFI4j4mhgKnAUcDTwbER8rZSFSZIkSRtbQ4dVXAYMSim9DRARnYHfA3eUqjBJkiRpY2vo1SparQrG2eL1eKwkSZLULDS05/jhiHgEuDXfPwZ4sDQlSZIkSeVRbziOiC8Bn00pfScijgD2zk1PAxNKXZwkSZK0Ma2r5/hq4BKAlNJdwF0AEVGZ2w4pYW2SJEnSRrWuccOfTSm9sObMPK97SSqSJEmSymRd4bhTPW1bNWEdkiRJUtmtKxxPj4jT1pwZEacCM0pTkiRJklQe6xpzfB5wd0SM5JMwPBDYAji8hHVJkiRJG1294TiltBDYKyL2Ayry7AdSSn8seWWSJEnSRtag6xynlCYDk0tciyRJklRW/sqdJEmSlBmOJUmSpMxwLEmSJGWGY0mSJCkreTiOiNYR8VxE3F/qbUmSJEmNsTF6js8F5m6E7UiSJEmNUtJwHBHdgH8BflnK7UiSJElNodQ9x1cDFwIrS7wdSZIkqdFKFo4j4mDg7ZTSjHUsd3pETI+I6YsWLSpVOZIkSdI6lbLneAhwaERUAxOBr0TEr9dcKKV0fUppYEppYOfOnUtYjiRJklS/koXjlNIlKaVuKaXuwLHAH1NKJ5Rqe5IkSVJjeZ1jSZIkKWuzMTaSUnoUeHRjbEuSJEnaUPYcS5IkSZnhWJIkScoMx5IkSVJmOJYkSZIyw7EkSZKUGY4lSZKkzHAsSZIkZYZjSZIkKTMcS5IkSZnhWJIkScoMx5IkSVJmOJYkSZIyw7EkSZKUGY4lSZKkzHAsSZIkZYZjSZIkKTMcS1IztHTpUnbffXf69etHnz59GDt2bLlLkqQWoU25C5Akrb8tt9ySP/7xj3To0IHly5ez9957c9BBB7HHHnuUuzRJatbsOZakZigi6NChAwDLly9n+fLlRESZq5Kk5s9wLEnN1IoVK6iqqmLHHXdk//33Z/DgweUuSZKaPcOxJDVTrVu3ZtasWcyfP5+pU6cyZ86ccpckSc2e4ViSmrlOnTqx33778fDDD5e7FElq9gzHktQMLVq0iHfffReAjz/+mN/97nf06tWrvEVJUgvg1SokqRl68803Oemkk1ixYgUrV67k6KOP5uCDDy53WZLU7BmOJakZ6tu3L88991y5y5CkFsdhFZIkSVJmOJYkSZIyw7EkSZKUGY4lSZKkzHAsSZIkZV6tQpKayNG7XVzuEjaa22b+qNwlSFJJ2HMsSZIkZYZjSZIkKTMcS5IkSZnhWJIkScoMx5IkSVJmOJYkSZIyw7EkSZKUGY4lSZKkzHAsSZIkZYZjSZIkKTMcS5IkSZnhWJIkScoMx5IkSVJmOJYkSZIyw7EkSZKUGY4lSZKkzHAsSZIkZYZjSZIkKTMcS5IkSZnhWJIkScoMx5IkSVJmOJYkSZIyw7EkSZKUGY4lSZKkzHAsSZIkZYZjSZIkKTMcS5IkSZnhWJIkScoMx5IkSVJWsnAcETtFxOSIeCkiXoyIc0u1LUmSJKkptCnhumuA81NKMyOiIzAjIn6XUnqphNuUJEmSNljJeo5TSm+mlGbm6Q+AuUDXUm1PkiRJaqyNMuY4IroD/YFnN8b2JEmSpA1R8nAcER2AO4HzUkrv19F+ekRMj4jpixYtKnU5kiRJ0lqVNBxHRFsKwXhCSumuupZJKV2fUhqYUhrYuXPnUpYjSZIk1auUV6sI4EZgbkrpqlJtR5IkSWoqpew5HgKcCHwlImbl21dLuD1JkiSpUUp2KbeU0hNAlGr9kiRJUlPzF/IkSZKkzHAsSZIkZYZjSZIkKTMcS5IkSZnhWJIkScoMx5IkSVJmOJYkSZIyw7EkSZKUGY4lSZKkzHAsSZIkZYZjSZIkKTMcS5IkSZnhWJIkScoMx5IkSVJmOJYkSZIyw7EkSZKUGY4ltRijR49mxx13pKKiotylSJKaKcOxpBZj1KhRPPzww+UuQ5LUjBmOJbUY++yzD5/5zGfKXYYkqRkzHEuSJEmZ4ViSJEnKDMeSJElSZjiWJEmSMsOxpBbjuOOOY88992TevHl069aNG2+8sdwlSZKamTblLkCSmsqtt95a7hIkSc2cPceSJElSZjiWJEmSMsOxJEmSlBmOJUmSpMxwLEmSJGWGY0klExGb1U2S1PwZjiVJkqTMcCxJkiRlhmNJkiQpMxxLkiRJmeFYkiRJygzHkiRJUmY4liRJkjLDsSRJkpQZjiVJkqTMcCxJkiRlhmNJkiQpMxxLkiRJmeFYkiRJygzHkiRJUmY4liRJkjLDsSRJkpQZjiVJkqTMcCxJkiRlhmNJkiQpMxxLkiRJmeFYkiRJygzHkiRJUmY4liRJkjLDsSRJkpQZjiVJkqTMcCxJkiRlhmNJkiQpMxxLkiRJmeFYkiRJykoajiPiwIiYFxGvRMTFpdyWJEmS1FglC8cR0Rq4FjgI2BU4LiJ2LdX2JEmSpMYqZc/x7sArKaU/p5SWAROBfy3h9iRJkqRGKWU47gq8UXR/fp4nSZIkbZIipVSaFUd8DTgwpXRqvn8iMDil9K01ljsdOD3f3QWYV5KCVGo7AH8rdxHSZsj3nlQ+vv+ar51TSp3ramhTwo0uAHYqut8tz1tNSul64PoS1qGNICKmp5QGlrsOaXPje08qH99/LVMph1VMA74cET0iYgvgWOC+Em5PkiRJapSS9RynlGoi4lvAI0Br4H9SSi+WanuSJElSY5VyWAUppQeBB0u5DW0yHBojlYfvPal8fP+1QCU7IU+SJElqbvz5aEmSJCkzHEuSJEmZ4ViSJEnKDMeS1MxFRO+I2GndS0pqShHRNyL+vdx1qGkZjtVoEbFNRPxTnu4REe3KXZO0uYiI1sD3gO9HxOfLXY+0uYiIVsBWQK+IuLzc9ajpeLUKNUpEtAGGAT2BL1H4VcQTU0pLy1mXtDmIiFYppZV5+m6gGviPlNJbZS1MauEiIlIOUBFxLHAKMCml9JPyVqamYM+xNlj+z6EGeA04HjgO+F+DsbRxFAXjE4FE4X14bUR0K2thUgtXFIwvAL4O/A04MCK+X9bC1CQMx9ogxZ+agYXAL4B7gD4RMbhouZL+0Iy0uYuIYcBFwIlAL2A5cGVEfLaMZUktUkRE0XRn4F8pdAyNBC4FekbEd8pUnpqI4VgbpOhT81nAf6WUJgA/B7YHDsljj0cA+5SxTKnFKf7jnH0AzKMwTO4dYBSwB3CjJ+lJTScPY1r1t28EsCuwHdAlf4szh8J78RQDcvNmONZ6yycAERHfAE4GrgBIKb0IXA20Bn4CjAfeKEeNUku0xjjHdhGxBYX32Aqgf0Rsk4c13UThRKGPy1et1LIUDWMaDlyeUnoMuAX4YUT0SCl9CCwA7gBuLV+laiy/8laDRUTPlNL/pZRWRER7oBI4HUgR8a08fTlwJYUT9N5NKb1WvoqllmONYPxtYE8KvcaXAhOBC4A5EZGAfSmcGPu3ctUrtRQR0QfYgULP8P7AN4H/zs03UegQmhwRtwNHA8NTSvPLUauahj3HapCIOBiYFRG3AORPyG8AD1LoJU7AVRT+QHdIKc02GEtNpygY7wMcAlwDvA48AjxJ4YPpAmBb4PSUUnV5KpVajog4iEIv8HnAdcB8oCPwFYCU0psppe8DZwKTKQTjV8pTrZqKl3LTOuVe4juBu4C9gC1SSsfntiHA7JTSknxi0PeAw1NK75epXKlFiYgvAZ2A5yn0Wp0FPJhSuja3X0qht+qYlNK84su7Sdpw+W/a9cAJKaWpEXE/cAnwLvA74IaU0v8rW4EqGcOxGiQiPge8D7Sj8Ol5eUrpuKL2CyhcRurklNLs8lQptSz5G5sfAospXMP4N8BpFMYSn7dq2EREXAkcCOwN1BiOpcaLiN7AP6WUJucfunoOmAlMp/DN+9eAu1NKl5axTJWAwyrUICmlv6aUluQ/xt8AtoiIX0PtfyBbAccbjKWmERF7URiydFJKaT8Kl2gbTuFqFNsC5+ZLSZFSuhw4KKW0zGAsNY2U0tyU0uR89xTg2pTSv1AYUtiRwnk2+0TEDuWqUaVhz7E2SP7P4CcUhlkEsI+/yiU1nRyOe6aUxuf7nYGbUkoH50u0/SfwKoVfxFtUvkqlzU9ETKJwtaa/JoNUi2PPsTZI7kF+nkIP1pEGY6nJPUthnP+qyyduCXSNiC4ppTcoDLfYmcLJsJJKZM1ri0fEkRSu6b/SYNwyeSk3bZCI2A74KjAipfRCueuRWpqU0goK4/yh8O3Mu8DfU0pvRsRJwJeBU1NK75WpRGmzUHSlmC2BE4BvUzgB9s2yFqaScViFNlhEtMs/OCBpI4iI8cCbwAgKJ78+X96KpM1HRLSlcMWYV1NK88pdj0rHcCxJm7j8tW5bYG7+d3hK6eXyViVJLZPhWJKaiYgYBUzLP9UuSSoBw7EkNRPFPyEtSSoNw7EkSZKUeSk3SZIkKTMcS5IkSZnhWJIkScoMx5LUhCIiRcT/K7p/QURc0UTrHh8RX2uidT0bEbMi4vWIWJSnZ0VE94iojojH11h+VkTMaYptS9KmzHAsSU3rH8AREbFDuQspFhGr/SJqSmlwSqkKuBz4TUqpKt+q8yIdI2Kn/NjeG7VYSSojw7EkNa0a4HpgzJoNa/b8RsSS/O+wiHgsIu6NiD9HxI8iYmRETI2IFyLii0Wr+eeImB4R/xcRB+fHt46In0TEtIh4PiK+UbTexyPiPuCl9dyP24Bj8vRxwK3r+XhJapYMx5LU9K4FRkbEtuvxmH7AGUBv4ESgZ0ppd+CXwNlFy3UHdgf+BbguItoBpwDvpZQGAYOA0yKiR15+N+DclFLP9dyHO4Ej8vQhwG/X8/GS1Cy1WfcikqT1kVJ6PyJuBs4BPm7gw6allN4EiIhXgUl5/gvAfkXL3ZZSWgm8HBF/BnoBI4C+Rb3S2wJfBpYBU1NKf9mA3VgMvBMRx1L42eqPNmAdktTsGI4lqTSuBmYCNxXNqyF/YxcRrYAtitr+UTS9suj+Slb/v3rNX25KQABnp5QeKW6IiGHAhxtSfPYbCr3goxqxDklqVhxWIUklkFL6O4Vxu6cUza4GBuTpQ4G2G7DqoyKiVR6H/AVgHvAIcGZEtAWIiJ4R0X5Day9yN/DjvH5J2izYcyxJpfP/gG8V3b8BuDciZgMPs2G9uq8DU4FtgDNSSksj4pcUxiLPjIgAFgGHNaJuAFJKHwD/AVBYrSS1fJHSmt/QSZIkSZsnh1VIkiRJmeFYkiRJygzHkiRJUmY4liRJkjLDsSRJkpQZjiVJkqTMcCxJkiRlhmNJkiQp+/+X6Ry/9ZVnfwAAAABJRU5ErkJggg==\n",
       "datasetInfos": [],
       "metadata": {},
       "removedWidgets": [],
       "type": "image"
      }
     },
     "output_type": "display_data"
    },
    {
     "output_type": "display_data",
     "data": {
      "image/png": "[encoded data removed]"
     },
     "metadata": {
      "application/vnd.databricks.v1+output": {
       "addedWidgets": {},
       "arguments": {},
       "data": "data:image/png;base64,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\n",
       "datasetInfos": [],
       "metadata": {},
       "removedWidgets": [],
       "type": "image"
      }
     },
     "output_type": "display_data"
    },
    {
     "output_type": "display_data",
     "data": {
      "image/png": "[encoded data removed]"
     },
     "metadata": {
      "application/vnd.databricks.v1+output": {
       "addedWidgets": {},
       "arguments": {},
       "data": "data:image/png;base64,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\n",
       "datasetInfos": [],
       "metadata": {},
       "removedWidgets": [],
       "type": "image"
      }
     },
     "output_type": "display_data"
    }
   ],
   "source": [
    "# Add a 'player' column to each DataFrame to identify the player\n",
    "lebron_end_season_team = lebron_end_season_team.withColumn(\"player\", lit(\"LeBron James\"))\n",
    "kobe_end_season_team = kobe_end_season_team.withColumn(\"player\", lit(\"Kobe Bryant\"))\n",
    "jordan_end_season_team = jordan_end_season_team.withColumn(\"player\", lit(\"Michael Jordan\"))\n",
    "\n",
    "# Union the three DataFrames\n",
    "combined_end_season_team = lebron_end_season_team.union(kobe_end_season_team).union(jordan_end_season_team)\n",
    "\n",
    "# Convert PySpark DataFrame to Pandas DataFrame\n",
    "combined_end_season_team_pd = combined_end_season_team.toPandas()\n",
    "\n",
    "# Display the Pandas DataFrame (optional, for checking the data)\n",
    "print(combined_end_season_team_pd)\n",
    "\n",
    "# Define the desired order for number_tm\n",
    "number_tm_order = [\"1st\", \"2nd\", \"3rd\"]\n",
    "\n",
    "# Convert the 'number_tm' column to a categorical type with the specified order\n",
    "combined_end_season_team_pd['number_tm'] = pd.Categorical(\n",
    "    combined_end_season_team_pd['number_tm'],\n",
    "    categories=number_tm_order,\n",
    "    ordered=True\n",
    ")\n",
    "\n",
    "# Create a visualization using Seaborn for 'type' and 'number_tm'\n",
    "for award_type in combined_end_season_team_pd['type'].unique():\n",
    "    subset = combined_end_season_team_pd[combined_end_season_team_pd['type'] == award_type]\n",
    "    \n",
    "    plt.figure(figsize=(12, 6))\n",
    "    barplot = sns.barplot(data=subset, x=\"number_tm\", y=\"count\", hue=\"player\", palette={\"LeBron James\": \"#000000\", \"Kobe Bryant\": \"#552583\", \"Michael Jordan\": \"#CE1141\"})\n",
    "    \n",
    "    # Add annotation\n",
    "    for p in barplot.patches:\n",
    "        barplot.annotate(format(p.get_height(), '.0f'),  # Format as integer\n",
    "                         (p.get_x() + p.get_width() / 2., p.get_height()), \n",
    "                         ha = 'center', va = 'center', \n",
    "                         xytext = (0, 9), \n",
    "                         textcoords = 'offset points')\n",
    "    \n",
    "    plt.title(f\"End of Season Team Appearances - {award_type}\")\n",
    "    plt.xlabel(\"Number TM\")\n",
    "    plt.ylabel(\"Count\")\n",
    "    plt.xticks(rotation=45)  # Rotate x-axis labels for better readability\n",
    "    plt.legend(title=\"Player\", loc='upper right')  # Place the legend at the upper right corner\n",
    "    plt.show()"
   ]
  },
  {
   "cell_type": "markdown",
   "metadata": {
    "application/vnd.databricks.v1+cell": {
     "cellMetadata": {
      "byteLimit": 2048000,
      "rowLimit": 10000
     },
     "inputWidgets": {},
     "nuid": "cc1273a8-b8d2-4cb2-92c4-c514482d53d4",
     "showTitle": false,
     "title": ""
    }
   },
   "source": [
    "<h3>Standing Team Comparisson Lebron, Kobe, Jordan<h3>"
   ]
  },
  {
   "cell_type": "code",
   "execution_count": 0,
   "metadata": {
    "application/vnd.databricks.v1+cell": {
     "cellMetadata": {
      "byteLimit": 2048000,
      "rowLimit": 10000
     },
     "collapsed": true,
     "inputWidgets": {},
     "nuid": "aa4bee18-c401-481e-821a-aade2e0e0ad6",
     "showTitle": false,
     "title": ""
    }
   },
   "outputs": [
    {
     "output_type": "display_data",
     "data": {
      "image/png": "[encoded data removed]"
     },
     "metadata": {
      "application/vnd.databricks.v1+output": {
       "addedWidgets": {},
       "arguments": {},
       "data": "data:image/png;base64,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\n",
       "datasetInfos": [],
       "metadata": {},
       "removedWidgets": [],
       "type": "image"
      }
     },
     "output_type": "display_data"
    }
   ],
   "source": [
    "# Add 'player' column to identify the player\n",
    "lebron_team_standing = lebron_team_standing.withColumn(\"player\", lit(\"LeBron James\"))\n",
    "kobe_teams_standing = kobe_teams_standing.withColumn(\"player\", lit(\"Kobe Bryant\"))\n",
    "jordan_teams_standing = jordan_teams_standing.withColumn(\"player\", lit(\"Michael Jordan\"))\n",
    "\n",
    "# Convert PySpark DataFrame to Pandas DataFrame\n",
    "lebron_team_standing_pd = lebron_team_standing.toPandas()\n",
    "kobe_teams_standing_pd = kobe_teams_standing.toPandas()\n",
    "jordan_teams_standing_pd = jordan_teams_standing.toPandas()\n",
    "\n",
    "# Add 'season_index' column with sequential numbers\n",
    "lebron_team_standing_pd['season_index'] = range(1, len(lebron_team_standing_pd) + 1)\n",
    "kobe_teams_standing_pd['season_index'] = range(1, len(kobe_teams_standing_pd) + 1)\n",
    "jordan_teams_standing_pd['season_index'] = range(1, len(jordan_teams_standing_pd) + 1)\n",
    "\n",
    "# Merge LeBron, Kobe, and Jordan DataFrames on 'season_index'\n",
    "combined_data = pd.merge(\n",
    "    lebron_team_standing_pd[['season_index', 'standing']].rename(columns={'standing': 'lebron_standing'}),\n",
    "    kobe_teams_standing_pd[['season_index', 'standing']].rename(columns={'standing': 'kobe_standing'}),\n",
    "    on='season_index',\n",
    "    how='outer'\n",
    ")\n",
    "combined_data = pd.merge(\n",
    "    combined_data,\n",
    "    jordan_teams_standing_pd[['season_index', 'standing']].rename(columns={'standing': 'jordan_standing'}),\n",
    "    on='season_index',\n",
    "    how='outer'\n",
    ")\n",
    "\n",
    "# Create plot\n",
    "plt.figure(figsize=(12, 6))\n",
    "\n",
    "# Create a color palette for specific players\n",
    "palette = {\n",
    "    \"LeBron James\": \"#000000\",    # Black\n",
    "    \"Kobe Bryant\": \"#552583\",     # Purple\n",
    "    \"Michael Jordan\": \"#CE1141\"   # Red\n",
    "}\n",
    "\n",
    "# Plot for LeBron James\n",
    "plt.plot(combined_data['season_index'], combined_data['lebron_standing'], marker='o', linestyle='-', color=palette[\"LeBron James\"], label='LeBron James')\n",
    "\n",
    "# Plot for Kobe Bryant\n",
    "plt.plot(combined_data['season_index'], combined_data['kobe_standing'], marker='o', linestyle='-', color=palette[\"Kobe Bryant\"], label='Kobe Bryant')\n",
    "\n",
    "# Plot for Michael Jordan\n",
    "plt.plot(combined_data['season_index'], combined_data['jordan_standing'], marker='o', linestyle='-', color=palette[\"Michael Jordan\"], label='Michael Jordan')\n",
    "\n",
    "# Invert y-axis to have 1 at the top\n",
    "plt.gca().invert_yaxis()\n",
    "\n",
    "# Set title and labels\n",
    "plt.title(\"Team Standings by Season for LeBron James, Kobe Bryant, and Michael Jordan\")\n",
    "plt.xlabel(\"Season (1st, 2nd, 3rd, ...)\")\n",
    "plt.ylabel(\"Standing\")\n",
    "\n",
    "# Set x-axis ticks as sequential numbers\n",
    "plt.xticks(ticks=range(1, int(combined_data['season_index'].max()) + 1))\n",
    "\n",
    "# Set y-axis ticks as 1, 2, 3, ...\n",
    "plt.yticks(ticks=range(1, int(combined_data[['lebron_standing', 'kobe_standing', 'jordan_standing']].max().max()) + 1))\n",
    "\n",
    "# Add legend and grid\n",
    "plt.legend(title=\"Player\", loc='upper right')\n",
    "plt.grid(True)\n",
    "\n",
    "# Show plot\n",
    "plt.show()"
   ]
  },
  {
   "cell_type": "markdown",
   "metadata": {
    "application/vnd.databricks.v1+cell": {
     "cellMetadata": {
      "byteLimit": 2048000,
      "rowLimit": 10000
     },
     "inputWidgets": {},
     "nuid": "7f947b41-e031-4329-aed1-3309582d1088",
     "showTitle": false,
     "title": ""
    }
   },
   "source": [
    "<h3>Playoff Percentage Comparisson Lebron, Kobe, Jordan<h3>"
   ]
  },
  {
   "cell_type": "code",
   "execution_count": 0,
   "metadata": {
    "application/vnd.databricks.v1+cell": {
     "cellMetadata": {
      "byteLimit": 2048000,
      "rowLimit": 10000
     },
     "collapsed": true,
     "inputWidgets": {},
     "nuid": "d3469303-8c81-4c1c-ab20-32a3ba068e83",
     "showTitle": false,
     "title": ""
    }
   },
   "outputs": [
    {
     "output_type": "stream",
     "name": "stdout",
     "output_type": "stream",
     "text": [
      "+--------------+-------------+---------------+------------------+\n|        Player|Total Seasons|Playoff Seasons|Playoff Percentage|\n+--------------+-------------+---------------+------------------+\n|Michael Jordan|           15|             13|              86.7|\n|   Kobe Bryant|           20|             16|              80.0|\n|  LeBron James|           21|             15|              71.4|\n+--------------+-------------+---------------+------------------+\n\n"
     ]
    },
    {
     "output_type": "display_data",
     "data": {
      "image/png": "[encoded data removed]"
     },
     "metadata": {
      "application/vnd.databricks.v1+output": {
       "addedWidgets": {},
       "arguments": {},
       "data": "data:image/png;base64,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\n",
       "datasetInfos": [],
       "metadata": {},
       "removedWidgets": [],
       "type": "image"
      }
     },
     "output_type": "display_data"
    }
   ],
   "source": [
    "# Function to calculate playoff success percentage\n",
    "def calculate_playoff_percentage(df, player_name):\n",
    "    \"\"\"\n",
    "    Function to calculate the playoff participation percentage for a given player.\n",
    "    \n",
    "    Args:\n",
    "    df (DataFrame): The DataFrame containing player statistics, including a column indicating playoff seasons.\n",
    "    player_name (str): The name of the player for whom the playoff percentage is to be calculated.\n",
    "    \n",
    "    Returns:\n",
    "    tuple: A tuple containing the player's name, the total number of seasons, the number of playoff seasons, \n",
    "           and the playoff percentage (in percent).\n",
    "    \"\"\"\n",
    "    total_seasons = df.count()\n",
    "    playoff_seasons = df.filter(df.playoffs == True).count()\n",
    "    percentage = (playoff_seasons / total_seasons) * 100\n",
    "    return player_name, total_seasons, playoff_seasons, percentage\n",
    "\n",
    "\n",
    "# Initialize Spark session\n",
    "spark = SparkSession.builder.appName(\"Playoff Success\").getOrCreate()\n",
    "\n",
    "# Calculate playoff success percentage for each player\n",
    "jordan_percentage = calculate_playoff_percentage(jordan_teams_standing, \"Michael Jordan\")\n",
    "kobe_percentage = calculate_playoff_percentage(kobe_teams_standing, \"Kobe Bryant\")\n",
    "lebron_percentage = calculate_playoff_percentage(lebron_team_standing, \"LeBron James\")\n",
    "\n",
    "# Create a DataFrame to display the results\n",
    "playoff_percentages = spark.createDataFrame(\n",
    "    [jordan_percentage, kobe_percentage, lebron_percentage],\n",
    "    [\"Player\", \"Total Seasons\", \"Playoff Seasons\", \"Playoff Percentage\"]\n",
    ")\n",
    "\n",
    "# Round the playoff percentage to 1 decimal place\n",
    "playoff_percentages = playoff_percentages.withColumn(\"Playoff Percentage\", round(playoff_percentages[\"Playoff Percentage\"], 1))\n",
    "\n",
    "# Show the results\n",
    "playoff_percentages.show()\n",
    "\n",
    "# Collect data for plotting\n",
    "data = playoff_percentages.collect()\n",
    "\n",
    "# Reorder data to LeBron, Kobe, and Jordan\n",
    "ordered_players = [\"LeBron James\", \"Kobe Bryant\", \"Michael Jordan\"]\n",
    "ordered_data = sorted(data, key=lambda row: ordered_players.index(row[\"Player\"]))\n",
    "\n",
    "# Extract reordered players and percentages\n",
    "players = [row[\"Player\"] for row in ordered_data]\n",
    "percentages = [row[\"Playoff Percentage\"] for row in ordered_data]\n",
    "\n",
    "# Define color palette\n",
    "palette = {\"LeBron James\": \"#000000\", \"Kobe Bryant\": \"#552583\", \"Michael Jordan\": \"#CE1141\"}\n",
    "colors = [palette[player] for player in players]\n",
    "\n",
    "# Plotting the bar chart\n",
    "plt.figure(figsize=(10, 6))\n",
    "bars = plt.bar(players, percentages, color=colors)\n",
    "plt.xlabel('Player')\n",
    "plt.ylabel('Playoff Percentage')\n",
    "plt.title('Playoff Success Percentage of Michael Jordan, Kobe Bryant, and LeBron James')\n",
    "plt.ylim(0, 100)  # Set y-axis range from 0 to 100\n",
    "\n",
    "# Add percentage labels on top of each bar\n",
    "for bar, percentage in zip(bars, percentages):\n",
    "    yval = bar.get_height()\n",
    "    plt.text(bar.get_x() + bar.get_width()/2, yval + 1, f'{percentage}%', ha='center', va='bottom')\n",
    "\n",
    "# Show the plot\n",
    "plt.show()"
   ]
  },
  {
   "cell_type": "markdown",
   "metadata": {
    "application/vnd.databricks.v1+cell": {
     "cellMetadata": {},
     "inputWidgets": {},
     "nuid": "9485971d-c366-41b8-9ee2-f7be614ba7e3",
     "showTitle": false,
     "title": ""
    }
   },
   "source": [
    "<h3>Best Stat Each Season Comparisson Lebron, Kobe, Jordan<h3>"
   ]
  },
  {
   "cell_type": "code",
   "execution_count": 0,
   "metadata": {
    "application/vnd.databricks.v1+cell": {
     "cellMetadata": {
      "byteLimit": 2048000,
      "rowLimit": 10000
     },
     "collapsed": true,
     "inputWidgets": {},
     "nuid": "e8b98845-0ac4-43f4-bea0-2d79a115ded8",
     "showTitle": false,
     "title": ""
    }
   },
   "outputs": [
    {
     "output_type": "display_data",
     "data": {
      "image/png": "[encoded data removed]"
     },
     "metadata": {
      "application/vnd.databricks.v1+output": {
       "addedWidgets": {},
       "arguments": {},
       "data": "data:image/png;base64,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\n",
       "datasetInfos": [],
       "metadata": {},
       "removedWidgets": [],
       "type": "image"
      }
     },
     "output_type": "display_data"
    }
   ],
   "source": [
    "# Define the color palette\n",
    "palette = {\"LeBron James\": \"#000000\", \"Kobe Bryant\": \"#552583\", \"Michael Jordan\": \"#CE1141\"}\n",
    "\n",
    "def get_max_stats(df):\n",
    "    \"\"\"\n",
    "    Function to get the maximum values for avg_pts, avg_trb, avg_ast, avg_stl, avg_blk, avg_tov, and GmSc columns.\n",
    "    \n",
    "    Args:\n",
    "    df (DataFrame): The DataFrame containing player statistics.\n",
    "    \n",
    "    Returns:\n",
    "    DataFrame: A DataFrame containing the maximum values for each column.\n",
    "    \"\"\"\n",
    "    return df.agg(\n",
    "        max(\"avg_pts\").alias(\"max_avg_pts\"),\n",
    "        max(\"avg_trb\").alias(\"max_avg_trb\"),\n",
    "        max(\"avg_ast\").alias(\"max_avg_ast\"),\n",
    "        max(\"avg_stl\").alias(\"max_avg_stl\"),\n",
    "        max(\"avg_blk\").alias(\"max_avg_blk\"),\n",
    "        max(\"avg_tov\").alias(\"max_avg_tov\"),\n",
    "        max(\"GmSc\").alias(\"max_GmSc\")\n",
    "    ).toPandas()\n",
    "\n",
    "# Example DataFrames (lebron_stat_each_season, kobe_stat_each_season, jordan_stat_each_season)\n",
    "# Replace these with your actual DataFrame definitions\n",
    "\n",
    "# Get maximum statistics for each player\n",
    "max_lebron_stats = get_max_stats(lebron_stat_each_season)\n",
    "max_kobe_stats = get_max_stats(kobe_stat_each_season)\n",
    "max_jordan_stats = get_max_stats(jordan_stat_each_season)\n",
    "\n",
    "# Convert to DataFrame for plotting\n",
    "max_stats_df = pd.DataFrame({\n",
    "    \"Metric\": [\"avg_pts\", \"avg_trb\", \"avg_ast\", \"avg_stl\", \"avg_blk\", \"avg_tov\", \"GmSc\"],\n",
    "    \"LeBron James\": max_lebron_stats.iloc[0],\n",
    "    \"Kobe Bryant\": max_kobe_stats.iloc[0],\n",
    "    \"Michael Jordan\": max_jordan_stats.iloc[0]\n",
    "})\n",
    "\n",
    "# Plotting\n",
    "fig, ax = plt.subplots(figsize=(10, 6))\n",
    "\n",
    "# Plot each metric\n",
    "bar_width = 0.25  # width of the bars\n",
    "x = range(len(max_stats_df[\"Metric\"]))  # x locations for the groups\n",
    "\n",
    "for i, player in enumerate(palette.keys()):\n",
    "    bars = ax.bar(\n",
    "        [p + i * bar_width for p in x], \n",
    "        max_stats_df[player], \n",
    "        width=bar_width, \n",
    "        label=player, \n",
    "        color=palette[player]\n",
    "    )\n",
    "    # Add text labels\n",
    "    for bar in bars:\n",
    "        yval = bar.get_height()\n",
    "        ax.text(\n",
    "            bar.get_x() + bar.get_width() / 2, \n",
    "            yval + 0.1,  # adjust the y position of the text to be above the bar\n",
    "            f'{yval:.1f}',  # format to 1 decimal place\n",
    "            ha='center', \n",
    "            va='bottom'\n",
    "        )\n",
    "\n",
    "# Customize the plot\n",
    "ax.set_xlabel(\"Metrics\")\n",
    "ax.set_ylabel(\"Maximum Value\")\n",
    "ax.set_title(\"Maximum Stats Comparison: LeBron James, Kobe Bryant, and Michael Jordan\")\n",
    "ax.legend()\n",
    "ax.set_xticks([p + bar_width for p in x])\n",
    "ax.set_xticklabels(max_stats_df[\"Metric\"])\n",
    "plt.xticks(rotation=45)\n",
    "plt.tight_layout()\n",
    "\n",
    "# Show the plot\n",
    "plt.show()"
   ]
  },
  {
   "cell_type": "markdown",
   "metadata": {
    "application/vnd.databricks.v1+cell": {
     "cellMetadata": {},
     "inputWidgets": {},
     "nuid": "a0fa8d45-87c2-4214-bd94-f5d2c53a1380",
     "showTitle": false,
     "title": ""
    }
   },
   "source": [
    "<h3>Total Stat Comparisson Lebron, Kobe, Jordan<h3>"
   ]
  },
  {
   "cell_type": "code",
   "execution_count": 0,
   "metadata": {
    "application/vnd.databricks.v1+cell": {
     "cellMetadata": {
      "byteLimit": 2048000,
      "rowLimit": 10000
     },
     "collapsed": true,
     "inputWidgets": {},
     "nuid": "771ab960-0960-4a2c-87b9-ca6af0f8886c",
     "showTitle": false,
     "title": ""
    }
   },
   "outputs": [
    {
     "output_type": "display_data",
     "data": {
      "image/png": "[encoded data removed]"
     },
     "metadata": {
      "application/vnd.databricks.v1+output": {
       "addedWidgets": {},
       "arguments": {},
       "data": "data:image/png;base64,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\n",
       "datasetInfos": [],
       "metadata": {},
       "removedWidgets": [],
       "type": "image"
      }
     },
     "output_type": "display_data"
    }
   ],
   "source": [
    "# Define the color palette\n",
    "palette = {\"LeBron James\": \"#000000\", \"Kobe Bryant\": \"#552583\", \"Michael Jordan\": \"#CE1141\"}\n",
    "\n",
    "# Assuming you have already created the DataFrames for LeBron, Kobe, and Jordan\n",
    "# Combine the DataFrames for LeBron, Kobe, and Jordan\n",
    "lebron_total_stat = lebron_total_stat.withColumn(\"player_name\", lit(\"LeBron James\"))\n",
    "kobe_total_stat = kobe_total_stat.withColumn(\"player_name\", lit(\"Kobe Bryant\"))\n",
    "jordan_total_stat = jordan_total_stat.withColumn(\"player_name\", lit(\"Michael Jordan\"))\n",
    "\n",
    "# Union all DataFrames\n",
    "combined_stats = lebron_total_stat.union(kobe_total_stat).union(jordan_total_stat)\n",
    "\n",
    "# Convert to Pandas DataFrame for plotting\n",
    "combined_stats_pd = combined_stats.toPandas()\n",
    "\n",
    "# Reshape the DataFrame to have metrics in rows\n",
    "combined_stats_melted = combined_stats_pd.melt(id_vars=[\"player_name\"], \n",
    "                                                value_vars=[\"total_pts\", \"total_rebound\", \"total_ast\", \"total_steal\", \"total_block\", \"total_turnover\"],\n",
    "                                                var_name=\"Metric\",\n",
    "                                                value_name=\"Value\")\n",
    "\n",
    "# Define a function to format the numbers with 1 decimal place\n",
    "def format_func(value, tick_number):\n",
    "    if value >= 1000:\n",
    "        return f'{value/1000:.1f}K'\n",
    "    return f'{value:.1f}'\n",
    "\n",
    "# Plotting\n",
    "plt.figure(figsize=(12, 7))\n",
    "\n",
    "# Plot each metric\n",
    "sns.barplot(data=combined_stats_melted, x=\"Metric\", y=\"Value\", hue=\"player_name\", palette=palette)\n",
    "\n",
    "# Add text labels\n",
    "for p in plt.gca().patches:\n",
    "    height = p.get_height()\n",
    "    plt.gca().text(\n",
    "        p.get_x() + p.get_width() / 2., height + 0.5, \n",
    "        f'{height/1000:.1f}K',  # Format label as K with 1 decimal place\n",
    "        ha='center', va='bottom'\n",
    "    )\n",
    "\n",
    "# Customize the plot\n",
    "plt.xlabel(\"Metrics\")\n",
    "plt.ylabel(\"Total Value\")\n",
    "plt.title(\"Total Stats Comparison: LeBron James, Kobe Bryant, and Michael Jordan\")\n",
    "plt.legend(title='Player')\n",
    "plt.xticks(rotation=45)\n",
    "plt.gca().yaxis.set_major_formatter(FuncFormatter(format_func))  # Apply the formatter to the y-axis\n",
    "plt.tight_layout()\n",
    "\n",
    "# Show the plot\n",
    "plt.show()"
   ]
  },
  {
   "cell_type": "code",
   "execution_count": 0,
   "metadata": {
    "application/vnd.databricks.v1+cell": {
     "cellMetadata": {
      "byteLimit": 2048000,
      "rowLimit": 10000
     },
     "inputWidgets": {},
     "nuid": "5becfc4e-35e3-4079-8e32-77a96a1a117a",
     "showTitle": false,
     "title": ""
    }
   },
   "outputs": [
    {
     "output_type": "display_data",
     "data": {
      "image/png": "[encoded data removed]"
     },
     "metadata": {
      "application/vnd.databricks.v1+output": {
       "addedWidgets": {},
       "arguments": {},
       "data": "data:image/png;base64,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\n",
       "datasetInfos": [],
       "metadata": {},
       "removedWidgets": [],
       "type": "image"
      }
     },
     "output_type": "display_data"
    }
   ],
   "source": [
    "# Define the color palette\n",
    "palette = {\"LeBron James\": \"#000000\", \"Kobe Bryant\": \"#552583\", \"Michael Jordan\": \"#CE1141\"}\n",
    "\n",
    "# Define the average rankings function\n",
    "def average_rankings(df, player_name):\n",
    "    \"\"\"\n",
    "    Function to calculate the average ranking for each statistic column in the given DataFrame,\n",
    "    and round the results to the nearest integer.\n",
    "\n",
    "    Args:\n",
    "    df (DataFrame): The DataFrame containing player rankings.\n",
    "    player_name (str): The name of the player to be used for identification in the output.\n",
    "\n",
    "    Returns:\n",
    "    DataFrame: A DataFrame containing the rounded average rankings for each statistic.\n",
    "    \"\"\"\n",
    "    avg_rankings = df.agg(\n",
    "        avg(\"standing_pts\").alias(\"avg_standing_pts\"),\n",
    "        avg(\"standing_ast\").alias(\"avg_standing_ast\"),\n",
    "        avg(\"standing_rebound\").alias(\"avg_standing_rebound\"),\n",
    "        avg(\"standing_block\").alias(\"avg_standing_block\"),\n",
    "        avg(\"standing_steal\").alias(\"avg_standing_steal\"),\n",
    "        avg(\"standing_turnover\").alias(\"avg_standing_turnover\")\n",
    "    )\n",
    "    \n",
    "    avg_rankings_pd = avg_rankings.toPandas()\n",
    "    \n",
    "    # Round the results to the nearest integer\n",
    "    avg_rankings_pd = avg_rankings_pd.round().astype(int)\n",
    "    \n",
    "    avg_rankings_pd[\"Player\"] = player_name\n",
    "    return avg_rankings_pd\n",
    "\n",
    "# Example usage for LeBron James, Kobe Bryant, and Michael Jordan\n",
    "# Assume `lebron_rank_each_season`, `kobe_rank_each_season`, `jordan_rank_each_season` are your DataFrames\n",
    "\n",
    "# Calculate average rankings for LeBron James\n",
    "avg_lebron_pd = average_rankings(lebron_rank_each_season, \"LeBron James\")\n",
    "\n",
    "# Calculate average rankings for Kobe Bryant\n",
    "avg_kobe_pd = average_rankings(kobe_rank_each_season, \"Kobe Bryant\")\n",
    "\n",
    "# Calculate average rankings for Michael Jordan\n",
    "avg_jordan_pd = average_rankings(jordan_rank_each_season, \"Michael Jordan\")\n",
    "\n",
    "# Combine all DataFrames into a single DataFrame\n",
    "combined_avg_df = pd.concat([avg_lebron_pd, avg_kobe_pd, avg_jordan_pd], ignore_index=True)\n",
    "\n",
    "# Melt the DataFrame for dot plot\n",
    "combined_avg_df_melted = combined_avg_df.melt(id_vars=\"Player\", var_name=\"Metric\", value_name=\"Average_Ranking\")\n",
    "\n",
    "# Define a consistent offset for jitter\n",
    "metrics = combined_avg_df_melted[\"Metric\"].unique()\n",
    "metric_positions = {metric: idx for idx, metric in enumerate(metrics)}\n",
    "offset = 0.35\n",
    "\n",
    "# Add consistent offset based on the metric\n",
    "def apply_jitter(row):\n",
    "    base_position = metric_positions[row['Metric']]\n",
    "    return base_position + (np.random.uniform(-offset, offset) if row['Player'] == row['Player'] else 0)\n",
    "\n",
    "combined_avg_df_melted['Metric_Jittered'] = combined_avg_df_melted.apply(apply_jitter, axis=1)\n",
    "\n",
    "# Plotting\n",
    "plt.figure(figsize=(12, 7))\n",
    "\n",
    "# Plot each player's average rankings with jitter\n",
    "sns.scatterplot(data=combined_avg_df_melted, x=\"Metric_Jittered\", y=\"Average_Ranking\", hue=\"Player\", palette=palette, style=\"Player\", s=100)\n",
    "\n",
    "# Customize the plot\n",
    "plt.xlabel('Metrics')\n",
    "plt.ylabel('Average Ranking (Rounded)')\n",
    "plt.title('Average Ranking Comparison: LeBron James, Kobe Bryant, and Michael Jordan')\n",
    "plt.gca().invert_yaxis()  # Lower ranks should be at the top\n",
    "\n",
    "# Add vertical dashed lines to separate each metric\n",
    "for i in range(len(metrics) - 1):\n",
    "    plt.axvline(x=i + 0.5, color='gray', linestyle='--', linewidth=0.8)\n",
    "\n",
    "# Add horizontal grid lines\n",
    "plt.grid(True, which='both', axis='y', linestyle='--', linewidth=0.5)\n",
    "\n",
    "# Set x-axis labels to be centered on each metric\n",
    "plt.xticks(ticks=np.arange(len(metrics)), labels=metrics, rotation=45)\n",
    "\n",
    "# Remove text labels from dots\n",
    "plt.legend(loc='lower right')\n",
    "plt.tight_layout()\n",
    "plt.show()"
   ]
  },
  {
   "cell_type": "code",
   "execution_count": 0,
   "metadata": {
    "application/vnd.databricks.v1+cell": {
     "cellMetadata": {},
     "inputWidgets": {},
     "nuid": "0687a6ab-e8e8-4469-af40-d43c72c263a3",
     "showTitle": false,
     "title": ""
    }
   },
   "outputs": [],
   "source": []
  }
 ],
 "metadata": {
  "application/vnd.databricks.v1+notebook": {
   "dashboards": [],
   "environmentMetadata": null,
   "language": "python",
   "notebookMetadata": {
    "mostRecentlyExecutedCommandWithImplicitDF": {
     "commandId": 1064342858305832,
     "dataframes": [
      "_sqldf"
     ]
    },
    "pythonIndentUnit": 4
   },
   "notebookName": "nba-spark-databricks-project",
   "widgets": {}
  }
 },
 "nbformat": 4,
 "nbformat_minor": 0
}
